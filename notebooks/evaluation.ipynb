{
 "cells": [
  {
   "cell_type": "markdown",
   "id": "a0e03fe7",
   "metadata": {},
   "source": [
    "### W&B Run Analysis in Jupyter Notebook"
   ]
  },
  {
   "cell_type": "code",
   "execution_count": 1,
   "id": "6b5b85f4",
   "metadata": {
    "vscode": {
     "languageId": "shellscript"
    }
   },
   "outputs": [],
   "source": [
    "# Install if needed (run only once per environment)\n",
    "# !pip install wandb pandas matplotlib seaborn\n",
    "\n",
    "import wandb\n",
    "import pandas as pd\n",
    "import matplotlib.pyplot as plt\n",
    "import seaborn as sns\n",
    "\n",
    "# Set display options for wide DataFrames\n",
    "pd.set_option('display.max_columns', 50)"
   ]
  },
  {
   "cell_type": "markdown",
   "id": "b42c10dc",
   "metadata": {},
   "source": [
    "#### Connect to W&B and Download Runs\n",
    "Define project names:"
   ]
  },
  {
   "cell_type": "code",
   "execution_count": 2,
   "id": "49947268",
   "metadata": {
    "vscode": {
     "languageId": "shellscript"
    }
   },
   "outputs": [],
   "source": [
    "# Define your project names (from the URLs)\n",
    "project1 = \"tkshfj-bsc-computer-science-university-of-london/baseline_cnn_2_conv_layers\"\n",
    "project2 = \"tkshfj-bsc-computer-science-university-of-london/baseline_cnn_dropout_augmentation\"\n",
    "\n",
    "api = wandb.Api()"
   ]
  },
  {
   "cell_type": "markdown",
   "id": "f26adf44",
   "metadata": {},
   "source": [
    "#### Download runs as DataFrames:"
   ]
  },
  {
   "cell_type": "code",
   "execution_count": 3,
   "id": "7dc7ddcb",
   "metadata": {
    "vscode": {
     "languageId": "shellscript"
    }
   },
   "outputs": [],
   "source": [
    "def fetch_runs_df(project):\n",
    "    runs = api.runs(project)\n",
    "    records = []\n",
    "    for run in runs:\n",
    "        summary = dict(run.summary)\n",
    "        config = dict(run.config)\n",
    "        # Remove W&B internal keys\n",
    "        config = {k: v for k, v in config.items() if not k.startswith('_')}\n",
    "        entry = {\n",
    "            'run_id': run.id,\n",
    "            'run_name': run.name,\n",
    "            'state': run.state,\n",
    "            **config,\n",
    "            **summary\n",
    "        }\n",
    "        records.append(entry)\n",
    "    return pd.DataFrame(records)\n",
    "\n",
    "df1 = fetch_runs_df(project1)\n",
    "df2 = fetch_runs_df(project2)"
   ]
  },
  {
   "cell_type": "markdown",
   "id": "92471066",
   "metadata": {},
   "source": [
    "#### Preview the Results"
   ]
  },
  {
   "cell_type": "code",
   "execution_count": 4,
   "id": "584cef90",
   "metadata": {
    "vscode": {
     "languageId": "shellscript"
    }
   },
   "outputs": [
    {
     "name": "stdout",
     "output_type": "stream",
     "text": [
      "Project 1 shape: (1, 24)\n",
      "Project 2 shape: (82, 28)\n"
     ]
    },
    {
     "data": {
      "text/html": [
       "<div>\n",
       "<style scoped>\n",
       "    .dataframe tbody tr th:only-of-type {\n",
       "        vertical-align: middle;\n",
       "    }\n",
       "\n",
       "    .dataframe tbody tr th {\n",
       "        vertical-align: top;\n",
       "    }\n",
       "\n",
       "    .dataframe thead th {\n",
       "        text-align: right;\n",
       "    }\n",
       "</style>\n",
       "<table border=\"1\" class=\"dataframe\">\n",
       "  <thead>\n",
       "    <tr style=\"text-align: right;\">\n",
       "      <th></th>\n",
       "      <th>run_id</th>\n",
       "      <th>run_name</th>\n",
       "      <th>state</th>\n",
       "      <th>epochs</th>\n",
       "      <th>optimizer</th>\n",
       "      <th>batch_size</th>\n",
       "      <th>architecture</th>\n",
       "      <th>learning_rate</th>\n",
       "      <th>_runtime</th>\n",
       "      <th>_step</th>\n",
       "      <th>_timestamp</th>\n",
       "      <th>_wandb</th>\n",
       "      <th>epoch/accuracy</th>\n",
       "      <th>epoch/auc</th>\n",
       "      <th>epoch/epoch</th>\n",
       "      <th>epoch/learning_rate</th>\n",
       "      <th>epoch/loss</th>\n",
       "      <th>epoch/precision</th>\n",
       "      <th>epoch/recall</th>\n",
       "      <th>epoch/val_accuracy</th>\n",
       "      <th>epoch/val_auc</th>\n",
       "      <th>epoch/val_loss</th>\n",
       "      <th>epoch/val_precision</th>\n",
       "      <th>epoch/val_recall</th>\n",
       "    </tr>\n",
       "  </thead>\n",
       "  <tbody>\n",
       "    <tr>\n",
       "      <th>0</th>\n",
       "      <td>tleukzob</td>\n",
       "      <td>classic-surf-1</td>\n",
       "      <td>finished</td>\n",
       "      <td>20</td>\n",
       "      <td>Adam</td>\n",
       "      <td>8</td>\n",
       "      <td>shallow_cnn</td>\n",
       "      <td>0.0001</td>\n",
       "      <td>0.793954</td>\n",
       "      <td>12</td>\n",
       "      <td>1.749421e+09</td>\n",
       "      <td>{'runtime': 0}</td>\n",
       "      <td>0.953</td>\n",
       "      <td>0.990232</td>\n",
       "      <td>12</td>\n",
       "      <td>0.0001</td>\n",
       "      <td>0.15237</td>\n",
       "      <td>0.936255</td>\n",
       "      <td>0.950647</td>\n",
       "      <td>0.728362</td>\n",
       "      <td>0.791855</td>\n",
       "      <td>0.714357</td>\n",
       "      <td>0.693727</td>\n",
       "      <td>0.608414</td>\n",
       "    </tr>\n",
       "  </tbody>\n",
       "</table>\n",
       "</div>"
      ],
      "text/plain": [
       "     run_id        run_name     state  epochs optimizer  batch_size  \\\n",
       "0  tleukzob  classic-surf-1  finished      20      Adam           8   \n",
       "\n",
       "  architecture  learning_rate  _runtime  _step    _timestamp          _wandb  \\\n",
       "0  shallow_cnn         0.0001  0.793954     12  1.749421e+09  {'runtime': 0}   \n",
       "\n",
       "   epoch/accuracy  epoch/auc  epoch/epoch  epoch/learning_rate  epoch/loss  \\\n",
       "0           0.953   0.990232           12               0.0001     0.15237   \n",
       "\n",
       "   epoch/precision  epoch/recall  epoch/val_accuracy  epoch/val_auc  \\\n",
       "0         0.936255      0.950647            0.728362       0.791855   \n",
       "\n",
       "   epoch/val_loss  epoch/val_precision  epoch/val_recall  \n",
       "0        0.714357             0.693727          0.608414  "
      ]
     },
     "metadata": {},
     "output_type": "display_data"
    },
    {
     "data": {
      "text/html": [
       "<div>\n",
       "<style scoped>\n",
       "    .dataframe tbody tr th:only-of-type {\n",
       "        vertical-align: middle;\n",
       "    }\n",
       "\n",
       "    .dataframe tbody tr th {\n",
       "        vertical-align: top;\n",
       "    }\n",
       "\n",
       "    .dataframe thead th {\n",
       "        text-align: right;\n",
       "    }\n",
       "</style>\n",
       "<table border=\"1\" class=\"dataframe\">\n",
       "  <thead>\n",
       "    <tr style=\"text-align: right;\">\n",
       "      <th></th>\n",
       "      <th>run_id</th>\n",
       "      <th>run_name</th>\n",
       "      <th>state</th>\n",
       "      <th>epochs</th>\n",
       "      <th>dropout</th>\n",
       "      <th>filters</th>\n",
       "      <th>batch_size</th>\n",
       "      <th>kernel_size</th>\n",
       "      <th>learning_rate</th>\n",
       "      <th>_runtime</th>\n",
       "      <th>_step</th>\n",
       "      <th>_timestamp</th>\n",
       "      <th>_wandb</th>\n",
       "      <th>epoch/accuracy</th>\n",
       "      <th>epoch/auc</th>\n",
       "      <th>epoch/epoch</th>\n",
       "      <th>epoch/learning_rate</th>\n",
       "      <th>epoch/loss</th>\n",
       "      <th>epoch/precision</th>\n",
       "      <th>epoch/recall</th>\n",
       "      <th>epoch/val_accuracy</th>\n",
       "      <th>epoch/val_auc</th>\n",
       "      <th>epoch/val_loss</th>\n",
       "      <th>epoch/val_precision</th>\n",
       "      <th>epoch/val_recall</th>\n",
       "      <th>zoom</th>\n",
       "      <th>rotation</th>\n",
       "      <th>translation</th>\n",
       "    </tr>\n",
       "  </thead>\n",
       "  <tbody>\n",
       "    <tr>\n",
       "      <th>0</th>\n",
       "      <td>h6zl7pfq</td>\n",
       "      <td>rural-sweep-1</td>\n",
       "      <td>finished</td>\n",
       "      <td>20</td>\n",
       "      <td>0.333958</td>\n",
       "      <td>64</td>\n",
       "      <td>32</td>\n",
       "      <td>5</td>\n",
       "      <td>0.000040</td>\n",
       "      <td>4444.800095</td>\n",
       "      <td>19</td>\n",
       "      <td>1.748770e+09</td>\n",
       "      <td>{'runtime': 4444}</td>\n",
       "      <td>0.769667</td>\n",
       "      <td>0.848177</td>\n",
       "      <td>19</td>\n",
       "      <td>0.000040</td>\n",
       "      <td>0.486909</td>\n",
       "      <td>0.764820</td>\n",
       "      <td>0.636731</td>\n",
       "      <td>0.683089</td>\n",
       "      <td>0.730330</td>\n",
       "      <td>0.606858</td>\n",
       "      <td>0.647303</td>\n",
       "      <td>0.504854</td>\n",
       "      <td>NaN</td>\n",
       "      <td>NaN</td>\n",
       "      <td>NaN</td>\n",
       "    </tr>\n",
       "    <tr>\n",
       "      <th>1</th>\n",
       "      <td>luoi4yy0</td>\n",
       "      <td>rural-sweep-2</td>\n",
       "      <td>finished</td>\n",
       "      <td>20</td>\n",
       "      <td>0.450683</td>\n",
       "      <td>32</td>\n",
       "      <td>32</td>\n",
       "      <td>3</td>\n",
       "      <td>0.000940</td>\n",
       "      <td>1793.128857</td>\n",
       "      <td>7</td>\n",
       "      <td>1.748772e+09</td>\n",
       "      <td>{'runtime': 1792}</td>\n",
       "      <td>0.862333</td>\n",
       "      <td>0.937513</td>\n",
       "      <td>7</td>\n",
       "      <td>0.000940</td>\n",
       "      <td>0.323911</td>\n",
       "      <td>0.851409</td>\n",
       "      <td>0.806634</td>\n",
       "      <td>0.675100</td>\n",
       "      <td>0.725153</td>\n",
       "      <td>0.686992</td>\n",
       "      <td>0.629482</td>\n",
       "      <td>0.511327</td>\n",
       "      <td>NaN</td>\n",
       "      <td>NaN</td>\n",
       "      <td>NaN</td>\n",
       "    </tr>\n",
       "    <tr>\n",
       "      <th>2</th>\n",
       "      <td>r0ilv59w</td>\n",
       "      <td>hopeful-sweep-3</td>\n",
       "      <td>finished</td>\n",
       "      <td>20</td>\n",
       "      <td>0.187177</td>\n",
       "      <td>32</td>\n",
       "      <td>8</td>\n",
       "      <td>5</td>\n",
       "      <td>0.000616</td>\n",
       "      <td>1869.906146</td>\n",
       "      <td>7</td>\n",
       "      <td>1.748774e+09</td>\n",
       "      <td>{'runtime': 1869}</td>\n",
       "      <td>0.927000</td>\n",
       "      <td>0.975493</td>\n",
       "      <td>7</td>\n",
       "      <td>0.000616</td>\n",
       "      <td>0.203074</td>\n",
       "      <td>0.915781</td>\n",
       "      <td>0.906149</td>\n",
       "      <td>0.677763</td>\n",
       "      <td>0.733189</td>\n",
       "      <td>0.824701</td>\n",
       "      <td>0.625468</td>\n",
       "      <td>0.540453</td>\n",
       "      <td>NaN</td>\n",
       "      <td>NaN</td>\n",
       "      <td>NaN</td>\n",
       "    </tr>\n",
       "    <tr>\n",
       "      <th>3</th>\n",
       "      <td>ahf8fx73</td>\n",
       "      <td>fast-sweep-4</td>\n",
       "      <td>finished</td>\n",
       "      <td>20</td>\n",
       "      <td>0.414729</td>\n",
       "      <td>16</td>\n",
       "      <td>32</td>\n",
       "      <td>5</td>\n",
       "      <td>0.000563</td>\n",
       "      <td>2325.404881</td>\n",
       "      <td>9</td>\n",
       "      <td>1.748776e+09</td>\n",
       "      <td>{'runtime': 2325}</td>\n",
       "      <td>0.807333</td>\n",
       "      <td>0.889933</td>\n",
       "      <td>9</td>\n",
       "      <td>0.000563</td>\n",
       "      <td>0.414788</td>\n",
       "      <td>0.786585</td>\n",
       "      <td>0.730583</td>\n",
       "      <td>0.669774</td>\n",
       "      <td>0.732146</td>\n",
       "      <td>0.647329</td>\n",
       "      <td>0.626556</td>\n",
       "      <td>0.488673</td>\n",
       "      <td>NaN</td>\n",
       "      <td>NaN</td>\n",
       "      <td>NaN</td>\n",
       "    </tr>\n",
       "    <tr>\n",
       "      <th>4</th>\n",
       "      <td>lvrd4eo0</td>\n",
       "      <td>comfy-sweep-5</td>\n",
       "      <td>finished</td>\n",
       "      <td>20</td>\n",
       "      <td>0.362670</td>\n",
       "      <td>16</td>\n",
       "      <td>32</td>\n",
       "      <td>5</td>\n",
       "      <td>0.000765</td>\n",
       "      <td>2045.902347</td>\n",
       "      <td>8</td>\n",
       "      <td>1.748778e+09</td>\n",
       "      <td>{'runtime': 2045}</td>\n",
       "      <td>0.812000</td>\n",
       "      <td>0.897814</td>\n",
       "      <td>8</td>\n",
       "      <td>0.000765</td>\n",
       "      <td>0.402141</td>\n",
       "      <td>0.797872</td>\n",
       "      <td>0.728155</td>\n",
       "      <td>0.671105</td>\n",
       "      <td>0.713955</td>\n",
       "      <td>0.699310</td>\n",
       "      <td>0.596875</td>\n",
       "      <td>0.618123</td>\n",
       "      <td>NaN</td>\n",
       "      <td>NaN</td>\n",
       "      <td>NaN</td>\n",
       "    </tr>\n",
       "  </tbody>\n",
       "</table>\n",
       "</div>"
      ],
      "text/plain": [
       "     run_id         run_name     state  epochs   dropout  filters  batch_size  \\\n",
       "0  h6zl7pfq    rural-sweep-1  finished      20  0.333958       64          32   \n",
       "1  luoi4yy0    rural-sweep-2  finished      20  0.450683       32          32   \n",
       "2  r0ilv59w  hopeful-sweep-3  finished      20  0.187177       32           8   \n",
       "3  ahf8fx73     fast-sweep-4  finished      20  0.414729       16          32   \n",
       "4  lvrd4eo0    comfy-sweep-5  finished      20  0.362670       16          32   \n",
       "\n",
       "   kernel_size  learning_rate     _runtime  _step    _timestamp  \\\n",
       "0            5       0.000040  4444.800095     19  1.748770e+09   \n",
       "1            3       0.000940  1793.128857      7  1.748772e+09   \n",
       "2            5       0.000616  1869.906146      7  1.748774e+09   \n",
       "3            5       0.000563  2325.404881      9  1.748776e+09   \n",
       "4            5       0.000765  2045.902347      8  1.748778e+09   \n",
       "\n",
       "              _wandb  epoch/accuracy  epoch/auc  epoch/epoch  \\\n",
       "0  {'runtime': 4444}        0.769667   0.848177           19   \n",
       "1  {'runtime': 1792}        0.862333   0.937513            7   \n",
       "2  {'runtime': 1869}        0.927000   0.975493            7   \n",
       "3  {'runtime': 2325}        0.807333   0.889933            9   \n",
       "4  {'runtime': 2045}        0.812000   0.897814            8   \n",
       "\n",
       "   epoch/learning_rate  epoch/loss  epoch/precision  epoch/recall  \\\n",
       "0             0.000040    0.486909         0.764820      0.636731   \n",
       "1             0.000940    0.323911         0.851409      0.806634   \n",
       "2             0.000616    0.203074         0.915781      0.906149   \n",
       "3             0.000563    0.414788         0.786585      0.730583   \n",
       "4             0.000765    0.402141         0.797872      0.728155   \n",
       "\n",
       "   epoch/val_accuracy  epoch/val_auc  epoch/val_loss  epoch/val_precision  \\\n",
       "0            0.683089       0.730330        0.606858             0.647303   \n",
       "1            0.675100       0.725153        0.686992             0.629482   \n",
       "2            0.677763       0.733189        0.824701             0.625468   \n",
       "3            0.669774       0.732146        0.647329             0.626556   \n",
       "4            0.671105       0.713955        0.699310             0.596875   \n",
       "\n",
       "   epoch/val_recall  zoom  rotation  translation  \n",
       "0          0.504854   NaN       NaN          NaN  \n",
       "1          0.511327   NaN       NaN          NaN  \n",
       "2          0.540453   NaN       NaN          NaN  \n",
       "3          0.488673   NaN       NaN          NaN  \n",
       "4          0.618123   NaN       NaN          NaN  "
      ]
     },
     "metadata": {},
     "output_type": "display_data"
    }
   ],
   "source": [
    "# Show top metrics in each DataFrame\n",
    "print(\"Project 1 shape:\", df1.shape)\n",
    "print(\"Project 2 shape:\", df2.shape)\n",
    "display(df1.head())\n",
    "display(df2.head())"
   ]
  },
  {
   "cell_type": "markdown",
   "id": "a9bbfaa6",
   "metadata": {},
   "source": [
    "#### Filter for Finished Runs & Key Metrics"
   ]
  },
  {
   "cell_type": "code",
   "execution_count": 6,
   "id": "8ce6042f",
   "metadata": {
    "vscode": {
     "languageId": "shellscript"
    }
   },
   "outputs": [],
   "source": [
    "metrics = [\"epoch/val_accuracy\", \"epoch/val_loss\", \"epoch/val_auc\", \"epoch/val_precision\", \"epoch/val_recall\"]\n",
    "\n",
    "# Filter only finished runs\n",
    "df1f = df1[df1['state'] == \"finished\"]\n",
    "df2f = df2[df2['state'] == \"finished\"]\n",
    "\n",
    "# Only keep runs with required metrics\n",
    "df1f = df1f.dropna(subset=metrics)\n",
    "df2f = df2f.dropna(subset=metrics)"
   ]
  },
  {
   "cell_type": "markdown",
   "id": "882cfa1d",
   "metadata": {},
   "source": [
    "#### Find the Best Runs"
   ]
  },
  {
   "cell_type": "code",
   "execution_count": 7,
   "id": "4ea35f48",
   "metadata": {
    "vscode": {
     "languageId": "shellscript"
    }
   },
   "outputs": [
    {
     "name": "stdout",
     "output_type": "stream",
     "text": [
      "Best Run (Project 1): classic-surf-1 \n",
      " epoch/val_accuracy     0.728362\n",
      "epoch/val_loss         0.714357\n",
      "epoch/val_auc          0.791855\n",
      "epoch/val_precision    0.693727\n",
      "epoch/val_recall       0.608414\n",
      "Name: 0, dtype: object\n",
      "Best Run (Project 2): misunderstood-sweep-13 \n",
      " epoch/val_accuracy     0.695073\n",
      "epoch/val_loss         0.741272\n",
      "epoch/val_auc          0.745815\n",
      "epoch/val_precision     0.63986\n",
      "epoch/val_recall       0.592233\n",
      "Name: 12, dtype: object\n"
     ]
    }
   ],
   "source": [
    "# Find best by highest val_auc (modify as needed)\n",
    "best1 = df1f.loc[df1f['epoch/val_auc'].idxmax()]\n",
    "best2 = df2f.loc[df2f['epoch/val_auc'].idxmax()]\n",
    "\n",
    "print(\"Best Run (Project 1):\", best1[\"run_name\"], \"\\n\", best1[metrics])\n",
    "print(\"Best Run (Project 2):\", best2[\"run_name\"], \"\\n\", best2[metrics])"
   ]
  },
  {
   "cell_type": "markdown",
   "id": "25e7b840",
   "metadata": {},
   "source": [
    "#### Compare Best Runs Side by Side"
   ]
  },
  {
   "cell_type": "code",
   "execution_count": 8,
   "id": "d961296a",
   "metadata": {},
   "outputs": [
    {
     "data": {
      "text/html": [
       "<div>\n",
       "<style scoped>\n",
       "    .dataframe tbody tr th:only-of-type {\n",
       "        vertical-align: middle;\n",
       "    }\n",
       "\n",
       "    .dataframe tbody tr th {\n",
       "        vertical-align: top;\n",
       "    }\n",
       "\n",
       "    .dataframe thead th {\n",
       "        text-align: right;\n",
       "    }\n",
       "</style>\n",
       "<table border=\"1\" class=\"dataframe\">\n",
       "  <thead>\n",
       "    <tr style=\"text-align: right;\">\n",
       "      <th></th>\n",
       "      <th>No Aug/Dropout</th>\n",
       "      <th>With Aug/Dropout</th>\n",
       "    </tr>\n",
       "  </thead>\n",
       "  <tbody>\n",
       "    <tr>\n",
       "      <th>epoch/val_accuracy</th>\n",
       "      <td>0.728362</td>\n",
       "      <td>0.695073</td>\n",
       "    </tr>\n",
       "    <tr>\n",
       "      <th>epoch/val_loss</th>\n",
       "      <td>0.714357</td>\n",
       "      <td>0.741272</td>\n",
       "    </tr>\n",
       "    <tr>\n",
       "      <th>epoch/val_auc</th>\n",
       "      <td>0.791855</td>\n",
       "      <td>0.745815</td>\n",
       "    </tr>\n",
       "    <tr>\n",
       "      <th>epoch/val_precision</th>\n",
       "      <td>0.693727</td>\n",
       "      <td>0.639860</td>\n",
       "    </tr>\n",
       "    <tr>\n",
       "      <th>epoch/val_recall</th>\n",
       "      <td>0.608414</td>\n",
       "      <td>0.592233</td>\n",
       "    </tr>\n",
       "  </tbody>\n",
       "</table>\n",
       "</div>"
      ],
      "text/plain": [
       "                     No Aug/Dropout  With Aug/Dropout\n",
       "epoch/val_accuracy         0.728362          0.695073\n",
       "epoch/val_loss             0.714357          0.741272\n",
       "epoch/val_auc              0.791855          0.745815\n",
       "epoch/val_precision        0.693727          0.639860\n",
       "epoch/val_recall           0.608414          0.592233"
      ]
     },
     "metadata": {},
     "output_type": "display_data"
    }
   ],
   "source": [
    "# Combine best run results for a quick comparison\n",
    "best_compare = pd.DataFrame([best1[metrics], best2[metrics]], \n",
    "                            index=[\"No Aug/Dropout\", \"With Aug/Dropout\"])\n",
    "display(best_compare.T)"
   ]
  },
  {
   "cell_type": "markdown",
   "id": "a3bf0f9b",
   "metadata": {},
   "source": [
    "#### Plot Hyperparameter Relationships"
   ]
  },
  {
   "cell_type": "code",
   "execution_count": 11,
   "id": "94907c32",
   "metadata": {},
   "outputs": [
    {
     "name": "stdout",
     "output_type": "stream",
     "text": [
      "['run_id', 'run_name', 'state', 'epochs', 'optimizer', 'batch_size', 'architecture', 'learning_rate', '_runtime', '_step', '_timestamp', '_wandb', 'epoch/accuracy', 'epoch/auc', 'epoch/epoch', 'epoch/learning_rate', 'epoch/loss', 'epoch/precision', 'epoch/recall', 'epoch/val_accuracy', 'epoch/val_auc', 'epoch/val_loss', 'epoch/val_precision', 'epoch/val_recall']\n"
     ]
    }
   ],
   "source": [
    "print(df1f.columns.tolist())"
   ]
  },
  {
   "cell_type": "markdown",
   "id": "98938fa4",
   "metadata": {},
   "source": [
    "#### Histogram of Validation AUC"
   ]
  },
  {
   "cell_type": "code",
   "execution_count": 13,
   "id": "5cb1f04c",
   "metadata": {},
   "outputs": [
    {
     "data": {
      "image/png": "[encoded data removed]",
      "text/plain": [
       "<Figure size 800x500 with 1 Axes>"
      ]
     },
     "metadata": {},
     "output_type": "display_data"
    }
   ],
   "source": [
    "import matplotlib.pyplot as plt\n",
    "import seaborn as sns\n",
    "\n",
    "plt.figure(figsize=(8,5))\n",
    "sns.histplot(df2f['epoch/val_auc'], bins=20, kde=True)\n",
    "plt.title(\"Distribution of Validation AUC (Aug/Dropout)\")\n",
    "plt.xlabel(\"Validation AUC\")\n",
    "plt.ylabel(\"Count\")\n",
    "plt.show()"
   ]
  },
  {
   "cell_type": "markdown",
   "id": "5b5c7d01",
   "metadata": {},
   "source": [
    "#### Scatterplot - Learning Rate vs. Validation AUC"
   ]
  },
  {
   "cell_type": "code",
   "execution_count": 14,
   "id": "3085a8ca",
   "metadata": {},
   "outputs": [
    {
     "data": {
      "image/png": "[encoded data removed]",
      "text/plain": [
       "<Figure size 800x500 with 1 Axes>"
      ]
     },
     "metadata": {},
     "output_type": "display_data"
    }
   ],
   "source": [
    "plt.figure(figsize=(8,5))\n",
    "sns.scatterplot(data=df2f, x='learning_rate', y='epoch/val_auc')\n",
    "plt.title(\"Learning Rate vs. Validation AUC\")\n",
    "plt.xlabel(\"Learning Rate\")\n",
    "plt.ylabel(\"Validation AUC\")\n",
    "plt.xscale('log')\n",
    "plt.show()"
   ]
  },
  {
   "cell_type": "markdown",
   "id": "b8446b8e",
   "metadata": {},
   "source": [
    "#### Batch Size vs. Validation AUC"
   ]
  },
  {
   "cell_type": "code",
   "execution_count": 15,
   "id": "4837e83a",
   "metadata": {},
   "outputs": [
    {
     "data": {
      "image/png": "[encoded data removed]",
      "text/plain": [
       "<Figure size 800x500 with 1 Axes>"
      ]
     },
     "metadata": {},
     "output_type": "display_data"
    }
   ],
   "source": [
    "plt.figure(figsize=(8,5))\n",
    "sns.boxplot(data=df2f, x='batch_size', y='epoch/val_auc')\n",
    "plt.title(\"Batch Size vs. Validation AUC\")\n",
    "plt.xlabel(\"Batch Size\")\n",
    "plt.ylabel(\"Validation AUC\")\n",
    "plt.show()"
   ]
  },
  {
   "cell_type": "markdown",
   "id": "39c84569",
   "metadata": {},
   "source": [
    "# W&B Project Analysis:"
   ]
  },
  {
   "cell_type": "markdown",
   "id": "a090cfc8",
   "metadata": {},
   "source": [
    "#### Import Libraries & Load Data"
   ]
  },
  {
   "cell_type": "code",
   "execution_count": 17,
   "id": "bddcb03b",
   "metadata": {},
   "outputs": [],
   "source": [
    "import wandb\n",
    "import pandas as pd\n",
    "import matplotlib.pyplot as plt\n",
    "import seaborn as sns\n",
    "\n",
    "api = wandb.Api()\n",
    "project = \"tkshfj-bsc-computer-science-university-of-london/baseline_cnn_2_conv_layers\"\n",
    "runs = api.runs(project)\n",
    "\n",
    "# Build DataFrame\n",
    "records = []\n",
    "for run in runs:\n",
    "    summary = dict(run.summary)\n",
    "    config = dict(run.config)\n",
    "    config = {k: v for k, v in config.items() if not k.startswith('_')}\n",
    "    entry = {\n",
    "        'run_id': run.id,\n",
    "        'run_name': run.name,\n",
    "        'state': run.state,\n",
    "        **config,\n",
    "        **summary\n",
    "    }\n",
    "    records.append(entry)\n",
    "df = pd.DataFrame(records)"
   ]
  },
  {
   "cell_type": "code",
   "execution_count": 18,
   "id": "f8cb1ef6",
   "metadata": {},
   "outputs": [
    {
     "name": "stdout",
     "output_type": "stream",
     "text": [
      "(1, 24)\n",
      "Index(['run_id', 'run_name', 'state', 'epochs', 'optimizer', 'batch_size',\n",
      "       'architecture', 'learning_rate', '_runtime', '_step', '_timestamp',\n",
      "       '_wandb', 'epoch/accuracy', 'epoch/auc', 'epoch/epoch',\n",
      "       'epoch/learning_rate', 'epoch/loss', 'epoch/precision', 'epoch/recall',\n",
      "       'epoch/val_accuracy', 'epoch/val_auc', 'epoch/val_loss',\n",
      "       'epoch/val_precision', 'epoch/val_recall'],\n",
      "      dtype='object')\n"
     ]
    },
    {
     "data": {
      "text/html": [
       "<div>\n",
       "<style scoped>\n",
       "    .dataframe tbody tr th:only-of-type {\n",
       "        vertical-align: middle;\n",
       "    }\n",
       "\n",
       "    .dataframe tbody tr th {\n",
       "        vertical-align: top;\n",
       "    }\n",
       "\n",
       "    .dataframe thead th {\n",
       "        text-align: right;\n",
       "    }\n",
       "</style>\n",
       "<table border=\"1\" class=\"dataframe\">\n",
       "  <thead>\n",
       "    <tr style=\"text-align: right;\">\n",
       "      <th></th>\n",
       "      <th>run_id</th>\n",
       "      <th>run_name</th>\n",
       "      <th>state</th>\n",
       "      <th>epochs</th>\n",
       "      <th>optimizer</th>\n",
       "      <th>batch_size</th>\n",
       "      <th>architecture</th>\n",
       "      <th>learning_rate</th>\n",
       "      <th>_runtime</th>\n",
       "      <th>_step</th>\n",
       "      <th>_timestamp</th>\n",
       "      <th>_wandb</th>\n",
       "      <th>epoch/accuracy</th>\n",
       "      <th>epoch/auc</th>\n",
       "      <th>epoch/epoch</th>\n",
       "      <th>epoch/learning_rate</th>\n",
       "      <th>epoch/loss</th>\n",
       "      <th>epoch/precision</th>\n",
       "      <th>epoch/recall</th>\n",
       "      <th>epoch/val_accuracy</th>\n",
       "      <th>epoch/val_auc</th>\n",
       "      <th>epoch/val_loss</th>\n",
       "      <th>epoch/val_precision</th>\n",
       "      <th>epoch/val_recall</th>\n",
       "    </tr>\n",
       "  </thead>\n",
       "  <tbody>\n",
       "    <tr>\n",
       "      <th>0</th>\n",
       "      <td>tleukzob</td>\n",
       "      <td>classic-surf-1</td>\n",
       "      <td>finished</td>\n",
       "      <td>20</td>\n",
       "      <td>Adam</td>\n",
       "      <td>8</td>\n",
       "      <td>shallow_cnn</td>\n",
       "      <td>0.0001</td>\n",
       "      <td>0.793954</td>\n",
       "      <td>12</td>\n",
       "      <td>1.749421e+09</td>\n",
       "      <td>{'runtime': 0}</td>\n",
       "      <td>0.953</td>\n",
       "      <td>0.990232</td>\n",
       "      <td>12</td>\n",
       "      <td>0.0001</td>\n",
       "      <td>0.15237</td>\n",
       "      <td>0.936255</td>\n",
       "      <td>0.950647</td>\n",
       "      <td>0.728362</td>\n",
       "      <td>0.791855</td>\n",
       "      <td>0.714357</td>\n",
       "      <td>0.693727</td>\n",
       "      <td>0.608414</td>\n",
       "    </tr>\n",
       "  </tbody>\n",
       "</table>\n",
       "</div>"
      ],
      "text/plain": [
       "     run_id        run_name     state  epochs optimizer  batch_size  \\\n",
       "0  tleukzob  classic-surf-1  finished      20      Adam           8   \n",
       "\n",
       "  architecture  learning_rate  _runtime  _step    _timestamp          _wandb  \\\n",
       "0  shallow_cnn         0.0001  0.793954     12  1.749421e+09  {'runtime': 0}   \n",
       "\n",
       "   epoch/accuracy  epoch/auc  epoch/epoch  epoch/learning_rate  epoch/loss  \\\n",
       "0           0.953   0.990232           12               0.0001     0.15237   \n",
       "\n",
       "   epoch/precision  epoch/recall  epoch/val_accuracy  epoch/val_auc  \\\n",
       "0         0.936255      0.950647            0.728362       0.791855   \n",
       "\n",
       "   epoch/val_loss  epoch/val_precision  epoch/val_recall  \n",
       "0        0.714357             0.693727          0.608414  "
      ]
     },
     "metadata": {},
     "output_type": "display_data"
    }
   ],
   "source": [
    "print(df.shape)\n",
    "print(df.columns)\n",
    "display(df.head())"
   ]
  },
  {
   "cell_type": "code",
   "execution_count": 19,
   "id": "dc6f4d58",
   "metadata": {},
   "outputs": [
    {
     "name": "stdout",
     "output_type": "stream",
     "text": [
      "1 finished runs.\n"
     ]
    }
   ],
   "source": [
    "# Keep only finished runs with metrics present\n",
    "metrics = [\n",
    "    'epoch/val_accuracy', 'epoch/val_auc', 'epoch/val_loss', \n",
    "    'epoch/val_precision', 'epoch/val_recall'\n",
    "]\n",
    "df = df[df['state'] == 'finished']\n",
    "df = df.dropna(subset=metrics)\n",
    "print(f\"{len(df)} finished runs.\")"
   ]
  }
 ],
 "metadata": {
  "kernelspec": {
   "display_name": ".venv",
   "language": "python",
   "name": "python3"
  },
  "language_info": {
   "codemirror_mode": {
    "name": "ipython",
    "version": 3
   },
   "file_extension": ".py",
   "mimetype": "text/x-python",
   "name": "python",
   "nbconvert_exporter": "python",
   "pygments_lexer": "ipython3",
   "version": "3.11.8"
  }
 },
 "nbformat": 4,
 "nbformat_minor": 5
}
