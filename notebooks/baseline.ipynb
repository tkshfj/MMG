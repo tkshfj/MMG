{
 "cells": [
  {
   "cell_type": "markdown",
   "id": "972bf625",
   "metadata": {},
   "source": [
    "### Build TensorFlow Dataset"
   ]
  },
  {
   "cell_type": "code",
   "execution_count": 1,
   "id": "7d174e18",
   "metadata": {
    "vscode": {
     "languageId": "shellscript"
    }
   },
   "outputs": [],
   "source": [
    "# !pip uninstall tensorflow -y\n",
    "# !python3 -m venv .venv\n",
    "# !source .venv/bin/activate\n",
    "# !pip install tensorflow==2.15.0\n",
    "# !pip install pandas pydicom scikit-learn seaborn nbformat\n",
    "\n",
    "# The cuXXX (CUDA) wheels are Linux-only, NVIDIA GPU-only\n",
    "# !pip install torch torchvision torchaudio --index-url https://download.pytorch.org/whl/cu121/\n",
    "\n",
    "# Use the command from the PyTorch website for macOS!\n",
    "# !pip install torch torchvision torchaudio"
   ]
  },
  {
   "cell_type": "markdown",
   "id": "ab0e3ef8",
   "metadata": {},
   "source": [
    "#### Set Parameters"
   ]
  },
  {
   "cell_type": "code",
   "execution_count": 2,
   "id": "019b84d4",
   "metadata": {},
   "outputs": [],
   "source": [
    "# Set TensorFlow logging level to suppress warnings\n",
    "import os\n",
    "os.environ[\"TF_CPP_MIN_LOG_LEVEL\"] = \"2\""
   ]
  },
  {
   "cell_type": "code",
   "execution_count": 3,
   "id": "4802d273",
   "metadata": {},
   "outputs": [
    {
     "name": "stderr",
     "output_type": "stream",
     "text": [
      "2025-06-01 08:14:28.478999: E external/local_xla/xla/stream_executor/cuda/cuda_dnn.cc:9261] Unable to register cuDNN factory: Attempting to register factory for plugin cuDNN when one has already been registered\n",
      "2025-06-01 08:14:28.479052: E external/local_xla/xla/stream_executor/cuda/cuda_fft.cc:607] Unable to register cuFFT factory: Attempting to register factory for plugin cuFFT when one has already been registered\n",
      "2025-06-01 08:14:28.498017: E external/local_xla/xla/stream_executor/cuda/cuda_blas.cc:1515] Unable to register cuBLAS factory: Attempting to register factory for plugin cuBLAS when one has already been registered\n"
     ]
    },
    {
     "name": "stdout",
     "output_type": "stream",
     "text": [
      "TensorFlow version: 2.15.0\n",
      "Num GPUs Available: 2\n",
      "GPU Devices: [PhysicalDevice(name='/physical_device:GPU:0', device_type='GPU'), PhysicalDevice(name='/physical_device:GPU:1', device_type='GPU')]\n"
     ]
    }
   ],
   "source": [
    "import numpy as np\n",
    "import pandas as pd\n",
    "import tensorflow as tf\n",
    "import torch\n",
    "import ast\n",
    "import pydicom\n",
    "# from tensorflow.data import AUTOTUNE\n",
    "\n",
    "#  Check TensorFlow version and GPU availability\n",
    "print(\"TensorFlow version:\", tf.__version__)\n",
    "print(\"Num GPUs Available:\", len(tf.config.list_physical_devices('GPU')))\n",
    "print(\"GPU Devices:\", tf.config.list_physical_devices('GPU'))\n",
    "\n",
    "# Global configuration\n",
    "INPUT_SHAPE = (224, 224, 1)  # (512, 512, 1)\n",
    "TARGET_SIZE = INPUT_SHAPE[:2]"
   ]
  },
  {
   "cell_type": "code",
   "execution_count": 4,
   "id": "133a1a97",
   "metadata": {},
   "outputs": [
    {
     "name": "stdout",
     "output_type": "stream",
     "text": [
      "PyTorch version: 2.5.1+cu121\n",
      "CUDA available: True\n",
      "CUDA device count: 2\n",
      "Current device: 0\n",
      "Device name: NVIDIA RTX 6000 Ada Generation\n"
     ]
    }
   ],
   "source": [
    "# Check PyTorch version and GPU availability\n",
    "print(\"PyTorch version:\", torch.__version__)\n",
    "print(\"CUDA available:\", torch.cuda.is_available())\n",
    "print(\"CUDA device count:\", torch.cuda.device_count())\n",
    "# Never use the cuXXX index for macOS!\n",
    "# Use the official PyPI source, or the command from the PyTorch website.\n",
    "print(\"Current device:\", torch.cuda.current_device())\n",
    "print(\"Device name:\", torch.cuda.get_device_name(torch.cuda.current_device()))"
   ]
  },
  {
   "cell_type": "markdown",
   "id": "7b604807",
   "metadata": {},
   "source": [
    "#### Helper Functions"
   ]
  },
  {
   "cell_type": "code",
   "execution_count": 5,
   "id": "114571a6",
   "metadata": {},
   "outputs": [],
   "source": [
    "from tensorflow.data import AUTOTUNE\n",
    "# DICOM Loader\n",
    "# Load and normalize a DICOM image from a byte string path\n",
    "def load_dicom_image(path_tensor):\n",
    "    path = path_tensor.decode('utf-8')  # Decode byte string to UTF-8\n",
    "    try:\n",
    "        ds = pydicom.dcmread(path)\n",
    "        img = ds.pixel_array.astype(np.float32)\n",
    "        img -= np.min(img)\n",
    "        img /= (np.max(img) + 1e-6)  # normalize to [0,1]\n",
    "    except Exception as e:\n",
    "        print(f\"[DICOM ERROR] {path}: {e}\")\n",
    "        img = np.zeros(TARGET_SIZE, dtype=np.float32)\n",
    "    return img\n",
    "\n",
    "# TensorFlow Wrappers\n",
    "# Load and preprocess a single full mammogram image\n",
    "def tf_load_dicom(path):\n",
    "    # img = tf.numpy_function(load_dicom_image, [path], tf.float32)\n",
    "    img = tf.numpy_function(func=load_dicom_image, inp=[path], Tout=tf.float32)\n",
    "    img.set_shape([None, None])  # initially 2D\n",
    "    img = tf.expand_dims(img, axis=-1)  # [H, W, 1]\n",
    "    img.set_shape([None, None, 1])\n",
    "    img = tf.image.resize(img, TARGET_SIZE)\n",
    "    return img\n",
    "\n",
    "def tf_load_multiple_dicom(paths):\n",
    "    # paths: tf.Tensor of shape [N] (string paths)\n",
    "    def load_single(path):\n",
    "        img = tf.numpy_function(load_dicom_image, [path], tf.float32)\n",
    "        img.set_shape([None, None])\n",
    "        img = tf.expand_dims(img, axis=-1)\n",
    "        img.set_shape([None, None, 1])\n",
    "        img = tf.image.resize(img, TARGET_SIZE)\n",
    "        return img\n",
    "\n",
    "    masks = tf.map_fn(\n",
    "        load_single,\n",
    "        paths,\n",
    "        fn_output_signature=tf.TensorSpec(shape=(TARGET_SIZE[0], TARGET_SIZE[1], 1), dtype=tf.float32)\n",
    "    )\n",
    "    return tf.reduce_max(masks, axis=0)  # union of all masks\n",
    "\n",
    "# Unified MTL Preprocessor\n",
    "# Load and preprocess multiple ROI masks and combine into a single mask tensor\n",
    "def load_and_preprocess(image_path, mask_paths, label):\n",
    "    image = tf_load_dicom(image_path)  # (512, 512, 1)\n",
    "    mask = tf_load_multiple_dicom(mask_paths)  # (512, 512, 1)\n",
    "    label = tf.cast(label, tf.float32)\n",
    "    return image, {\"segmentation\": mask, \"classification\": label}\n",
    "\n",
    "# Parse a dictionary record into image + MTL target dict\n",
    "def parse_record(record):\n",
    "    image_path = record['image_path']\n",
    "    mask_paths = record['mask_paths']\n",
    "    label = record['label']\n",
    "\n",
    "    image, target = load_and_preprocess(image_path, mask_paths, label)\n",
    "    return image, target\n",
    "\n",
    "# Build tf.data.Dataset from metadata CSV\n",
    "def build_tf_dataset(\n",
    "    metadata_csv: str,\n",
    "    batch_size: int = 8,\n",
    "    shuffle: bool = True\n",
    ") -> tf.data.Dataset:\n",
    "\n",
    "    # Load metadata CSV\n",
    "    df = pd.read_csv(metadata_csv)\n",
    "\n",
    "    # Parse stringified list of mask_paths\n",
    "    df['mask_paths'] = df['mask_paths'].apply(lambda x: ast.literal_eval(x) if isinstance(x, str) else [])\n",
    "\n",
    "    # Ensure label column is float32-compatible (e.g., 0.0, 1.0)\n",
    "    df['label'] = df['label'].astype(np.float32)\n",
    "\n",
    "    # Convert to list of dicts\n",
    "    records = df[['image_path', 'mask_paths', 'label']].to_dict(orient='records')\n",
    "\n",
    "    # Create dataset\n",
    "    ds = tf.data.Dataset.from_generator(\n",
    "        lambda: (r for r in records),\n",
    "        output_signature={\n",
    "            \"image_path\": tf.TensorSpec(shape=(), dtype=tf.string),\n",
    "            \"mask_paths\": tf.TensorSpec(shape=(None,), dtype=tf.string),\n",
    "            \"label\": tf.TensorSpec(shape=(), dtype=tf.float32),\n",
    "        }\n",
    "    )\n",
    "\n",
    "    # Apply MTL-compatible mapping function\n",
    "    ds = ds.map(lambda r: parse_record(r), num_parallel_calls=AUTOTUNE)\n",
    "\n",
    "    if shuffle:\n",
    "        ds = ds.shuffle(buffer_size=len(records))\n",
    "\n",
    "    ds = ds.batch(batch_size).prefetch(AUTOTUNE)\n",
    "    return ds"
   ]
  },
  {
   "cell_type": "markdown",
   "id": "172103ee",
   "metadata": {},
   "source": [
    "The resulting ds is a complete TensorFlow dataset — (image, {\"segmentation\": mask, \"classification\": label}), normalized, resized, shuffled, batched, ready for model training and validation."
   ]
  },
  {
   "cell_type": "markdown",
   "id": "203be548",
   "metadata": {},
   "source": [
    "### Explore the Resulting Dataset"
   ]
  },
  {
   "cell_type": "code",
   "execution_count": 6,
   "id": "05e6e229",
   "metadata": {},
   "outputs": [],
   "source": [
    "# # Build dataset\n",
    "# ds = build_tf_dataset(\n",
    "#     metadata_csv=\"../data/processed/cbis_ddsm_metadata_full.csv\",\n",
    "#     batch_size=8\n",
    "# )\n",
    "\n",
    "# # Preview one batch\n",
    "# for images, targets in ds.take(1):\n",
    "#     print(f\"Images batch shape: {images.shape}\")  # (8, 224, 224, 1)\n",
    "#     print(f\"Masks batch shape: {targets['segmentation'].shape}\")     # (8, 224, 224, 1)\n",
    "#     print(f\"Labels batch shape: {targets['classification'].shape}\")  # (8,)"
   ]
  },
  {
   "cell_type": "code",
   "execution_count": 7,
   "id": "6b4a06bf",
   "metadata": {},
   "outputs": [],
   "source": [
    "# import matplotlib.pyplot as plt\n",
    "\n",
    "# for images, targets in ds.take(1):\n",
    "#     num_examples = 3  # Number of samples to visualize\n",
    "\n",
    "#     plt.figure(figsize=(num_examples * 3, 6))\n",
    "\n",
    "#     for i in range(num_examples):\n",
    "#         # Plot image\n",
    "#         plt.subplot(3, num_examples, i + 1)\n",
    "#         plt.imshow(images[i, ..., 0], cmap=\"gray\")\n",
    "#         plt.axis(\"off\")\n",
    "#         plt.title(f\"Image {i+1}\")\n",
    "\n",
    "#         # Plot mask\n",
    "#         plt.subplot(3, num_examples, num_examples + i + 1)\n",
    "#         plt.imshow(targets['segmentation'][i, ..., 0], cmap=\"gray\")\n",
    "#         plt.axis(\"off\")\n",
    "#         plt.title(f\"Mask {i+1}\")\n",
    "\n",
    "#         # Display the label\n",
    "#         plt.subplot(3, num_examples, 2 * num_examples + i + 1)\n",
    "#         label = targets['classification'][i].numpy()\n",
    "#         plt.text(0.5, 0.5, str(label), fontsize=16, ha='center', va='center')\n",
    "#         plt.axis(\"off\")\n",
    "#         plt.title(f\"Label {i+1}\")\n",
    "\n",
    "#     plt.tight_layout()\n",
    "#     plt.show()"
   ]
  },
  {
   "cell_type": "markdown",
   "id": "7f7dd35f",
   "metadata": {},
   "source": [
    "### Develop a Baseline Sequential CNN Classification Model"
   ]
  },
  {
   "cell_type": "markdown",
   "id": "528dd6ae",
   "metadata": {},
   "source": [
    "Das et al. (2023) provide a comprehensive overview of the architecture and training process for deep learning-based breast cancer classification, presenting a pipeline that can be adapted to a variety of datasets and tasks. Their framework delineates two primary CNN strategies: **Approach 1 (Shallow CNN)** and **Approach 2 (Deep CNN)**. In this work, we begin by implementing the shallow CNN approach as depicted in their proposed workflow.\n",
    "\n",
    "As a first step, we **develop a baseline convolutional neural network (CNN) model consisting of an encoder and a classification head only**. This model will serve as a foundational benchmark, using a series of convolutional and pooling layers followed by fully connected layers for binary (or multiclass) classification, without any segmentation or auxiliary outputs. Establishing such a baseline is critical for objectively evaluating the impact of subsequent model enhancements.\n",
    "\n",
    "The **“Shallow CNN” approach** in the diagram is a progressive three-part strategy aimed at incrementally increasing model robustness and generalization:\n",
    "- Part 1: CNN with 2 Convolutional Layers\n",
    "- Part 2: CNN with 2 Conv Layers + Dropout\n",
    "- Part 3: CNN with 2 Conv Layers + Data Augmentation\n",
    "\n",
    "For all three parts, the training pipeline begins with data collection (for example, from public datasets such as CBIS-DDSM and INbreast), followed by pre-processing steps including image resizing and partitioning into training and testing sets. The chosen shallow CNN model is then trained on the prepared data, with hyperparameters fine-tuned as needed to achieve the desired accuracy. Performance is evaluated using standard metrics, and the architecture can be iteratively refined based on results.\n",
    "\n",
    "**In summary,** starting with the shallow CNN path and a simple encoder-classifier model enables rapid prototyping and establishes a robust baseline. It also provides valuable insights into the data and the classification task, which can inform the design and tuning of deeper or more complex models in subsequent experiments."
   ]
  },
  {
   "cell_type": "markdown",
   "id": "b7cb04ef",
   "metadata": {},
   "source": [
    "### Part 1: CNN with 2 Convolutional Layers\n",
    "  This baseline model consists of two convolutional layers followed by pooling, a dense layer, and an output layer. It serves as the simplest deep learning architecture in the pipeline and acts as a benchmark for evaluating further enhancements."
   ]
  },
  {
   "cell_type": "markdown",
   "id": "42b30c29",
   "metadata": {},
   "source": [
    "#### Set up Weights & Biases for experiment tracking"
   ]
  },
  {
   "cell_type": "markdown",
   "id": "d6d5d7bf",
   "metadata": {},
   "source": [
    "- Install Weights & Biases (wandb) for experiment tracking and visualization. \n",
    "  - This tool will help us log metrics, visualize model performance, and manage experiments effectively.\n",
    "```sh\n",
    "pip install wandb\n",
    "```\n",
    "- Login to wandb: \n",
    "    - We need to log in by pasting an API key for the first time we use wandb.\n",
    "```sh\n",
    "wandb login\n",
    "```"
   ]
  },
  {
   "cell_type": "markdown",
   "id": "2f793f98",
   "metadata": {},
   "source": [
    "#### Import Libraries"
   ]
  },
  {
   "cell_type": "code",
   "execution_count": 8,
   "id": "418c01c7",
   "metadata": {},
   "outputs": [],
   "source": [
    "import pandas as pd\n",
    "from sklearn.model_selection import train_test_split\n",
    "\n",
    "import tensorflow as tf\n",
    "from tensorflow.keras import layers, models\n",
    "from tensorflow.keras.callbacks import EarlyStopping\n",
    "from tensorflow.data import AUTOTUNE\n",
    "\n",
    "import wandb\n",
    "\n",
    "# Ensure the models directory exists\n",
    "import os\n",
    "model_dir = os.path.abspath(\"../models\")\n",
    "os.makedirs(model_dir, exist_ok=True)\n"
   ]
  },
  {
   "cell_type": "markdown",
   "id": "ad20c5a6",
   "metadata": {},
   "source": [
    "#### Build and compile a shallow CNN model as a baseline\n",
    "\n",
    "Compile the model with an appropriate loss function and optimizer, and train it on the dataset. The model will be evaluated on a validation set to monitor performance metrics such as accuracy and loss."
   ]
  },
  {
   "cell_type": "code",
   "execution_count": 9,
   "id": "e1c806d1",
   "metadata": {},
   "outputs": [
    {
     "name": "stdout",
     "output_type": "stream",
     "text": [
      "Model: \"sequential\"\n",
      "_________________________________________________________________\n",
      " Layer (type)                Output Shape              Param #   \n",
      "=================================================================\n",
      " conv2d (Conv2D)             (None, 222, 222, 32)      320       \n",
      "                                                                 \n",
      " max_pooling2d (MaxPooling2  (None, 111, 111, 32)      0         \n",
      " D)                                                              \n",
      "                                                                 \n",
      " conv2d_1 (Conv2D)           (None, 109, 109, 64)      18496     \n",
      "                                                                 \n",
      " max_pooling2d_1 (MaxPoolin  (None, 54, 54, 64)        0         \n",
      " g2D)                                                            \n",
      "                                                                 \n",
      " flatten (Flatten)           (None, 186624)            0         \n",
      "                                                                 \n",
      " dense (Dense)               (None, 64)                11944000  \n",
      "                                                                 \n",
      " dense_1 (Dense)             (None, 1)                 65        \n",
      "                                                                 \n",
      "=================================================================\n",
      "Total params: 11962881 (45.63 MB)\n",
      "Trainable params: 11962881 (45.63 MB)\n",
      "Non-trainable params: 0 (0.00 Byte)\n",
      "_________________________________________________________________\n"
     ]
    }
   ],
   "source": [
    "# Build a shallow CNN model as a baseline\n",
    "def build_shallow_cnn(input_shape=INPUT_SHAPE, num_classes=1):\n",
    "    model = models.Sequential([\n",
    "        layers.Conv2D(32, (3, 3), activation='relu', input_shape=input_shape),\n",
    "        layers.MaxPooling2D((2, 2)),\n",
    "        layers.Conv2D(64, (3, 3), activation='relu'),\n",
    "        layers.MaxPooling2D((2, 2)),\n",
    "        layers.Flatten(),\n",
    "        layers.Dense(64, activation='relu'),\n",
    "        layers.Dense(num_classes, activation='sigmoid')\n",
    "    ])\n",
    "    return model\n",
    "\n",
    "# Build and compile the model\n",
    "model = build_shallow_cnn(INPUT_SHAPE)\n",
    "model.compile(\n",
    "    optimizer=tf.keras.optimizers.legacy.Adam(learning_rate=1e-4),\n",
    "    loss='binary_crossentropy',\n",
    "    metrics=[\n",
    "        'accuracy',\n",
    "        tf.keras.metrics.AUC(name='auc'),\n",
    "        tf.keras.metrics.Precision(name='precision'),\n",
    "        tf.keras.metrics.Recall(name='recall')\n",
    "    ]\n",
    ")\n",
    "model.summary()"
   ]
  },
  {
   "cell_type": "markdown",
   "id": "0880553b",
   "metadata": {},
   "source": [
    "#### Split and Build a TensorFlow Dataset"
   ]
  },
  {
   "cell_type": "code",
   "execution_count": 10,
   "id": "725f8d83",
   "metadata": {},
   "outputs": [],
   "source": [
    "# Load\n",
    "metadata = pd.read_csv(\"../data/processed/cbis_ddsm_metadata_full.csv\")\n",
    "\n",
    "# Split\n",
    "train_meta, val_meta = train_test_split(metadata, test_size=0.2, stratify=metadata['label'], random_state=42)\n",
    "train_meta.to_csv(\"../temporary/train_split.csv\", index=False)\n",
    "val_meta.to_csv(\"../temporary/val_split.csv\", index=False)\n",
    "\n",
    "# Build datasets\n",
    "train_ds = build_tf_dataset(metadata_csv=\"../temporary/train_split.csv\", batch_size=8)\n",
    "val_ds = build_tf_dataset(metadata_csv=\"../temporary/val_split.csv\", batch_size=8)\n",
    "train_ds = train_ds.map(lambda x, y: (x, y[\"classification\"])).prefetch(AUTOTUNE)\n",
    "val_ds = val_ds.map(lambda x, y: (x, y[\"classification\"])).prefetch(AUTOTUNE) "
   ]
  },
  {
   "cell_type": "markdown",
   "id": "0b84da30",
   "metadata": {},
   "source": [
    "#### Train the Model\n",
    "\n",
    "Train the model using the training dataset, and validate it using the validation dataset. Monitor the training and validation loss and accuracy to ensure the model is learning effectively without overfitting."
   ]
  },
  {
   "cell_type": "code",
   "execution_count": 11,
   "id": "7acb8a7c",
   "metadata": {},
   "outputs": [
    {
     "name": "stderr",
     "output_type": "stream",
     "text": [
      "\u001b[34m\u001b[1mwandb\u001b[0m: Currently logged in as: \u001b[33mtkshfj\u001b[0m (\u001b[33mtkshfj-bsc-computer-science-university-of-london\u001b[0m) to \u001b[32mhttps://api.wandb.ai\u001b[0m. Use \u001b[1m`wandb login --relogin`\u001b[0m to force relogin\n"
     ]
    },
    {
     "data": {
      "text/html": [
       "Tracking run with wandb version 0.19.11"
      ],
      "text/plain": [
       "<IPython.core.display.HTML object>"
      ]
     },
     "metadata": {},
     "output_type": "display_data"
    },
    {
     "data": {
      "text/html": [
       "Run data is saved locally in <code>/home/tkshfj/repository/MMG/notebooks/wandb/run-20250601_081433-8uves4if</code>"
      ],
      "text/plain": [
       "<IPython.core.display.HTML object>"
      ]
     },
     "metadata": {},
     "output_type": "display_data"
    },
    {
     "data": {
      "text/html": [
       "Syncing run <strong><a href='https://wandb.ai/tkshfj-bsc-computer-science-university-of-london/baseline_part_1_cnn_2_conv_layers/runs/8uves4if' target=\"_blank\">amber-yogurt-16</a></strong> to <a href='https://wandb.ai/tkshfj-bsc-computer-science-university-of-london/baseline_part_1_cnn_2_conv_layers' target=\"_blank\">Weights & Biases</a> (<a href='https://wandb.me/developer-guide' target=\"_blank\">docs</a>)<br>"
      ],
      "text/plain": [
       "<IPython.core.display.HTML object>"
      ]
     },
     "metadata": {},
     "output_type": "display_data"
    },
    {
     "data": {
      "text/html": [
       " View project at <a href='https://wandb.ai/tkshfj-bsc-computer-science-university-of-london/baseline_part_1_cnn_2_conv_layers' target=\"_blank\">https://wandb.ai/tkshfj-bsc-computer-science-university-of-london/baseline_part_1_cnn_2_conv_layers</a>"
      ],
      "text/plain": [
       "<IPython.core.display.HTML object>"
      ]
     },
     "metadata": {},
     "output_type": "display_data"
    },
    {
     "data": {
      "text/html": [
       " View run at <a href='https://wandb.ai/tkshfj-bsc-computer-science-university-of-london/baseline_part_1_cnn_2_conv_layers/runs/8uves4if' target=\"_blank\">https://wandb.ai/tkshfj-bsc-computer-science-university-of-london/baseline_part_1_cnn_2_conv_layers/runs/8uves4if</a>"
      ],
      "text/plain": [
       "<IPython.core.display.HTML object>"
      ]
     },
     "metadata": {},
     "output_type": "display_data"
    },
    {
     "name": "stderr",
     "output_type": "stream",
     "text": [
      "\u001b[34m\u001b[1mwandb\u001b[0m: \u001b[33mWARNING\u001b[0m When using `save_best_only`, ensure that the `filepath` argument contains formatting placeholders like `{epoch:02d}` or `{batch:02d}`. This ensures correct interpretation of the logged artifacts.\n"
     ]
    },
    {
     "name": "stdout",
     "output_type": "stream",
     "text": [
      "Epoch 1/20\n",
      "375/375 [==============================] - 262s 137ms/step - loss: 0.6782 - accuracy: 0.5763 - auc: 0.5541 - precision: 0.3600 - recall: 0.0364 - val_loss: 0.6625 - val_accuracy: 0.5885 - val_auc: 0.6112 - val_precision: 0.0000e+00 - val_recall: 0.0000e+00\n",
      "Epoch 2/20\n",
      "375/375 [==============================] - 253s 134ms/step - loss: 0.6382 - accuracy: 0.6030 - auc: 0.6692 - precision: 0.5594 - recall: 0.1715 - val_loss: 0.6356 - val_accuracy: 0.6205 - val_auc: 0.6719 - val_precision: 0.5337 - val_recall: 0.6149\n",
      "Epoch 3/20\n",
      "375/375 [==============================] - 253s 132ms/step - loss: 0.6001 - accuracy: 0.6680 - auc: 0.7251 - precision: 0.6130 - recall: 0.5267 - val_loss: 0.6367 - val_accuracy: 0.6099 - val_auc: 0.6933 - val_precision: 0.5519 - val_recall: 0.2751\n",
      "Epoch 4/20\n",
      "375/375 [==============================] - 252s 134ms/step - loss: 0.5610 - accuracy: 0.6903 - auc: 0.7724 - precision: 0.6444 - recall: 0.5542 - val_loss: 0.5974 - val_accuracy: 0.6671 - val_auc: 0.7198 - val_precision: 0.6300 - val_recall: 0.4628\n",
      "Epoch 5/20\n",
      "375/375 [==============================] - 239s 121ms/step - loss: 0.5117 - accuracy: 0.7293 - auc: 0.8223 - precision: 0.6931 - recall: 0.6157 - val_loss: 0.5971 - val_accuracy: 0.6525 - val_auc: 0.7311 - val_precision: 0.6290 - val_recall: 0.3786\n",
      "Epoch 6/20\n",
      "375/375 [==============================] - 244s 131ms/step - loss: 0.4687 - accuracy: 0.7760 - auc: 0.8624 - precision: 0.7478 - recall: 0.6885 - val_loss: 0.6514 - val_accuracy: 0.6551 - val_auc: 0.7315 - val_precision: 0.6289 - val_recall: 0.3948\n",
      "Epoch 7/20\n",
      "375/375 [==============================] - 252s 138ms/step - loss: 0.4182 - accuracy: 0.8127 - auc: 0.8954 - precision: 0.7856 - recall: 0.7500 - val_loss: 0.5962 - val_accuracy: 0.6818 - val_auc: 0.7576 - val_precision: 0.5926 - val_recall: 0.7249\n",
      "Epoch 8/20\n",
      "375/375 [==============================] - 250s 131ms/step - loss: 0.3754 - accuracy: 0.8437 - auc: 0.9212 - precision: 0.8236 - recall: 0.7896 - val_loss: 0.5778 - val_accuracy: 0.7084 - val_auc: 0.7699 - val_precision: 0.6531 - val_recall: 0.6214\n",
      "Epoch 9/20\n",
      "375/375 [==============================] - 244s 130ms/step - loss: 0.3186 - accuracy: 0.8683 - auc: 0.9459 - precision: 0.8490 - recall: 0.8277 - val_loss: 0.5879 - val_accuracy: 0.7017 - val_auc: 0.7715 - val_precision: 0.6557 - val_recall: 0.5793\n",
      "Epoch 10/20\n",
      "375/375 [==============================] - 242s 128ms/step - loss: 0.2716 - accuracy: 0.8907 - auc: 0.9633 - precision: 0.8715 - recall: 0.8617 - val_loss: 0.6338 - val_accuracy: 0.7017 - val_auc: 0.7782 - val_precision: 0.6451 - val_recall: 0.6117\n",
      "Epoch 11/20\n",
      "375/375 [==============================] - 242s 128ms/step - loss: 0.2367 - accuracy: 0.9147 - auc: 0.9731 - precision: 0.8933 - recall: 0.9005 - val_loss: 0.6163 - val_accuracy: 0.7150 - val_auc: 0.7848 - val_precision: 0.6508 - val_recall: 0.6634\n",
      "Epoch 12/20\n",
      "375/375 [==============================] - 242s 128ms/step - loss: 0.2000 - accuracy: 0.9327 - auc: 0.9825 - precision: 0.9169 - recall: 0.9199 - val_loss: 0.6361 - val_accuracy: 0.7097 - val_auc: 0.7743 - val_precision: 0.6482 - val_recall: 0.6440\n",
      "Epoch 13/20\n",
      "375/375 [==============================] - 248s 131ms/step - loss: 0.1606 - accuracy: 0.9493 - auc: 0.9896 - precision: 0.9329 - recall: 0.9450 - val_loss: 0.6935 - val_accuracy: 0.7017 - val_auc: 0.7793 - val_precision: 0.6341 - val_recall: 0.6505\n"
     ]
    }
   ],
   "source": [
    "# Initialize Weights & Biases for experiment tracking\n",
    "WandbMetricsLogger = wandb.keras.WandbMetricsLogger\n",
    "WandbModelCheckpoint = wandb.keras.WandbModelCheckpoint\n",
    "\n",
    "run = wandb.init(project=\"baseline_part_1_cnn_2_conv_layers\", config={\n",
    "    \"batch_size\": 8,\n",
    "    \"epochs\": 20,\n",
    "    \"optimizer\": \"Adam\",\n",
    "    \"learning_rate\": 1e-4,\n",
    "    \"architecture\": \"shallow_cnn\"\n",
    "})\n",
    "\n",
    "# Train model with callbacks\n",
    "history = model.fit(\n",
    "    train_ds,\n",
    "    validation_data=val_ds,\n",
    "    epochs=20,\n",
    "    callbacks=[\n",
    "        WandbMetricsLogger(),\n",
    "        WandbModelCheckpoint(filepath=\"./models/best_model_epoch.keras\", monitor=\"val_loss\", save_best_only=True),  \n",
    "        # os.path.join(model_dir, \"best_model_epoch{epoch:02d}.keras\"), \n",
    "        EarlyStopping(patience=5, restore_best_weights=True, monitor=\"val_loss\")\n",
    "    ]\n",
    ")"
   ]
  },
  {
   "cell_type": "markdown",
   "id": "6bbd19fe",
   "metadata": {},
   "source": [
    "#### Integrate wandb in Python Code"
   ]
  },
  {
   "cell_type": "code",
   "execution_count": 12,
   "id": "3e4b8884",
   "metadata": {},
   "outputs": [],
   "source": [
    "# import wandb\n",
    "\n",
    "# # Initialize a new run\n",
    "# wandb.init(project=\"your-project-name\")\n",
    "\n",
    "# # Example: log hyperparameters\n",
    "# config = wandb.config\n",
    "# config.learning_rate = 0.001\n",
    "# config.batch_size = 32\n",
    "\n",
    "# # During/after training, log metrics\n",
    "# wandb.log({'accuracy': 0.85, 'loss': 0.3})\n",
    "\n",
    "#  (optional, wandb does this automatically on script exit)\n",
    "# wandb.finish()"
   ]
  },
  {
   "cell_type": "markdown",
   "id": "2551025d",
   "metadata": {},
   "source": [
    "#### Save history to CSV/Pickle"
   ]
  },
  {
   "cell_type": "code",
   "execution_count": 13,
   "id": "3f92ed5f",
   "metadata": {},
   "outputs": [],
   "source": [
    "# Save history to CSV\n",
    "import pandas as pd\n",
    "filename = \"../results/history/baseline-part-1-cnn-2-conv-layers.csv\"\n",
    "# Convert history to DataFrame\n",
    "df = pd.DataFrame(history.history)\n",
    "# Save to CSV\n",
    "df.to_csv(filename, index=True)\n",
    "# Load history from CSV\n",
    "# loaded_history = pd.read_csv(filename, index_col=0)"
   ]
  },
  {
   "cell_type": "code",
   "execution_count": 14,
   "id": "f190c7b0",
   "metadata": {},
   "outputs": [],
   "source": [
    "import pickle\n",
    "filename = \"../results/history/baseline-part-1-cnn-2-conv-layers.pkl\"\n",
    "# Save history\n",
    "with open(filename, 'wb') as f:\n",
    "    pickle.dump(history.history, f)\n",
    "# To load later\n",
    "# with open(filename, 'rb') as f:\n",
    "#     hist_dict = pickle.load(f)"
   ]
  },
  {
   "cell_type": "markdown",
   "id": "10c1d365",
   "metadata": {},
   "source": [
    "#### Visualize Training History"
   ]
  },
  {
   "cell_type": "code",
   "execution_count": 15,
   "id": "b4f892cb",
   "metadata": {},
   "outputs": [
    {
     "data": {
      "image/png": "[encoded data removed]",
      "text/plain": [
       "<Figure size 640x480 with 1 Axes>"
      ]
     },
     "metadata": {},
     "output_type": "display_data"
    }
   ],
   "source": [
    "import matplotlib.pyplot as plt\n",
    "\n",
    "plt.plot(history.history['loss'], label='train_loss')\n",
    "plt.plot(history.history['val_loss'], label='val_loss')\n",
    "plt.legend()\n",
    "plt.show()"
   ]
  },
  {
   "cell_type": "code",
   "execution_count": 16,
   "id": "236bc856",
   "metadata": {},
   "outputs": [
    {
     "data": {
      "image/png": "[encoded data removed]",
      "text/plain": [
       "<Figure size 1200x1000 with 4 Axes>"
      ]
     },
     "metadata": {},
     "output_type": "display_data"
    }
   ],
   "source": [
    "import matplotlib.pyplot as plt\n",
    "\n",
    "# Assume 'history' is the returned object from model.fit()\n",
    "# Example: history = model.fit(...)\n",
    "\n",
    "# Plot training & validation accuracy, AUC, precision, and recall\n",
    "metrics = ['accuracy', 'auc', 'precision', 'recall']\n",
    "\n",
    "plt.figure(figsize=(12, 10))\n",
    "for idx, metric in enumerate(metrics, 1):\n",
    "    plt.subplot(2, 2, idx)\n",
    "    plt.plot(history.history[metric], label='Train')\n",
    "    plt.plot(history.history['val_' + metric], label='Validation')\n",
    "    plt.title(metric.capitalize())\n",
    "    plt.xlabel('Epoch')\n",
    "    plt.ylabel(metric.capitalize())\n",
    "    plt.legend()\n",
    "\n",
    "plt.tight_layout()\n",
    "plt.show()"
   ]
  },
  {
   "cell_type": "code",
   "execution_count": 17,
   "id": "8a57574f",
   "metadata": {},
   "outputs": [
    {
     "name": "stdout",
     "output_type": "stream",
     "text": [
      "24/24 [==============================] - 0s 5ms/step\n"
     ]
    },
    {
     "data": {
      "image/png": "[encoded data removed]",
      "text/plain": [
       "<Figure size 600x500 with 2 Axes>"
      ]
     },
     "metadata": {},
     "output_type": "display_data"
    },
    {
     "ename": "Error",
     "evalue": "plotly is required to log interactive plots, install with: `pip install plotly` or convert the plot to an image with `wandb.Image(plt)`",
     "output_type": "error",
     "traceback": [
      "\u001b[0;31m---------------------------------------------------------------------------\u001b[0m",
      "\u001b[0;31mError\u001b[0m                                     Traceback (most recent call last)",
      "Cell \u001b[0;32mIn[17], line 45\u001b[0m\n\u001b[1;32m     42\u001b[0m plt\u001b[38;5;241m.\u001b[39mshow()\n\u001b[1;32m     44\u001b[0m \u001b[38;5;66;03m# --- Log the confusion matrix image to Weights & Biases ---\u001b[39;00m\n\u001b[0;32m---> 45\u001b[0m \u001b[43mrun\u001b[49m\u001b[38;5;241;43m.\u001b[39;49m\u001b[43mlog\u001b[49m\u001b[43m(\u001b[49m\u001b[43m{\u001b[49m\u001b[38;5;124;43m\"\u001b[39;49m\u001b[38;5;124;43mconfusion_matrix\u001b[39;49m\u001b[38;5;124;43m\"\u001b[39;49m\u001b[43m:\u001b[49m\u001b[43m \u001b[49m\u001b[43mplt\u001b[49m\u001b[43m}\u001b[49m\u001b[43m)\u001b[49m\n\u001b[1;32m     47\u001b[0m \u001b[38;5;66;03m# End the run\u001b[39;00m\n\u001b[1;32m     48\u001b[0m run\u001b[38;5;241m.\u001b[39mfinish()\n",
      "File \u001b[0;32m~/repository/MMG/.venv/lib/python3.10/site-packages/wandb/sdk/wandb_run.py:406\u001b[0m, in \u001b[0;36m_log_to_run.<locals>.wrapper\u001b[0;34m(self, *args, **kwargs)\u001b[0m\n\u001b[1;32m    403\u001b[0m     run_id \u001b[38;5;241m=\u001b[39m \u001b[38;5;28mself\u001b[39m\u001b[38;5;241m.\u001b[39m_attach_id\n\u001b[1;32m    405\u001b[0m \u001b[38;5;28;01mwith\u001b[39;00m wb_logging\u001b[38;5;241m.\u001b[39mlog_to_run(run_id):\n\u001b[0;32m--> 406\u001b[0m     \u001b[38;5;28;01mreturn\u001b[39;00m \u001b[43mfunc\u001b[49m\u001b[43m(\u001b[49m\u001b[38;5;28;43mself\u001b[39;49m\u001b[43m,\u001b[49m\u001b[43m \u001b[49m\u001b[38;5;241;43m*\u001b[39;49m\u001b[43margs\u001b[49m\u001b[43m,\u001b[49m\u001b[43m \u001b[49m\u001b[38;5;241;43m*\u001b[39;49m\u001b[38;5;241;43m*\u001b[39;49m\u001b[43mkwargs\u001b[49m\u001b[43m)\u001b[49m\n",
      "File \u001b[0;32m~/repository/MMG/.venv/lib/python3.10/site-packages/wandb/sdk/wandb_run.py:503\u001b[0m, in \u001b[0;36m_noop_if_forked_with_no_service.<locals>.wrapper\u001b[0;34m(self, *args, **kwargs)\u001b[0m\n\u001b[1;32m    500\u001b[0m init_pid \u001b[38;5;241m=\u001b[39m \u001b[38;5;28mself\u001b[39m\u001b[38;5;241m.\u001b[39m_init_pid\n\u001b[1;32m    502\u001b[0m \u001b[38;5;28;01mif\u001b[39;00m is_using_service \u001b[38;5;129;01mor\u001b[39;00m init_pid \u001b[38;5;241m==\u001b[39m os\u001b[38;5;241m.\u001b[39mgetpid():\n\u001b[0;32m--> 503\u001b[0m     \u001b[38;5;28;01mreturn\u001b[39;00m \u001b[43mfunc\u001b[49m\u001b[43m(\u001b[49m\u001b[38;5;28;43mself\u001b[39;49m\u001b[43m,\u001b[49m\u001b[43m \u001b[49m\u001b[38;5;241;43m*\u001b[39;49m\u001b[43margs\u001b[49m\u001b[43m,\u001b[49m\u001b[43m \u001b[49m\u001b[38;5;241;43m*\u001b[39;49m\u001b[38;5;241;43m*\u001b[39;49m\u001b[43mkwargs\u001b[49m\u001b[43m)\u001b[49m\n\u001b[1;32m    505\u001b[0m message \u001b[38;5;241m=\u001b[39m (\n\u001b[1;32m    506\u001b[0m     \u001b[38;5;124mf\u001b[39m\u001b[38;5;124m\"\u001b[39m\u001b[38;5;124m`\u001b[39m\u001b[38;5;132;01m{\u001b[39;00mfunc\u001b[38;5;241m.\u001b[39m\u001b[38;5;18m__name__\u001b[39m\u001b[38;5;132;01m}\u001b[39;00m\u001b[38;5;124m` ignored (called from pid=\u001b[39m\u001b[38;5;132;01m{\u001b[39;00mos\u001b[38;5;241m.\u001b[39mgetpid()\u001b[38;5;132;01m}\u001b[39;00m\u001b[38;5;124m,\u001b[39m\u001b[38;5;124m\"\u001b[39m\n\u001b[1;32m    507\u001b[0m     \u001b[38;5;124mf\u001b[39m\u001b[38;5;124m\"\u001b[39m\u001b[38;5;124m `init` called from pid=\u001b[39m\u001b[38;5;132;01m{\u001b[39;00minit_pid\u001b[38;5;132;01m}\u001b[39;00m\u001b[38;5;124m).\u001b[39m\u001b[38;5;124m\"\u001b[39m\n\u001b[1;32m    508\u001b[0m     \u001b[38;5;124mf\u001b[39m\u001b[38;5;124m\"\u001b[39m\u001b[38;5;124m See: \u001b[39m\u001b[38;5;132;01m{\u001b[39;00murl_registry\u001b[38;5;241m.\u001b[39murl(\u001b[38;5;124m'\u001b[39m\u001b[38;5;124mmultiprocess\u001b[39m\u001b[38;5;124m'\u001b[39m)\u001b[38;5;132;01m}\u001b[39;00m\u001b[38;5;124m\"\u001b[39m\n\u001b[1;32m    509\u001b[0m )\n\u001b[1;32m    511\u001b[0m \u001b[38;5;66;03m# This attribute may not exist because it is not included in the run's\u001b[39;00m\n\u001b[1;32m    512\u001b[0m \u001b[38;5;66;03m# pickled state.\u001b[39;00m\n",
      "File \u001b[0;32m~/repository/MMG/.venv/lib/python3.10/site-packages/wandb/sdk/wandb_run.py:464\u001b[0m, in \u001b[0;36m_raise_if_finished.<locals>.wrapper_fn\u001b[0;34m(self, *args, **kwargs)\u001b[0m\n\u001b[1;32m    461\u001b[0m \u001b[38;5;129m@functools\u001b[39m\u001b[38;5;241m.\u001b[39mwraps(func)\n\u001b[1;32m    462\u001b[0m \u001b[38;5;28;01mdef\u001b[39;00m\u001b[38;5;250m \u001b[39m\u001b[38;5;21mwrapper_fn\u001b[39m(\u001b[38;5;28mself\u001b[39m: Run, \u001b[38;5;241m*\u001b[39margs, \u001b[38;5;241m*\u001b[39m\u001b[38;5;241m*\u001b[39mkwargs) \u001b[38;5;241m-\u001b[39m\u001b[38;5;241m>\u001b[39m _T:\n\u001b[1;32m    463\u001b[0m     \u001b[38;5;28;01mif\u001b[39;00m \u001b[38;5;129;01mnot\u001b[39;00m \u001b[38;5;28mgetattr\u001b[39m(\u001b[38;5;28mself\u001b[39m, \u001b[38;5;124m\"\u001b[39m\u001b[38;5;124m_is_finished\u001b[39m\u001b[38;5;124m\"\u001b[39m, \u001b[38;5;28;01mFalse\u001b[39;00m):\n\u001b[0;32m--> 464\u001b[0m         \u001b[38;5;28;01mreturn\u001b[39;00m \u001b[43mfunc\u001b[49m\u001b[43m(\u001b[49m\u001b[38;5;28;43mself\u001b[39;49m\u001b[43m,\u001b[49m\u001b[43m \u001b[49m\u001b[38;5;241;43m*\u001b[39;49m\u001b[43margs\u001b[49m\u001b[43m,\u001b[49m\u001b[43m \u001b[49m\u001b[38;5;241;43m*\u001b[39;49m\u001b[38;5;241;43m*\u001b[39;49m\u001b[43mkwargs\u001b[49m\u001b[43m)\u001b[49m\n\u001b[1;32m    466\u001b[0m     message \u001b[38;5;241m=\u001b[39m (\n\u001b[1;32m    467\u001b[0m         \u001b[38;5;124mf\u001b[39m\u001b[38;5;124m\"\u001b[39m\u001b[38;5;124mRun (\u001b[39m\u001b[38;5;132;01m{\u001b[39;00m\u001b[38;5;28mself\u001b[39m\u001b[38;5;241m.\u001b[39mid\u001b[38;5;132;01m}\u001b[39;00m\u001b[38;5;124m) is finished. The call to\u001b[39m\u001b[38;5;124m\"\u001b[39m\n\u001b[1;32m    468\u001b[0m         \u001b[38;5;124mf\u001b[39m\u001b[38;5;124m\"\u001b[39m\u001b[38;5;124m `\u001b[39m\u001b[38;5;132;01m{\u001b[39;00mfunc\u001b[38;5;241m.\u001b[39m\u001b[38;5;18m__name__\u001b[39m\u001b[38;5;132;01m}\u001b[39;00m\u001b[38;5;124m` will be ignored.\u001b[39m\u001b[38;5;124m\"\u001b[39m\n\u001b[1;32m    469\u001b[0m         \u001b[38;5;124mf\u001b[39m\u001b[38;5;124m\"\u001b[39m\u001b[38;5;124m Please make sure that you are using an active run.\u001b[39m\u001b[38;5;124m\"\u001b[39m\n\u001b[1;32m    470\u001b[0m     )\n\u001b[1;32m    472\u001b[0m     \u001b[38;5;28;01mraise\u001b[39;00m UsageError(message)\n",
      "File \u001b[0;32m~/repository/MMG/.venv/lib/python3.10/site-packages/wandb/sdk/wandb_run.py:451\u001b[0m, in \u001b[0;36m_attach.<locals>.wrapper\u001b[0;34m(self, *args, **kwargs)\u001b[0m\n\u001b[1;32m    448\u001b[0m     \u001b[38;5;28;01mfinally\u001b[39;00m:\n\u001b[1;32m    449\u001b[0m         _is_attaching \u001b[38;5;241m=\u001b[39m \u001b[38;5;124m\"\u001b[39m\u001b[38;5;124m\"\u001b[39m\n\u001b[0;32m--> 451\u001b[0m \u001b[38;5;28;01mreturn\u001b[39;00m \u001b[43mfunc\u001b[49m\u001b[43m(\u001b[49m\u001b[38;5;28;43mself\u001b[39;49m\u001b[43m,\u001b[49m\u001b[43m \u001b[49m\u001b[38;5;241;43m*\u001b[39;49m\u001b[43margs\u001b[49m\u001b[43m,\u001b[49m\u001b[43m \u001b[49m\u001b[38;5;241;43m*\u001b[39;49m\u001b[38;5;241;43m*\u001b[39;49m\u001b[43mkwargs\u001b[49m\u001b[43m)\u001b[49m\n",
      "File \u001b[0;32m~/repository/MMG/.venv/lib/python3.10/site-packages/wandb/sdk/wandb_run.py:2071\u001b[0m, in \u001b[0;36mRun.log\u001b[0;34m(self, data, step, commit, sync)\u001b[0m\n\u001b[1;32m   2064\u001b[0m \u001b[38;5;28;01mif\u001b[39;00m \u001b[38;5;28mself\u001b[39m\u001b[38;5;241m.\u001b[39m_settings\u001b[38;5;241m.\u001b[39m_shared \u001b[38;5;129;01mand\u001b[39;00m step \u001b[38;5;129;01mis\u001b[39;00m \u001b[38;5;129;01mnot\u001b[39;00m \u001b[38;5;28;01mNone\u001b[39;00m:\n\u001b[1;32m   2065\u001b[0m     wandb\u001b[38;5;241m.\u001b[39mtermwarn(\n\u001b[1;32m   2066\u001b[0m         \u001b[38;5;124m\"\u001b[39m\u001b[38;5;124mIn shared mode, the use of `wandb.log` with the step argument is not supported \u001b[39m\u001b[38;5;124m\"\u001b[39m\n\u001b[1;32m   2067\u001b[0m         \u001b[38;5;124mf\u001b[39m\u001b[38;5;124m\"\u001b[39m\u001b[38;5;124mand will be ignored. Please refer to \u001b[39m\u001b[38;5;132;01m{\u001b[39;00murl_registry\u001b[38;5;241m.\u001b[39murl(\u001b[38;5;124m'\u001b[39m\u001b[38;5;124mdefine-metric\u001b[39m\u001b[38;5;124m'\u001b[39m)\u001b[38;5;132;01m}\u001b[39;00m\u001b[38;5;124m \u001b[39m\u001b[38;5;124m\"\u001b[39m\n\u001b[1;32m   2068\u001b[0m         \u001b[38;5;124m\"\u001b[39m\u001b[38;5;124mon how to customize your x-axis.\u001b[39m\u001b[38;5;124m\"\u001b[39m,\n\u001b[1;32m   2069\u001b[0m         repeat\u001b[38;5;241m=\u001b[39m\u001b[38;5;28;01mFalse\u001b[39;00m,\n\u001b[1;32m   2070\u001b[0m     )\n\u001b[0;32m-> 2071\u001b[0m \u001b[38;5;28;43mself\u001b[39;49m\u001b[38;5;241;43m.\u001b[39;49m\u001b[43m_log\u001b[49m\u001b[43m(\u001b[49m\u001b[43mdata\u001b[49m\u001b[38;5;241;43m=\u001b[39;49m\u001b[43mdata\u001b[49m\u001b[43m,\u001b[49m\u001b[43m \u001b[49m\u001b[43mstep\u001b[49m\u001b[38;5;241;43m=\u001b[39;49m\u001b[43mstep\u001b[49m\u001b[43m,\u001b[49m\u001b[43m \u001b[49m\u001b[43mcommit\u001b[49m\u001b[38;5;241;43m=\u001b[39;49m\u001b[43mcommit\u001b[49m\u001b[43m)\u001b[49m\n",
      "File \u001b[0;32m~/repository/MMG/.venv/lib/python3.10/site-packages/wandb/sdk/wandb_run.py:1783\u001b[0m, in \u001b[0;36mRun._log\u001b[0;34m(self, data, step, commit)\u001b[0m\n\u001b[1;32m   1780\u001b[0m \u001b[38;5;28;01mif\u001b[39;00m \u001b[38;5;28many\u001b[39m(\u001b[38;5;129;01mnot\u001b[39;00m \u001b[38;5;28misinstance\u001b[39m(key, \u001b[38;5;28mstr\u001b[39m) \u001b[38;5;28;01mfor\u001b[39;00m key \u001b[38;5;129;01min\u001b[39;00m data\u001b[38;5;241m.\u001b[39mkeys()):\n\u001b[1;32m   1781\u001b[0m     \u001b[38;5;28;01mraise\u001b[39;00m \u001b[38;5;167;01mValueError\u001b[39;00m(\u001b[38;5;124m\"\u001b[39m\u001b[38;5;124mKey values passed to `wandb.log` must be strings.\u001b[39m\u001b[38;5;124m\"\u001b[39m)\n\u001b[0;32m-> 1783\u001b[0m \u001b[38;5;28;43mself\u001b[39;49m\u001b[38;5;241;43m.\u001b[39;49m\u001b[43m_partial_history_callback\u001b[49m\u001b[43m(\u001b[49m\u001b[43mdata\u001b[49m\u001b[43m,\u001b[49m\u001b[43m \u001b[49m\u001b[43mstep\u001b[49m\u001b[43m,\u001b[49m\u001b[43m \u001b[49m\u001b[43mcommit\u001b[49m\u001b[43m)\u001b[49m\n\u001b[1;32m   1785\u001b[0m \u001b[38;5;28;01mif\u001b[39;00m step \u001b[38;5;129;01mis\u001b[39;00m \u001b[38;5;129;01mnot\u001b[39;00m \u001b[38;5;28;01mNone\u001b[39;00m:\n\u001b[1;32m   1786\u001b[0m     \u001b[38;5;28;01mif\u001b[39;00m os\u001b[38;5;241m.\u001b[39mgetpid() \u001b[38;5;241m!=\u001b[39m \u001b[38;5;28mself\u001b[39m\u001b[38;5;241m.\u001b[39m_init_pid \u001b[38;5;129;01mor\u001b[39;00m \u001b[38;5;28mself\u001b[39m\u001b[38;5;241m.\u001b[39m_is_attached:\n",
      "File \u001b[0;32m~/repository/MMG/.venv/lib/python3.10/site-packages/wandb/sdk/wandb_run.py:406\u001b[0m, in \u001b[0;36m_log_to_run.<locals>.wrapper\u001b[0;34m(self, *args, **kwargs)\u001b[0m\n\u001b[1;32m    403\u001b[0m     run_id \u001b[38;5;241m=\u001b[39m \u001b[38;5;28mself\u001b[39m\u001b[38;5;241m.\u001b[39m_attach_id\n\u001b[1;32m    405\u001b[0m \u001b[38;5;28;01mwith\u001b[39;00m wb_logging\u001b[38;5;241m.\u001b[39mlog_to_run(run_id):\n\u001b[0;32m--> 406\u001b[0m     \u001b[38;5;28;01mreturn\u001b[39;00m \u001b[43mfunc\u001b[49m\u001b[43m(\u001b[49m\u001b[38;5;28;43mself\u001b[39;49m\u001b[43m,\u001b[49m\u001b[43m \u001b[49m\u001b[38;5;241;43m*\u001b[39;49m\u001b[43margs\u001b[49m\u001b[43m,\u001b[49m\u001b[43m \u001b[49m\u001b[38;5;241;43m*\u001b[39;49m\u001b[38;5;241;43m*\u001b[39;49m\u001b[43mkwargs\u001b[49m\u001b[43m)\u001b[49m\n",
      "File \u001b[0;32m~/repository/MMG/.venv/lib/python3.10/site-packages/wandb/sdk/wandb_run.py:1610\u001b[0m, in \u001b[0;36mRun._partial_history_callback\u001b[0;34m(self, data, step, commit)\u001b[0m\n\u001b[1;32m   1607\u001b[0m data \u001b[38;5;241m=\u001b[39m \u001b[38;5;28mself\u001b[39m\u001b[38;5;241m.\u001b[39m_serialize_custom_charts(data)\n\u001b[1;32m   1609\u001b[0m not_using_tensorboard \u001b[38;5;241m=\u001b[39m \u001b[38;5;28mlen\u001b[39m(wandb\u001b[38;5;241m.\u001b[39mpatched[\u001b[38;5;124m\"\u001b[39m\u001b[38;5;124mtensorboard\u001b[39m\u001b[38;5;124m\"\u001b[39m]) \u001b[38;5;241m==\u001b[39m \u001b[38;5;241m0\u001b[39m\n\u001b[0;32m-> 1610\u001b[0m \u001b[38;5;28;43mself\u001b[39;49m\u001b[38;5;241;43m.\u001b[39;49m\u001b[43m_backend\u001b[49m\u001b[38;5;241;43m.\u001b[39;49m\u001b[43minterface\u001b[49m\u001b[38;5;241;43m.\u001b[39;49m\u001b[43mpublish_partial_history\u001b[49m\u001b[43m(\u001b[49m\n\u001b[1;32m   1611\u001b[0m \u001b[43m    \u001b[49m\u001b[38;5;28;43mself\u001b[39;49m\u001b[43m,\u001b[49m\n\u001b[1;32m   1612\u001b[0m \u001b[43m    \u001b[49m\u001b[43mdata\u001b[49m\u001b[43m,\u001b[49m\n\u001b[1;32m   1613\u001b[0m \u001b[43m    \u001b[49m\u001b[43muser_step\u001b[49m\u001b[38;5;241;43m=\u001b[39;49m\u001b[38;5;28;43mself\u001b[39;49m\u001b[38;5;241;43m.\u001b[39;49m\u001b[43m_step\u001b[49m\u001b[43m,\u001b[49m\n\u001b[1;32m   1614\u001b[0m \u001b[43m    \u001b[49m\u001b[43mstep\u001b[49m\u001b[38;5;241;43m=\u001b[39;49m\u001b[43mstep\u001b[49m\u001b[43m,\u001b[49m\n\u001b[1;32m   1615\u001b[0m \u001b[43m    \u001b[49m\u001b[43mflush\u001b[49m\u001b[38;5;241;43m=\u001b[39;49m\u001b[43mcommit\u001b[49m\u001b[43m,\u001b[49m\n\u001b[1;32m   1616\u001b[0m \u001b[43m    \u001b[49m\u001b[43mpublish_step\u001b[49m\u001b[38;5;241;43m=\u001b[39;49m\u001b[43mnot_using_tensorboard\u001b[49m\u001b[43m,\u001b[49m\n\u001b[1;32m   1617\u001b[0m \u001b[43m\u001b[49m\u001b[43m)\u001b[49m\n",
      "File \u001b[0;32m~/repository/MMG/.venv/lib/python3.10/site-packages/wandb/sdk/interface/interface.py:673\u001b[0m, in \u001b[0;36mInterfaceBase.publish_partial_history\u001b[0;34m(self, run, data, user_step, step, flush, publish_step)\u001b[0m\n\u001b[1;32m    664\u001b[0m \u001b[38;5;28;01mdef\u001b[39;00m\u001b[38;5;250m \u001b[39m\u001b[38;5;21mpublish_partial_history\u001b[39m(\n\u001b[1;32m    665\u001b[0m     \u001b[38;5;28mself\u001b[39m,\n\u001b[1;32m    666\u001b[0m     run: \u001b[38;5;124m\"\u001b[39m\u001b[38;5;124mRun\u001b[39m\u001b[38;5;124m\"\u001b[39m,\n\u001b[0;32m   (...)\u001b[0m\n\u001b[1;32m    671\u001b[0m     publish_step: \u001b[38;5;28mbool\u001b[39m \u001b[38;5;241m=\u001b[39m \u001b[38;5;28;01mTrue\u001b[39;00m,\n\u001b[1;32m    672\u001b[0m ) \u001b[38;5;241m-\u001b[39m\u001b[38;5;241m>\u001b[39m \u001b[38;5;28;01mNone\u001b[39;00m:\n\u001b[0;32m--> 673\u001b[0m     data \u001b[38;5;241m=\u001b[39m \u001b[43mhistory_dict_to_json\u001b[49m\u001b[43m(\u001b[49m\u001b[43mrun\u001b[49m\u001b[43m,\u001b[49m\u001b[43m \u001b[49m\u001b[43mdata\u001b[49m\u001b[43m,\u001b[49m\u001b[43m \u001b[49m\u001b[43mstep\u001b[49m\u001b[38;5;241;43m=\u001b[39;49m\u001b[43muser_step\u001b[49m\u001b[43m,\u001b[49m\u001b[43m \u001b[49m\u001b[43mignore_copy_err\u001b[49m\u001b[38;5;241;43m=\u001b[39;49m\u001b[38;5;28;43;01mTrue\u001b[39;49;00m\u001b[43m)\u001b[49m\n\u001b[1;32m    674\u001b[0m     data\u001b[38;5;241m.\u001b[39mpop(\u001b[38;5;124m\"\u001b[39m\u001b[38;5;124m_step\u001b[39m\u001b[38;5;124m\"\u001b[39m, \u001b[38;5;28;01mNone\u001b[39;00m)\n\u001b[1;32m    676\u001b[0m     \u001b[38;5;66;03m# add timestamp to the history request, if not already present\u001b[39;00m\n\u001b[1;32m    677\u001b[0m     \u001b[38;5;66;03m# the timestamp might come from the tensorboard log logic\u001b[39;00m\n",
      "File \u001b[0;32m~/repository/MMG/.venv/lib/python3.10/site-packages/wandb/sdk/data_types/utils.py:54\u001b[0m, in \u001b[0;36mhistory_dict_to_json\u001b[0;34m(run, payload, step, ignore_copy_err)\u001b[0m\n\u001b[1;32m     50\u001b[0m         payload[key] \u001b[38;5;241m=\u001b[39m history_dict_to_json(\n\u001b[1;32m     51\u001b[0m             run, val, step\u001b[38;5;241m=\u001b[39mstep, ignore_copy_err\u001b[38;5;241m=\u001b[39mignore_copy_err\n\u001b[1;32m     52\u001b[0m         )\n\u001b[1;32m     53\u001b[0m     \u001b[38;5;28;01melse\u001b[39;00m:\n\u001b[0;32m---> 54\u001b[0m         payload[key] \u001b[38;5;241m=\u001b[39m \u001b[43mval_to_json\u001b[49m\u001b[43m(\u001b[49m\n\u001b[1;32m     55\u001b[0m \u001b[43m            \u001b[49m\u001b[43mrun\u001b[49m\u001b[43m,\u001b[49m\u001b[43m \u001b[49m\u001b[43mkey\u001b[49m\u001b[43m,\u001b[49m\u001b[43m \u001b[49m\u001b[43mval\u001b[49m\u001b[43m,\u001b[49m\u001b[43m \u001b[49m\u001b[43mnamespace\u001b[49m\u001b[38;5;241;43m=\u001b[39;49m\u001b[43mstep\u001b[49m\u001b[43m,\u001b[49m\u001b[43m \u001b[49m\u001b[43mignore_copy_err\u001b[49m\u001b[38;5;241;43m=\u001b[39;49m\u001b[43mignore_copy_err\u001b[49m\n\u001b[1;32m     56\u001b[0m \u001b[43m        \u001b[49m\u001b[43m)\u001b[49m\n\u001b[1;32m     58\u001b[0m \u001b[38;5;28;01mreturn\u001b[39;00m payload\n",
      "File \u001b[0;32m~/repository/MMG/.venv/lib/python3.10/site-packages/wandb/sdk/data_types/utils.py:88\u001b[0m, in \u001b[0;36mval_to_json\u001b[0;34m(run, key, val, namespace, ignore_copy_err)\u001b[0m\n\u001b[1;32m     85\u001b[0m     val \u001b[38;5;241m=\u001b[39m wandb\u001b[38;5;241m.\u001b[39mTable(dataframe\u001b[38;5;241m=\u001b[39mval)\n\u001b[1;32m     87\u001b[0m \u001b[38;5;28;01melif\u001b[39;00m util\u001b[38;5;241m.\u001b[39mis_matplotlib_typename(typename) \u001b[38;5;129;01mor\u001b[39;00m util\u001b[38;5;241m.\u001b[39mis_plotly_typename(typename):\n\u001b[0;32m---> 88\u001b[0m     val \u001b[38;5;241m=\u001b[39m \u001b[43mPlotly\u001b[49m\u001b[38;5;241;43m.\u001b[39;49m\u001b[43mmake_plot_media\u001b[49m\u001b[43m(\u001b[49m\u001b[43mval\u001b[49m\u001b[43m)\u001b[49m\n\u001b[1;32m     89\u001b[0m \u001b[38;5;28;01melif\u001b[39;00m \u001b[38;5;28misinstance\u001b[39m(val, (\u001b[38;5;28mlist\u001b[39m, \u001b[38;5;28mtuple\u001b[39m, \u001b[38;5;28mrange\u001b[39m)) \u001b[38;5;129;01mand\u001b[39;00m \u001b[38;5;28mall\u001b[39m(\n\u001b[1;32m     90\u001b[0m     \u001b[38;5;28misinstance\u001b[39m(v, WBValue) \u001b[38;5;28;01mfor\u001b[39;00m v \u001b[38;5;129;01min\u001b[39;00m val\n\u001b[1;32m     91\u001b[0m ):\n\u001b[1;32m     92\u001b[0m     \u001b[38;5;28;01massert\u001b[39;00m run\n",
      "File \u001b[0;32m~/repository/MMG/.venv/lib/python3.10/site-packages/wandb/sdk/data_types/plotly.py:49\u001b[0m, in \u001b[0;36mPlotly.make_plot_media\u001b[0;34m(cls, val)\u001b[0m\n\u001b[1;32m     47\u001b[0m     \u001b[38;5;28;01mif\u001b[39;00m util\u001b[38;5;241m.\u001b[39mmatplotlib_contains_images(val):\n\u001b[1;32m     48\u001b[0m         \u001b[38;5;28;01mreturn\u001b[39;00m Image(val)\n\u001b[0;32m---> 49\u001b[0m     val \u001b[38;5;241m=\u001b[39m \u001b[43mutil\u001b[49m\u001b[38;5;241;43m.\u001b[39;49m\u001b[43mmatplotlib_to_plotly\u001b[49m\u001b[43m(\u001b[49m\u001b[43mval\u001b[49m\u001b[43m)\u001b[49m\n\u001b[1;32m     50\u001b[0m \u001b[38;5;28;01mreturn\u001b[39;00m \u001b[38;5;28mcls\u001b[39m(val)\n",
      "File \u001b[0;32m~/repository/MMG/.venv/lib/python3.10/site-packages/wandb/util.py:500\u001b[0m, in \u001b[0;36mmatplotlib_to_plotly\u001b[0;34m(obj)\u001b[0m\n\u001b[1;32m    498\u001b[0m \u001b[38;5;28;01mdef\u001b[39;00m\u001b[38;5;250m \u001b[39m\u001b[38;5;21mmatplotlib_to_plotly\u001b[39m(obj: Any) \u001b[38;5;241m-\u001b[39m\u001b[38;5;241m>\u001b[39m Any:\n\u001b[1;32m    499\u001b[0m     obj \u001b[38;5;241m=\u001b[39m ensure_matplotlib_figure(obj)\n\u001b[0;32m--> 500\u001b[0m     tools \u001b[38;5;241m=\u001b[39m \u001b[43mget_module\u001b[49m\u001b[43m(\u001b[49m\n\u001b[1;32m    501\u001b[0m \u001b[43m        \u001b[49m\u001b[38;5;124;43m\"\u001b[39;49m\u001b[38;5;124;43mplotly.tools\u001b[39;49m\u001b[38;5;124;43m\"\u001b[39;49m\u001b[43m,\u001b[49m\n\u001b[1;32m    502\u001b[0m \u001b[43m        \u001b[49m\u001b[43mrequired\u001b[49m\u001b[38;5;241;43m=\u001b[39;49m\u001b[43m(\u001b[49m\n\u001b[1;32m    503\u001b[0m \u001b[43m            \u001b[49m\u001b[38;5;124;43m\"\u001b[39;49m\u001b[38;5;124;43mplotly is required to log interactive plots, install with: \u001b[39;49m\u001b[38;5;124;43m\"\u001b[39;49m\n\u001b[1;32m    504\u001b[0m \u001b[43m            \u001b[49m\u001b[38;5;124;43m\"\u001b[39;49m\u001b[38;5;124;43m`pip install plotly` or convert the plot to an image with `wandb.Image(plt)`\u001b[39;49m\u001b[38;5;124;43m\"\u001b[39;49m\n\u001b[1;32m    505\u001b[0m \u001b[43m        \u001b[49m\u001b[43m)\u001b[49m\u001b[43m,\u001b[49m\n\u001b[1;32m    506\u001b[0m \u001b[43m    \u001b[49m\u001b[43m)\u001b[49m\n\u001b[1;32m    507\u001b[0m     \u001b[38;5;28;01mreturn\u001b[39;00m tools\u001b[38;5;241m.\u001b[39mmpl_to_plotly(obj)\n",
      "File \u001b[0;32m~/repository/MMG/.venv/lib/python3.10/site-packages/wandb/util.py:263\u001b[0m, in \u001b[0;36mget_module\u001b[0;34m(name, required, lazy)\u001b[0m\n\u001b[1;32m    261\u001b[0m             logger\u001b[38;5;241m.\u001b[39mexception(msg)\n\u001b[1;32m    262\u001b[0m \u001b[38;5;28;01mif\u001b[39;00m required \u001b[38;5;129;01mand\u001b[39;00m name \u001b[38;5;129;01min\u001b[39;00m _not_importable:\n\u001b[0;32m--> 263\u001b[0m     \u001b[38;5;28;01mraise\u001b[39;00m wandb\u001b[38;5;241m.\u001b[39mError(required)\n",
      "\u001b[0;31mError\u001b[0m: plotly is required to log interactive plots, install with: `pip install plotly` or convert the plot to an image with `wandb.Image(plt)`"
     ]
    },
    {
     "data": {
      "text/plain": [
       "<Figure size 640x480 with 0 Axes>"
      ]
     },
     "metadata": {},
     "output_type": "display_data"
    }
   ],
   "source": [
    "import numpy as np\n",
    "import matplotlib.pyplot as plt\n",
    "import seaborn as sns\n",
    "from sklearn.metrics import confusion_matrix\n",
    "\n",
    "# 1. Collect all validation data and labels\n",
    "val_images = []\n",
    "val_labels = []\n",
    "\n",
    "for batch in val_ds:\n",
    "    imgs, labels = batch\n",
    "    val_images.append(imgs.numpy())\n",
    "    val_labels.append(labels.numpy())\n",
    "\n",
    "val_images = np.concatenate(val_images, axis=0)\n",
    "val_labels = np.concatenate(val_labels, axis=0)\n",
    "\n",
    "# 2. Model predictions on validation images\n",
    "y_prob = model.predict(val_images)\n",
    "\n",
    "# 3. Convert probabilities to predicted labels\n",
    "if y_prob.shape[-1] == 1:  # Binary\n",
    "    y_pred = (y_prob > 0.5).astype(int).flatten()\n",
    "    y_true = val_labels.flatten()\n",
    "    labels = [\"BENIGN\", \"MALIGNANT\"]\n",
    "else:  # Multiclass\n",
    "    y_pred = np.argmax(y_prob, axis=1)\n",
    "    y_true = np.argmax(val_labels, axis=1)\n",
    "    # Define your own labels if >2 classes\n",
    "    labels = [f\"Class {i}\" for i in range(y_prob.shape[-1])]\n",
    "\n",
    "# 4. Compute confusion matrix\n",
    "cm = confusion_matrix(y_true, y_pred)\n",
    "\n",
    "# 5. Plot confusion matrix\n",
    "plt.figure(figsize=(6, 5))\n",
    "sns.heatmap(cm, annot=True, fmt=\"d\", cmap=\"Blues\", xticklabels=labels, yticklabels=labels)\n",
    "plt.xlabel(\"Predicted Label\")\n",
    "plt.ylabel(\"True Label\")\n",
    "plt.title(\"Confusion Matrix\")\n",
    "plt.tight_layout()\n",
    "plt.show()\n",
    "\n",
    "# --- Log the confusion matrix image to Weights & Biases ---\n",
    "# run.log({\"confusion_matrix\": plt})\n"
   ]
  },
  {
   "cell_type": "code",
   "execution_count": 19,
   "id": "b550de38",
   "metadata": {},
   "outputs": [
    {
     "data": {
      "text/html": [],
      "text/plain": [
       "<IPython.core.display.HTML object>"
      ]
     },
     "metadata": {},
     "output_type": "display_data"
    },
    {
     "data": {
      "text/html": [
       "<br>    <style><br>        .wandb-row {<br>            display: flex;<br>            flex-direction: row;<br>            flex-wrap: wrap;<br>            justify-content: flex-start;<br>            width: 100%;<br>        }<br>        .wandb-col {<br>            display: flex;<br>            flex-direction: column;<br>            flex-basis: 100%;<br>            flex: 1;<br>            padding: 10px;<br>        }<br>    </style><br><div class=\"wandb-row\"><div class=\"wandb-col\"><h3>Run history:</h3><br/><table class=\"wandb\"><tr><td>epoch/accuracy</td><td>▁▂▃▃▄▅▅▆▆▇▇██</td></tr><tr><td>epoch/auc</td><td>▁▃▄▅▅▆▆▇▇████</td></tr><tr><td>epoch/epoch</td><td>▁▂▂▃▃▄▅▅▆▆▇▇█</td></tr><tr><td>epoch/learning_rate</td><td>▁▁▁▁▁▁▁▁▁▁▁▁▁</td></tr><tr><td>epoch/loss</td><td>█▇▇▆▆▅▄▄▃▃▂▂▁</td></tr><tr><td>epoch/precision</td><td>▁▃▄▄▅▆▆▇▇▇███</td></tr><tr><td>epoch/recall</td><td>▁▂▅▅▅▆▆▇▇▇███</td></tr><tr><td>epoch/val_accuracy</td><td>▁▃▂▅▅▅▆█▇▇██▇</td></tr><tr><td>epoch/val_auc</td><td>▁▃▄▅▆▆▇▇▇████</td></tr><tr><td>epoch/val_loss</td><td>▆▄▅▂▂▅▂▁▂▄▃▅█</td></tr><tr><td>epoch/val_precision</td><td>▁▇▇███▇██████</td></tr><tr><td>epoch/val_recall</td><td>▁▇▄▅▅▅█▇▇▇▇▇▇</td></tr></table><br/></div><div class=\"wandb-col\"><h3>Run summary:</h3><br/><table class=\"wandb\"><tr><td>epoch/accuracy</td><td>0.94933</td></tr><tr><td>epoch/auc</td><td>0.98956</td></tr><tr><td>epoch/epoch</td><td>12</td></tr><tr><td>epoch/learning_rate</td><td>0.0001</td></tr><tr><td>epoch/loss</td><td>0.16056</td></tr><tr><td>epoch/precision</td><td>0.93291</td></tr><tr><td>epoch/recall</td><td>0.94498</td></tr><tr><td>epoch/val_accuracy</td><td>0.70173</td></tr><tr><td>epoch/val_auc</td><td>0.7793</td></tr><tr><td>epoch/val_loss</td><td>0.69352</td></tr><tr><td>epoch/val_precision</td><td>0.63407</td></tr><tr><td>epoch/val_recall</td><td>0.65049</td></tr></table><br/></div></div>"
      ],
      "text/plain": [
       "<IPython.core.display.HTML object>"
      ]
     },
     "metadata": {},
     "output_type": "display_data"
    },
    {
     "data": {
      "text/html": [
       " View run <strong style=\"color:#cdcd00\">amber-yogurt-16</strong> at: <a href='https://wandb.ai/tkshfj-bsc-computer-science-university-of-london/baseline_part_1_cnn_2_conv_layers/runs/8uves4if' target=\"_blank\">https://wandb.ai/tkshfj-bsc-computer-science-university-of-london/baseline_part_1_cnn_2_conv_layers/runs/8uves4if</a><br> View project at: <a href='https://wandb.ai/tkshfj-bsc-computer-science-university-of-london/baseline_part_1_cnn_2_conv_layers' target=\"_blank\">https://wandb.ai/tkshfj-bsc-computer-science-university-of-london/baseline_part_1_cnn_2_conv_layers</a><br>Synced 5 W&B file(s), 0 media file(s), 12 artifact file(s) and 0 other file(s)"
      ],
      "text/plain": [
       "<IPython.core.display.HTML object>"
      ]
     },
     "metadata": {},
     "output_type": "display_data"
    },
    {
     "data": {
      "text/html": [
       "Find logs at: <code>./wandb/run-20250601_081433-8uves4if/logs</code>"
      ],
      "text/plain": [
       "<IPython.core.display.HTML object>"
      ]
     },
     "metadata": {},
     "output_type": "display_data"
    }
   ],
   "source": [
    "# End the run\n",
    "run.finish()"
   ]
  },
  {
   "cell_type": "code",
   "execution_count": 18,
   "id": "eceeff5b",
   "metadata": {},
   "outputs": [],
   "source": [
    "# Save in the new Keras format\n",
    "model.save(\"./models/baseline-part-1-cnn-2-conv-layers.keras\")"
   ]
  },
  {
   "cell_type": "markdown",
   "id": "17370fb3",
   "metadata": {},
   "source": [
    "- **1. Strong Training Performance**\n",
    "\n",
    "* **Training accuracy (0.95), AUC (0.99), precision (0.93), recall (0.94), and loss (0.16) are all excellent.**\n",
    "\n",
    "  * The model nearly perfectly fits the training data.\n",
    "\n",
    "- **2. Limited Generalization on Validation**\n",
    "\n",
    "* **Validation accuracy (0.70), AUC (0.78), precision (0.63), recall (0.65), and loss (0.69) are much lower.**\n",
    "\n",
    "  * The drop from training to validation is substantial, especially in AUC and precision.\n",
    "  * **Validation loss (0.69)** is close to the value for a random classifier in binary cross-entropy (\\~0.69), suggesting limited separation.\n",
    "\n",
    "- **3. Possible Overfitting**\n",
    "\n",
    "* **Large gap between train and validation metrics** (accuracy, AUC, precision, recall) implies the model is overfitting.\n",
    "\n",
    "  * The model learns the training data extremely well, but fails to generalize as effectively to unseen data.\n",
    "  * Overfitting is also suggested by the pattern in the metric bars: train metrics ramp up rapidly and flatten, while validation metrics plateau much lower.\n",
    "\n",
    "- **4. Moderate but Insufficient Validation Performance**\n",
    "\n",
    "* **Validation AUC (0.78)** is below the generally accepted threshold (AUC > 0.80–0.85) for medical models to be considered clinically useful.\n",
    "* **Precision and recall on validation** are in the mid-0.6 range, meaning the model misses a substantial number of positives and has false positives.\n",
    "\n",
    "- **5. Model May Be Too Simple**\n",
    "\n",
    "* The quick, nearly perfect fit on training data but not on validation often points to either:\n",
    "\n",
    "  * Not enough regularization,\n",
    "  * Model capacity that is too high relative to dataset size,\n",
    "  * Or, conversely, a model that is not complex enough to generalize (if the dataset is very complex)\n",
    "\n",
    "- **Summary Paragraph**\n",
    "\n",
    "The model achieves very high accuracy and AUC on the training set, indicating it can fit the training data almost perfectly. However, validation performance is much lower across all metrics—accuracy, AUC, precision, recall, and loss—suggesting significant overfitting. The validation AUC (0.78) and accuracy (0.70) fall short of the thresholds typically required for clinical relevance in medical imaging tasks, and the validation loss remains close to that of a random classifier. This implies that while the model learns the training data well, it does not generalize sufficiently to new data, and further improvements are needed through regularization, model tuning, or data augmentation to reduce overfitting and achieve clinically meaningful performance."
   ]
  },
  {
   "cell_type": "markdown",
   "id": "bce127ac",
   "metadata": {},
   "source": [
    "### Part 2: CNN with 2 Conv Layers + Dropout\n",
    "  To mitigate overfitting and improve the model’s ability to generalize, a Dropout layer is added after the dense layer. Dropout randomly deactivates a proportion of neurons during training, preventing the network from relying too heavily on specific features."
   ]
  },
  {
   "cell_type": "markdown",
   "id": "c2cd861b",
   "metadata": {},
   "source": [
    "We use Weights and Biases Sweeps to automate hyperparameter search and model optimization. https://docs.wandb.ai/guides/sweeps/"
   ]
  },
  {
   "cell_type": "code",
   "execution_count": 20,
   "id": "aec3b845",
   "metadata": {},
   "outputs": [
    {
     "name": "stdout",
     "output_type": "stream",
     "text": [
      "Create sweep with ID: n900onl4\n",
      "Sweep URL: https://wandb.ai/tkshfj-bsc-computer-science-university-of-london/baseline_part_2_cnn_2_conv_layers_dropout/sweeps/n900onl4\n"
     ]
    },
    {
     "name": "stderr",
     "output_type": "stream",
     "text": [
      "\u001b[34m\u001b[1mwandb\u001b[0m: Agent Starting Run: uwxcsf2y with config:\n",
      "\u001b[34m\u001b[1mwandb\u001b[0m: \tbatch_size: 8\n",
      "\u001b[34m\u001b[1mwandb\u001b[0m: \tdropout: 0.3969173578838055\n",
      "\u001b[34m\u001b[1mwandb\u001b[0m: \tepochs: 20\n",
      "\u001b[34m\u001b[1mwandb\u001b[0m: \tfilters: 64\n",
      "\u001b[34m\u001b[1mwandb\u001b[0m: \tkernel_size: 3\n",
      "\u001b[34m\u001b[1mwandb\u001b[0m: \tlearning_rate: 0.0002605613024319428\n"
     ]
    },
    {
     "data": {
      "text/html": [
       "Ignoring project 'baseline_part_2_cnn_2_conv_layers_dropout' when running a sweep."
      ],
      "text/plain": [
       "<IPython.core.display.HTML object>"
      ]
     },
     "metadata": {},
     "output_type": "display_data"
    },
    {
     "data": {
      "text/html": [
       "Tracking run with wandb version 0.19.11"
      ],
      "text/plain": [
       "<IPython.core.display.HTML object>"
      ]
     },
     "metadata": {},
     "output_type": "display_data"
    },
    {
     "data": {
      "text/html": [
       "Run data is saved locally in <code>/home/tkshfj/repository/MMG/notebooks/wandb/run-20250601_093838-uwxcsf2y</code>"
      ],
      "text/plain": [
       "<IPython.core.display.HTML object>"
      ]
     },
     "metadata": {},
     "output_type": "display_data"
    },
    {
     "data": {
      "text/html": [
       "Syncing run <strong><a href='https://wandb.ai/tkshfj-bsc-computer-science-university-of-london/baseline_part_2_cnn_2_conv_layers_dropout/runs/uwxcsf2y' target=\"_blank\">generous-sweep-1</a></strong> to <a href='https://wandb.ai/tkshfj-bsc-computer-science-university-of-london/baseline_part_2_cnn_2_conv_layers_dropout' target=\"_blank\">Weights & Biases</a> (<a href='https://wandb.me/developer-guide' target=\"_blank\">docs</a>)<br>Sweep page: <a href='https://wandb.ai/tkshfj-bsc-computer-science-university-of-london/baseline_part_2_cnn_2_conv_layers_dropout/sweeps/n900onl4' target=\"_blank\">https://wandb.ai/tkshfj-bsc-computer-science-university-of-london/baseline_part_2_cnn_2_conv_layers_dropout/sweeps/n900onl4</a>"
      ],
      "text/plain": [
       "<IPython.core.display.HTML object>"
      ]
     },
     "metadata": {},
     "output_type": "display_data"
    },
    {
     "data": {
      "text/html": [
       " View project at <a href='https://wandb.ai/tkshfj-bsc-computer-science-university-of-london/baseline_part_2_cnn_2_conv_layers_dropout' target=\"_blank\">https://wandb.ai/tkshfj-bsc-computer-science-university-of-london/baseline_part_2_cnn_2_conv_layers_dropout</a>"
      ],
      "text/plain": [
       "<IPython.core.display.HTML object>"
      ]
     },
     "metadata": {},
     "output_type": "display_data"
    },
    {
     "data": {
      "text/html": [
       " View sweep at <a href='https://wandb.ai/tkshfj-bsc-computer-science-university-of-london/baseline_part_2_cnn_2_conv_layers_dropout/sweeps/n900onl4' target=\"_blank\">https://wandb.ai/tkshfj-bsc-computer-science-university-of-london/baseline_part_2_cnn_2_conv_layers_dropout/sweeps/n900onl4</a>"
      ],
      "text/plain": [
       "<IPython.core.display.HTML object>"
      ]
     },
     "metadata": {},
     "output_type": "display_data"
    },
    {
     "data": {
      "text/html": [
       " View run at <a href='https://wandb.ai/tkshfj-bsc-computer-science-university-of-london/baseline_part_2_cnn_2_conv_layers_dropout/runs/uwxcsf2y' target=\"_blank\">https://wandb.ai/tkshfj-bsc-computer-science-university-of-london/baseline_part_2_cnn_2_conv_layers_dropout/runs/uwxcsf2y</a>"
      ],
      "text/plain": [
       "<IPython.core.display.HTML object>"
      ]
     },
     "metadata": {},
     "output_type": "display_data"
    },
    {
     "name": "stdout",
     "output_type": "stream",
     "text": [
      "Epoch 1/20\n"
     ]
    },
    {
     "name": "stderr",
     "output_type": "stream",
     "text": [
      "WARNING: All log messages before absl::InitializeLog() is called are written to STDERR\n",
      "I0000 00:00:1748738523.010630   12983 device_compiler.h:186] Compiled cluster using XLA!  This line is logged at most once for the lifetime of the process.\n"
     ]
    },
    {
     "name": "stdout",
     "output_type": "stream",
     "text": [
      "375/375 - 254s - loss: 0.6635 - accuracy: 0.6010 - auc: 0.6061 - precision: 0.5314 - recall: 0.2670 - val_loss: 0.6598 - val_accuracy: 0.6045 - val_auc: 0.6387 - val_precision: 0.5204 - val_recall: 0.4951 - 254s/epoch - 677ms/step\n",
      "Epoch 2/20\n",
      "375/375 - 248s - loss: 0.6236 - accuracy: 0.6420 - auc: 0.6852 - precision: 0.6018 - recall: 0.3875 - val_loss: 0.6267 - val_accuracy: 0.6325 - val_auc: 0.6703 - val_precision: 0.5954 - val_recall: 0.3333 - 248s/epoch - 660ms/step\n",
      "Epoch 3/20\n",
      "375/375 - 246s - loss: 0.5826 - accuracy: 0.6893 - auc: 0.7490 - precision: 0.6755 - recall: 0.4733 - val_loss: 0.6253 - val_accuracy: 0.6511 - val_auc: 0.6800 - val_precision: 0.6017 - val_recall: 0.4498 - 246s/epoch - 657ms/step\n",
      "Epoch 4/20\n",
      "375/375 - 257s - loss: 0.5276 - accuracy: 0.7357 - auc: 0.8071 - precision: 0.7240 - recall: 0.5793 - val_loss: 0.6217 - val_accuracy: 0.6445 - val_auc: 0.6950 - val_precision: 0.5963 - val_recall: 0.4207 - 257s/epoch - 687ms/step\n",
      "Epoch 5/20\n",
      "375/375 - 252s - loss: 0.4718 - accuracy: 0.7713 - auc: 0.8533 - precision: 0.7639 - recall: 0.6440 - val_loss: 0.6408 - val_accuracy: 0.6724 - val_auc: 0.7063 - val_precision: 0.6162 - val_recall: 0.5405 - 252s/epoch - 671ms/step\n",
      "Epoch 6/20\n",
      "375/375 - 249s - loss: 0.4093 - accuracy: 0.8097 - auc: 0.8945 - precision: 0.7982 - recall: 0.7201 - val_loss: 0.6513 - val_accuracy: 0.6671 - val_auc: 0.7098 - val_precision: 0.6042 - val_recall: 0.5534 - 249s/epoch - 663ms/step\n",
      "Epoch 7/20\n",
      "375/375 - 252s - loss: 0.3569 - accuracy: 0.8450 - auc: 0.9230 - precision: 0.8408 - recall: 0.7694 - val_loss: 0.6719 - val_accuracy: 0.6644 - val_auc: 0.7223 - val_precision: 0.6192 - val_recall: 0.4790 - 252s/epoch - 672ms/step\n",
      "Epoch 8/20\n",
      "375/375 - 244s - loss: 0.3089 - accuracy: 0.8667 - auc: 0.9454 - precision: 0.8635 - recall: 0.8034 - val_loss: 0.7334 - val_accuracy: 0.6671 - val_auc: 0.7178 - val_precision: 0.6097 - val_recall: 0.5307 - 244s/epoch - 650ms/step\n",
      "Epoch 9/20\n",
      "375/375 - 248s - loss: 0.2725 - accuracy: 0.8853 - auc: 0.9568 - precision: 0.8717 - recall: 0.8463 - val_loss: 0.7362 - val_accuracy: 0.6738 - val_auc: 0.7238 - val_precision: 0.6168 - val_recall: 0.5469 - 248s/epoch - 661ms/step\n"
     ]
    },
    {
     "data": {
      "text/html": [],
      "text/plain": [
       "<IPython.core.display.HTML object>"
      ]
     },
     "metadata": {},
     "output_type": "display_data"
    },
    {
     "data": {
      "text/html": [
       "<br>    <style><br>        .wandb-row {<br>            display: flex;<br>            flex-direction: row;<br>            flex-wrap: wrap;<br>            justify-content: flex-start;<br>            width: 100%;<br>        }<br>        .wandb-col {<br>            display: flex;<br>            flex-direction: column;<br>            flex-basis: 100%;<br>            flex: 1;<br>            padding: 10px;<br>        }<br>    </style><br><div class=\"wandb-row\"><div class=\"wandb-col\"><h3>Run history:</h3><br/><table class=\"wandb\"><tr><td>epoch/accuracy</td><td>▁▂▃▄▅▆▇██</td></tr><tr><td>epoch/auc</td><td>▁▃▄▅▆▇▇██</td></tr><tr><td>epoch/epoch</td><td>▁▂▃▄▅▅▆▇█</td></tr><tr><td>epoch/learning_rate</td><td>▁▁▁▁▁▁▁▁▁</td></tr><tr><td>epoch/loss</td><td>█▇▇▆▅▃▃▂▁</td></tr><tr><td>epoch/precision</td><td>▁▂▄▅▆▆▇██</td></tr><tr><td>epoch/recall</td><td>▁▂▃▅▆▆▇▇█</td></tr><tr><td>epoch/val_accuracy</td><td>▁▄▆▅█▇▇▇█</td></tr><tr><td>epoch/val_auc</td><td>▁▄▄▆▇▇███</td></tr><tr><td>epoch/val_loss</td><td>▃▁▁▁▂▃▄██</td></tr><tr><td>epoch/val_precision</td><td>▁▆▇▆█▇█▇█</td></tr><tr><td>epoch/val_recall</td><td>▆▁▅▄██▆▇█</td></tr></table><br/></div><div class=\"wandb-col\"><h3>Run summary:</h3><br/><table class=\"wandb\"><tr><td>epoch/accuracy</td><td>0.88533</td></tr><tr><td>epoch/auc</td><td>0.95675</td></tr><tr><td>epoch/epoch</td><td>8</td></tr><tr><td>epoch/learning_rate</td><td>0.00026</td></tr><tr><td>epoch/loss</td><td>0.27248</td></tr><tr><td>epoch/precision</td><td>0.87167</td></tr><tr><td>epoch/recall</td><td>0.84628</td></tr><tr><td>epoch/val_accuracy</td><td>0.67377</td></tr><tr><td>epoch/val_auc</td><td>0.72382</td></tr><tr><td>epoch/val_loss</td><td>0.73615</td></tr><tr><td>epoch/val_precision</td><td>0.61679</td></tr><tr><td>epoch/val_recall</td><td>0.54693</td></tr></table><br/></div></div>"
      ],
      "text/plain": [
       "<IPython.core.display.HTML object>"
      ]
     },
     "metadata": {},
     "output_type": "display_data"
    },
    {
     "data": {
      "text/html": [
       " View run <strong style=\"color:#cdcd00\">generous-sweep-1</strong> at: <a href='https://wandb.ai/tkshfj-bsc-computer-science-university-of-london/baseline_part_2_cnn_2_conv_layers_dropout/runs/uwxcsf2y' target=\"_blank\">https://wandb.ai/tkshfj-bsc-computer-science-university-of-london/baseline_part_2_cnn_2_conv_layers_dropout/runs/uwxcsf2y</a><br> View project at: <a href='https://wandb.ai/tkshfj-bsc-computer-science-university-of-london/baseline_part_2_cnn_2_conv_layers_dropout' target=\"_blank\">https://wandb.ai/tkshfj-bsc-computer-science-university-of-london/baseline_part_2_cnn_2_conv_layers_dropout</a><br>Synced 5 W&B file(s), 0 media file(s), 0 artifact file(s) and 0 other file(s)"
      ],
      "text/plain": [
       "<IPython.core.display.HTML object>"
      ]
     },
     "metadata": {},
     "output_type": "display_data"
    },
    {
     "data": {
      "text/html": [
       "Find logs at: <code>./wandb/run-20250601_093838-uwxcsf2y/logs</code>"
      ],
      "text/plain": [
       "<IPython.core.display.HTML object>"
      ]
     },
     "metadata": {},
     "output_type": "display_data"
    },
    {
     "name": "stderr",
     "output_type": "stream",
     "text": [
      "\u001b[34m\u001b[1mwandb\u001b[0m: Sweep Agent: Waiting for job.\n",
      "\u001b[34m\u001b[1mwandb\u001b[0m: Job received.\n",
      "\u001b[34m\u001b[1mwandb\u001b[0m: Agent Starting Run: vayxha50 with config:\n",
      "\u001b[34m\u001b[1mwandb\u001b[0m: \tbatch_size: 16\n",
      "\u001b[34m\u001b[1mwandb\u001b[0m: \tdropout: 0.0262300861568876\n",
      "\u001b[34m\u001b[1mwandb\u001b[0m: \tepochs: 20\n",
      "\u001b[34m\u001b[1mwandb\u001b[0m: \tfilters: 16\n",
      "\u001b[34m\u001b[1mwandb\u001b[0m: \tkernel_size: 3\n",
      "\u001b[34m\u001b[1mwandb\u001b[0m: \tlearning_rate: 0.0008137351828101767\n"
     ]
    },
    {
     "data": {
      "text/html": [
       "Ignoring project 'baseline_part_2_cnn_2_conv_layers_dropout' when running a sweep."
      ],
      "text/plain": [
       "<IPython.core.display.HTML object>"
      ]
     },
     "metadata": {},
     "output_type": "display_data"
    },
    {
     "data": {
      "text/html": [
       "Tracking run with wandb version 0.19.11"
      ],
      "text/plain": [
       "<IPython.core.display.HTML object>"
      ]
     },
     "metadata": {},
     "output_type": "display_data"
    },
    {
     "data": {
      "text/html": [
       "Run data is saved locally in <code>/home/tkshfj/repository/MMG/notebooks/wandb/run-20250601_101621-vayxha50</code>"
      ],
      "text/plain": [
       "<IPython.core.display.HTML object>"
      ]
     },
     "metadata": {},
     "output_type": "display_data"
    },
    {
     "data": {
      "text/html": [
       "Syncing run <strong><a href='https://wandb.ai/tkshfj-bsc-computer-science-university-of-london/baseline_part_2_cnn_2_conv_layers_dropout/runs/vayxha50' target=\"_blank\">bumbling-sweep-2</a></strong> to <a href='https://wandb.ai/tkshfj-bsc-computer-science-university-of-london/baseline_part_2_cnn_2_conv_layers_dropout' target=\"_blank\">Weights & Biases</a> (<a href='https://wandb.me/developer-guide' target=\"_blank\">docs</a>)<br>Sweep page: <a href='https://wandb.ai/tkshfj-bsc-computer-science-university-of-london/baseline_part_2_cnn_2_conv_layers_dropout/sweeps/n900onl4' target=\"_blank\">https://wandb.ai/tkshfj-bsc-computer-science-university-of-london/baseline_part_2_cnn_2_conv_layers_dropout/sweeps/n900onl4</a>"
      ],
      "text/plain": [
       "<IPython.core.display.HTML object>"
      ]
     },
     "metadata": {},
     "output_type": "display_data"
    },
    {
     "data": {
      "text/html": [
       " View project at <a href='https://wandb.ai/tkshfj-bsc-computer-science-university-of-london/baseline_part_2_cnn_2_conv_layers_dropout' target=\"_blank\">https://wandb.ai/tkshfj-bsc-computer-science-university-of-london/baseline_part_2_cnn_2_conv_layers_dropout</a>"
      ],
      "text/plain": [
       "<IPython.core.display.HTML object>"
      ]
     },
     "metadata": {},
     "output_type": "display_data"
    },
    {
     "data": {
      "text/html": [
       " View sweep at <a href='https://wandb.ai/tkshfj-bsc-computer-science-university-of-london/baseline_part_2_cnn_2_conv_layers_dropout/sweeps/n900onl4' target=\"_blank\">https://wandb.ai/tkshfj-bsc-computer-science-university-of-london/baseline_part_2_cnn_2_conv_layers_dropout/sweeps/n900onl4</a>"
      ],
      "text/plain": [
       "<IPython.core.display.HTML object>"
      ]
     },
     "metadata": {},
     "output_type": "display_data"
    },
    {
     "data": {
      "text/html": [
       " View run at <a href='https://wandb.ai/tkshfj-bsc-computer-science-university-of-london/baseline_part_2_cnn_2_conv_layers_dropout/runs/vayxha50' target=\"_blank\">https://wandb.ai/tkshfj-bsc-computer-science-university-of-london/baseline_part_2_cnn_2_conv_layers_dropout/runs/vayxha50</a>"
      ],
      "text/plain": [
       "<IPython.core.display.HTML object>"
      ]
     },
     "metadata": {},
     "output_type": "display_data"
    },
    {
     "name": "stdout",
     "output_type": "stream",
     "text": [
      "Epoch 1/20\n",
      "375/375 - 257s - loss: 0.6653 - accuracy: 0.6030 - auc: 0.5959 - precision: 0.5368 - recall: 0.2654 - val_loss: 0.6837 - val_accuracy: 0.6125 - val_auc: 0.6520 - val_precision: 0.8000 - val_recall: 0.0777 - 257s/epoch - 686ms/step\n",
      "Epoch 2/20\n",
      "375/375 - 254s - loss: 0.6111 - accuracy: 0.6523 - auc: 0.7051 - precision: 0.6220 - recall: 0.3981 - val_loss: 0.6294 - val_accuracy: 0.6418 - val_auc: 0.6774 - val_precision: 0.5800 - val_recall: 0.4693 - 254s/epoch - 676ms/step\n",
      "Epoch 3/20\n",
      "375/375 - 256s - loss: 0.5485 - accuracy: 0.7163 - auc: 0.7863 - precision: 0.6987 - recall: 0.5477 - val_loss: 0.6146 - val_accuracy: 0.6605 - val_auc: 0.7070 - val_precision: 0.5951 - val_recall: 0.5469 - 256s/epoch - 682ms/step\n",
      "Epoch 4/20\n",
      "375/375 - 257s - loss: 0.4676 - accuracy: 0.7847 - auc: 0.8542 - precision: 0.7742 - recall: 0.6739 - val_loss: 0.6004 - val_accuracy: 0.6724 - val_auc: 0.7240 - val_precision: 0.6296 - val_recall: 0.4951 - 257s/epoch - 685ms/step\n",
      "Epoch 5/20\n",
      "375/375 - 262s - loss: 0.4025 - accuracy: 0.8200 - auc: 0.8977 - precision: 0.8096 - recall: 0.7362 - val_loss: 0.6476 - val_accuracy: 0.6711 - val_auc: 0.7245 - val_precision: 0.6325 - val_recall: 0.4790 - 262s/epoch - 699ms/step\n",
      "Epoch 6/20\n",
      "375/375 - 260s - loss: 0.3290 - accuracy: 0.8593 - auc: 0.9355 - precision: 0.8558 - recall: 0.7921 - val_loss: 0.7309 - val_accuracy: 0.6751 - val_auc: 0.7271 - val_precision: 0.6471 - val_recall: 0.4628 - 260s/epoch - 693ms/step\n",
      "Epoch 7/20\n",
      "375/375 - 259s - loss: 0.2778 - accuracy: 0.8803 - auc: 0.9537 - precision: 0.8803 - recall: 0.8212 - val_loss: 0.7548 - val_accuracy: 0.6751 - val_auc: 0.7325 - val_precision: 0.6087 - val_recall: 0.5890 - 259s/epoch - 692ms/step\n",
      "Epoch 8/20\n",
      "375/375 - 262s - loss: 0.2208 - accuracy: 0.9133 - auc: 0.9729 - precision: 0.9046 - recall: 0.8827 - val_loss: 0.8268 - val_accuracy: 0.6791 - val_auc: 0.7183 - val_precision: 0.6043 - val_recall: 0.6375 - 262s/epoch - 698ms/step\n",
      "Epoch 9/20\n",
      "375/375 - 257s - loss: 0.1896 - accuracy: 0.9320 - auc: 0.9794 - precision: 0.9202 - recall: 0.9142 - val_loss: 0.9027 - val_accuracy: 0.6818 - val_auc: 0.7268 - val_precision: 0.6167 - val_recall: 0.5987 - 257s/epoch - 686ms/step\n"
     ]
    },
    {
     "data": {
      "text/html": [],
      "text/plain": [
       "<IPython.core.display.HTML object>"
      ]
     },
     "metadata": {},
     "output_type": "display_data"
    },
    {
     "data": {
      "text/html": [
       "<br>    <style><br>        .wandb-row {<br>            display: flex;<br>            flex-direction: row;<br>            flex-wrap: wrap;<br>            justify-content: flex-start;<br>            width: 100%;<br>        }<br>        .wandb-col {<br>            display: flex;<br>            flex-direction: column;<br>            flex-basis: 100%;<br>            flex: 1;<br>            padding: 10px;<br>        }<br>    </style><br><div class=\"wandb-row\"><div class=\"wandb-col\"><h3>Run history:</h3><br/><table class=\"wandb\"><tr><td>epoch/accuracy</td><td>▁▂▃▅▆▆▇██</td></tr><tr><td>epoch/auc</td><td>▁▃▄▆▇▇███</td></tr><tr><td>epoch/epoch</td><td>▁▂▃▄▅▅▆▇█</td></tr><tr><td>epoch/learning_rate</td><td>▁▁▁▁▁▁▁▁▁</td></tr><tr><td>epoch/loss</td><td>█▇▆▅▄▃▂▁▁</td></tr><tr><td>epoch/precision</td><td>▁▃▄▅▆▇▇██</td></tr><tr><td>epoch/recall</td><td>▁▂▄▅▆▇▇██</td></tr><tr><td>epoch/val_accuracy</td><td>▁▄▆▇▇▇▇██</td></tr><tr><td>epoch/val_auc</td><td>▁▃▆▇▇██▇█</td></tr><tr><td>epoch/val_loss</td><td>▃▂▁▁▂▄▅▆█</td></tr><tr><td>epoch/val_precision</td><td>█▁▁▃▃▃▂▂▂</td></tr><tr><td>epoch/val_recall</td><td>▁▆▇▆▆▆▇██</td></tr></table><br/></div><div class=\"wandb-col\"><h3>Run summary:</h3><br/><table class=\"wandb\"><tr><td>epoch/accuracy</td><td>0.932</td></tr><tr><td>epoch/auc</td><td>0.97936</td></tr><tr><td>epoch/epoch</td><td>8</td></tr><tr><td>epoch/learning_rate</td><td>0.00081</td></tr><tr><td>epoch/loss</td><td>0.18957</td></tr><tr><td>epoch/precision</td><td>0.9202</td></tr><tr><td>epoch/recall</td><td>0.91424</td></tr><tr><td>epoch/val_accuracy</td><td>0.68176</td></tr><tr><td>epoch/val_auc</td><td>0.72679</td></tr><tr><td>epoch/val_loss</td><td>0.90268</td></tr><tr><td>epoch/val_precision</td><td>0.61667</td></tr><tr><td>epoch/val_recall</td><td>0.59871</td></tr></table><br/></div></div>"
      ],
      "text/plain": [
       "<IPython.core.display.HTML object>"
      ]
     },
     "metadata": {},
     "output_type": "display_data"
    },
    {
     "data": {
      "text/html": [
       " View run <strong style=\"color:#cdcd00\">bumbling-sweep-2</strong> at: <a href='https://wandb.ai/tkshfj-bsc-computer-science-university-of-london/baseline_part_2_cnn_2_conv_layers_dropout/runs/vayxha50' target=\"_blank\">https://wandb.ai/tkshfj-bsc-computer-science-university-of-london/baseline_part_2_cnn_2_conv_layers_dropout/runs/vayxha50</a><br> View project at: <a href='https://wandb.ai/tkshfj-bsc-computer-science-university-of-london/baseline_part_2_cnn_2_conv_layers_dropout' target=\"_blank\">https://wandb.ai/tkshfj-bsc-computer-science-university-of-london/baseline_part_2_cnn_2_conv_layers_dropout</a><br>Synced 5 W&B file(s), 0 media file(s), 0 artifact file(s) and 0 other file(s)"
      ],
      "text/plain": [
       "<IPython.core.display.HTML object>"
      ]
     },
     "metadata": {},
     "output_type": "display_data"
    },
    {
     "data": {
      "text/html": [
       "Find logs at: <code>./wandb/run-20250601_101621-vayxha50/logs</code>"
      ],
      "text/plain": [
       "<IPython.core.display.HTML object>"
      ]
     },
     "metadata": {},
     "output_type": "display_data"
    },
    {
     "name": "stderr",
     "output_type": "stream",
     "text": [
      "\u001b[34m\u001b[1mwandb\u001b[0m: Agent Starting Run: b6vrku9c with config:\n",
      "\u001b[34m\u001b[1mwandb\u001b[0m: \tbatch_size: 32\n",
      "\u001b[34m\u001b[1mwandb\u001b[0m: \tdropout: 0.04123372413193993\n",
      "\u001b[34m\u001b[1mwandb\u001b[0m: \tepochs: 20\n",
      "\u001b[34m\u001b[1mwandb\u001b[0m: \tfilters: 64\n",
      "\u001b[34m\u001b[1mwandb\u001b[0m: \tkernel_size: 3\n",
      "\u001b[34m\u001b[1mwandb\u001b[0m: \tlearning_rate: 0.0006830938528705423\n"
     ]
    },
    {
     "data": {
      "text/html": [
       "Ignoring project 'baseline_part_2_cnn_2_conv_layers_dropout' when running a sweep."
      ],
      "text/plain": [
       "<IPython.core.display.HTML object>"
      ]
     },
     "metadata": {},
     "output_type": "display_data"
    },
    {
     "data": {
      "text/html": [
       "Tracking run with wandb version 0.19.11"
      ],
      "text/plain": [
       "<IPython.core.display.HTML object>"
      ]
     },
     "metadata": {},
     "output_type": "display_data"
    },
    {
     "data": {
      "text/html": [
       "Run data is saved locally in <code>/home/tkshfj/repository/MMG/notebooks/wandb/run-20250601_105512-b6vrku9c</code>"
      ],
      "text/plain": [
       "<IPython.core.display.HTML object>"
      ]
     },
     "metadata": {},
     "output_type": "display_data"
    },
    {
     "data": {
      "text/html": [
       "Syncing run <strong><a href='https://wandb.ai/tkshfj-bsc-computer-science-university-of-london/baseline_part_2_cnn_2_conv_layers_dropout/runs/b6vrku9c' target=\"_blank\">deep-sweep-3</a></strong> to <a href='https://wandb.ai/tkshfj-bsc-computer-science-university-of-london/baseline_part_2_cnn_2_conv_layers_dropout' target=\"_blank\">Weights & Biases</a> (<a href='https://wandb.me/developer-guide' target=\"_blank\">docs</a>)<br>Sweep page: <a href='https://wandb.ai/tkshfj-bsc-computer-science-university-of-london/baseline_part_2_cnn_2_conv_layers_dropout/sweeps/n900onl4' target=\"_blank\">https://wandb.ai/tkshfj-bsc-computer-science-university-of-london/baseline_part_2_cnn_2_conv_layers_dropout/sweeps/n900onl4</a>"
      ],
      "text/plain": [
       "<IPython.core.display.HTML object>"
      ]
     },
     "metadata": {},
     "output_type": "display_data"
    },
    {
     "data": {
      "text/html": [
       " View project at <a href='https://wandb.ai/tkshfj-bsc-computer-science-university-of-london/baseline_part_2_cnn_2_conv_layers_dropout' target=\"_blank\">https://wandb.ai/tkshfj-bsc-computer-science-university-of-london/baseline_part_2_cnn_2_conv_layers_dropout</a>"
      ],
      "text/plain": [
       "<IPython.core.display.HTML object>"
      ]
     },
     "metadata": {},
     "output_type": "display_data"
    },
    {
     "data": {
      "text/html": [
       " View sweep at <a href='https://wandb.ai/tkshfj-bsc-computer-science-university-of-london/baseline_part_2_cnn_2_conv_layers_dropout/sweeps/n900onl4' target=\"_blank\">https://wandb.ai/tkshfj-bsc-computer-science-university-of-london/baseline_part_2_cnn_2_conv_layers_dropout/sweeps/n900onl4</a>"
      ],
      "text/plain": [
       "<IPython.core.display.HTML object>"
      ]
     },
     "metadata": {},
     "output_type": "display_data"
    },
    {
     "data": {
      "text/html": [
       " View run at <a href='https://wandb.ai/tkshfj-bsc-computer-science-university-of-london/baseline_part_2_cnn_2_conv_layers_dropout/runs/b6vrku9c' target=\"_blank\">https://wandb.ai/tkshfj-bsc-computer-science-university-of-london/baseline_part_2_cnn_2_conv_layers_dropout/runs/b6vrku9c</a>"
      ],
      "text/plain": [
       "<IPython.core.display.HTML object>"
      ]
     },
     "metadata": {},
     "output_type": "display_data"
    },
    {
     "name": "stdout",
     "output_type": "stream",
     "text": [
      "Epoch 1/20\n",
      "375/375 - 263s - loss: 0.6670 - accuracy: 0.6010 - auc: 0.5957 - precision: 0.5296 - recall: 0.2824 - val_loss: 0.6461 - val_accuracy: 0.6192 - val_auc: 0.6465 - val_precision: 0.5485 - val_recall: 0.4207 - 263s/epoch - 702ms/step\n",
      "Epoch 2/20\n",
      "375/375 - 260s - loss: 0.6124 - accuracy: 0.6550 - auc: 0.6967 - precision: 0.6212 - recall: 0.4167 - val_loss: 0.6157 - val_accuracy: 0.6591 - val_auc: 0.6892 - val_precision: 0.6710 - val_recall: 0.3366 - 260s/epoch - 694ms/step\n",
      "Epoch 3/20\n",
      "375/375 - 260s - loss: 0.5030 - accuracy: 0.7547 - auc: 0.8264 - precision: 0.7535 - recall: 0.6011 - val_loss: 0.6304 - val_accuracy: 0.6511 - val_auc: 0.7034 - val_precision: 0.6158 - val_recall: 0.4045 - 260s/epoch - 693ms/step\n",
      "Epoch 4/20\n",
      "375/375 - 260s - loss: 0.3816 - accuracy: 0.8287 - auc: 0.9089 - precision: 0.8156 - recall: 0.7549 - val_loss: 0.6472 - val_accuracy: 0.6525 - val_auc: 0.7311 - val_precision: 0.6212 - val_recall: 0.3981 - 260s/epoch - 693ms/step\n",
      "Epoch 5/20\n",
      "375/375 - 262s - loss: 0.2634 - accuracy: 0.8980 - auc: 0.9604 - precision: 0.8961 - recall: 0.8511 - val_loss: 0.7242 - val_accuracy: 0.6791 - val_auc: 0.7371 - val_precision: 0.6453 - val_recall: 0.4887 - 262s/epoch - 698ms/step\n",
      "Epoch 6/20\n",
      "375/375 - 261s - loss: 0.1951 - accuracy: 0.9360 - auc: 0.9782 - precision: 0.9343 - recall: 0.9086 - val_loss: 0.8152 - val_accuracy: 0.6937 - val_auc: 0.7443 - val_precision: 0.6502 - val_recall: 0.5534 - 261s/epoch - 695ms/step\n",
      "Epoch 7/20\n",
      "375/375 - 263s - loss: 0.1466 - accuracy: 0.9580 - auc: 0.9866 - precision: 0.9549 - recall: 0.9426 - val_loss: 0.9227 - val_accuracy: 0.6711 - val_auc: 0.7488 - val_precision: 0.6148 - val_recall: 0.5372 - 263s/epoch - 702ms/step\n"
     ]
    },
    {
     "data": {
      "text/html": [],
      "text/plain": [
       "<IPython.core.display.HTML object>"
      ]
     },
     "metadata": {},
     "output_type": "display_data"
    },
    {
     "data": {
      "text/html": [
       "<br>    <style><br>        .wandb-row {<br>            display: flex;<br>            flex-direction: row;<br>            flex-wrap: wrap;<br>            justify-content: flex-start;<br>            width: 100%;<br>        }<br>        .wandb-col {<br>            display: flex;<br>            flex-direction: column;<br>            flex-basis: 100%;<br>            flex: 1;<br>            padding: 10px;<br>        }<br>    </style><br><div class=\"wandb-row\"><div class=\"wandb-col\"><h3>Run history:</h3><br/><table class=\"wandb\"><tr><td>epoch/accuracy</td><td>▁▂▄▅▇██</td></tr><tr><td>epoch/auc</td><td>▁▃▅▇███</td></tr><tr><td>epoch/epoch</td><td>▁▂▃▅▆▇█</td></tr><tr><td>epoch/learning_rate</td><td>▁▁▁▁▁▁▁</td></tr><tr><td>epoch/loss</td><td>█▇▆▄▃▂▁</td></tr><tr><td>epoch/precision</td><td>▁▃▅▆▇██</td></tr><tr><td>epoch/recall</td><td>▁▂▄▆▇██</td></tr><tr><td>epoch/val_accuracy</td><td>▁▅▄▄▇█▆</td></tr><tr><td>epoch/val_auc</td><td>▁▄▅▇▇██</td></tr><tr><td>epoch/val_loss</td><td>▂▁▁▂▃▆█</td></tr><tr><td>epoch/val_precision</td><td>▁█▅▅▇▇▅</td></tr><tr><td>epoch/val_recall</td><td>▄▁▃▃▆█▇</td></tr></table><br/></div><div class=\"wandb-col\"><h3>Run summary:</h3><br/><table class=\"wandb\"><tr><td>epoch/accuracy</td><td>0.958</td></tr><tr><td>epoch/auc</td><td>0.98663</td></tr><tr><td>epoch/epoch</td><td>6</td></tr><tr><td>epoch/learning_rate</td><td>0.00068</td></tr><tr><td>epoch/loss</td><td>0.14658</td></tr><tr><td>epoch/precision</td><td>0.95492</td></tr><tr><td>epoch/recall</td><td>0.94256</td></tr><tr><td>epoch/val_accuracy</td><td>0.67111</td></tr><tr><td>epoch/val_auc</td><td>0.74885</td></tr><tr><td>epoch/val_loss</td><td>0.92271</td></tr><tr><td>epoch/val_precision</td><td>0.61481</td></tr><tr><td>epoch/val_recall</td><td>0.53722</td></tr></table><br/></div></div>"
      ],
      "text/plain": [
       "<IPython.core.display.HTML object>"
      ]
     },
     "metadata": {},
     "output_type": "display_data"
    },
    {
     "data": {
      "text/html": [
       " View run <strong style=\"color:#cdcd00\">deep-sweep-3</strong> at: <a href='https://wandb.ai/tkshfj-bsc-computer-science-university-of-london/baseline_part_2_cnn_2_conv_layers_dropout/runs/b6vrku9c' target=\"_blank\">https://wandb.ai/tkshfj-bsc-computer-science-university-of-london/baseline_part_2_cnn_2_conv_layers_dropout/runs/b6vrku9c</a><br> View project at: <a href='https://wandb.ai/tkshfj-bsc-computer-science-university-of-london/baseline_part_2_cnn_2_conv_layers_dropout' target=\"_blank\">https://wandb.ai/tkshfj-bsc-computer-science-university-of-london/baseline_part_2_cnn_2_conv_layers_dropout</a><br>Synced 5 W&B file(s), 0 media file(s), 0 artifact file(s) and 0 other file(s)"
      ],
      "text/plain": [
       "<IPython.core.display.HTML object>"
      ]
     },
     "metadata": {},
     "output_type": "display_data"
    },
    {
     "data": {
      "text/html": [
       "Find logs at: <code>./wandb/run-20250601_105512-b6vrku9c/logs</code>"
      ],
      "text/plain": [
       "<IPython.core.display.HTML object>"
      ]
     },
     "metadata": {},
     "output_type": "display_data"
    },
    {
     "name": "stderr",
     "output_type": "stream",
     "text": [
      "\u001b[34m\u001b[1mwandb\u001b[0m: Agent Starting Run: 192z3fdw with config:\n",
      "\u001b[34m\u001b[1mwandb\u001b[0m: \tbatch_size: 8\n",
      "\u001b[34m\u001b[1mwandb\u001b[0m: \tdropout: 0.45593925981808\n",
      "\u001b[34m\u001b[1mwandb\u001b[0m: \tepochs: 20\n",
      "\u001b[34m\u001b[1mwandb\u001b[0m: \tfilters: 32\n",
      "\u001b[34m\u001b[1mwandb\u001b[0m: \tkernel_size: 3\n",
      "\u001b[34m\u001b[1mwandb\u001b[0m: \tlearning_rate: 0.00024528784719953504\n"
     ]
    },
    {
     "data": {
      "text/html": [
       "Ignoring project 'baseline_part_2_cnn_2_conv_layers_dropout' when running a sweep."
      ],
      "text/plain": [
       "<IPython.core.display.HTML object>"
      ]
     },
     "metadata": {},
     "output_type": "display_data"
    },
    {
     "data": {
      "text/html": [
       "Tracking run with wandb version 0.19.11"
      ],
      "text/plain": [
       "<IPython.core.display.HTML object>"
      ]
     },
     "metadata": {},
     "output_type": "display_data"
    },
    {
     "data": {
      "text/html": [
       "Run data is saved locally in <code>/home/tkshfj/repository/MMG/notebooks/wandb/run-20250601_112547-192z3fdw</code>"
      ],
      "text/plain": [
       "<IPython.core.display.HTML object>"
      ]
     },
     "metadata": {},
     "output_type": "display_data"
    },
    {
     "data": {
      "text/html": [
       "Syncing run <strong><a href='https://wandb.ai/tkshfj-bsc-computer-science-university-of-london/baseline_part_2_cnn_2_conv_layers_dropout/runs/192z3fdw' target=\"_blank\">jumping-sweep-4</a></strong> to <a href='https://wandb.ai/tkshfj-bsc-computer-science-university-of-london/baseline_part_2_cnn_2_conv_layers_dropout' target=\"_blank\">Weights & Biases</a> (<a href='https://wandb.me/developer-guide' target=\"_blank\">docs</a>)<br>Sweep page: <a href='https://wandb.ai/tkshfj-bsc-computer-science-university-of-london/baseline_part_2_cnn_2_conv_layers_dropout/sweeps/n900onl4' target=\"_blank\">https://wandb.ai/tkshfj-bsc-computer-science-university-of-london/baseline_part_2_cnn_2_conv_layers_dropout/sweeps/n900onl4</a>"
      ],
      "text/plain": [
       "<IPython.core.display.HTML object>"
      ]
     },
     "metadata": {},
     "output_type": "display_data"
    },
    {
     "data": {
      "text/html": [
       " View project at <a href='https://wandb.ai/tkshfj-bsc-computer-science-university-of-london/baseline_part_2_cnn_2_conv_layers_dropout' target=\"_blank\">https://wandb.ai/tkshfj-bsc-computer-science-university-of-london/baseline_part_2_cnn_2_conv_layers_dropout</a>"
      ],
      "text/plain": [
       "<IPython.core.display.HTML object>"
      ]
     },
     "metadata": {},
     "output_type": "display_data"
    },
    {
     "data": {
      "text/html": [
       " View sweep at <a href='https://wandb.ai/tkshfj-bsc-computer-science-university-of-london/baseline_part_2_cnn_2_conv_layers_dropout/sweeps/n900onl4' target=\"_blank\">https://wandb.ai/tkshfj-bsc-computer-science-university-of-london/baseline_part_2_cnn_2_conv_layers_dropout/sweeps/n900onl4</a>"
      ],
      "text/plain": [
       "<IPython.core.display.HTML object>"
      ]
     },
     "metadata": {},
     "output_type": "display_data"
    },
    {
     "data": {
      "text/html": [
       " View run at <a href='https://wandb.ai/tkshfj-bsc-computer-science-university-of-london/baseline_part_2_cnn_2_conv_layers_dropout/runs/192z3fdw' target=\"_blank\">https://wandb.ai/tkshfj-bsc-computer-science-university-of-london/baseline_part_2_cnn_2_conv_layers_dropout/runs/192z3fdw</a>"
      ],
      "text/plain": [
       "<IPython.core.display.HTML object>"
      ]
     },
     "metadata": {},
     "output_type": "display_data"
    },
    {
     "name": "stdout",
     "output_type": "stream",
     "text": [
      "Epoch 1/20\n",
      "375/375 - 254s - loss: 0.6647 - accuracy: 0.6043 - auc: 0.5987 - precision: 0.5435 - recall: 0.2476 - val_loss: 0.6480 - val_accuracy: 0.6138 - val_auc: 0.6353 - val_precision: 0.5760 - val_recall: 0.2330 - 254s/epoch - 676ms/step\n",
      "Epoch 2/20\n",
      "375/375 - 250s - loss: 0.6276 - accuracy: 0.6360 - auc: 0.6780 - precision: 0.5952 - recall: 0.3641 - val_loss: 0.6452 - val_accuracy: 0.6019 - val_auc: 0.6594 - val_precision: 0.5610 - val_recall: 0.1489 - 250s/epoch - 667ms/step\n",
      "Epoch 3/20\n",
      "375/375 - 251s - loss: 0.6041 - accuracy: 0.6610 - auc: 0.7170 - precision: 0.6337 - recall: 0.4199 - val_loss: 0.6358 - val_accuracy: 0.6445 - val_auc: 0.6722 - val_precision: 0.5729 - val_recall: 0.5340 - 251s/epoch - 668ms/step\n",
      "Epoch 4/20\n",
      "375/375 - 250s - loss: 0.5660 - accuracy: 0.7043 - auc: 0.7694 - precision: 0.6911 - recall: 0.5105 - val_loss: 0.6194 - val_accuracy: 0.6352 - val_auc: 0.6871 - val_precision: 0.5946 - val_recall: 0.3560 - 250s/epoch - 668ms/step\n",
      "Epoch 5/20\n",
      "375/375 - 246s - loss: 0.5280 - accuracy: 0.7313 - auc: 0.8079 - precision: 0.7185 - recall: 0.5720 - val_loss: 0.6376 - val_accuracy: 0.6218 - val_auc: 0.6794 - val_precision: 0.5397 - val_recall: 0.5502 - 246s/epoch - 655ms/step\n",
      "Epoch 6/20\n",
      "375/375 - 245s - loss: 0.4978 - accuracy: 0.7577 - auc: 0.8354 - precision: 0.7527 - recall: 0.6133 - val_loss: 0.6383 - val_accuracy: 0.6418 - val_auc: 0.7030 - val_precision: 0.6333 - val_recall: 0.3074 - 245s/epoch - 652ms/step\n",
      "Epoch 7/20\n",
      "375/375 - 245s - loss: 0.4521 - accuracy: 0.7907 - auc: 0.8694 - precision: 0.7917 - recall: 0.6675 - val_loss: 0.7281 - val_accuracy: 0.6045 - val_auc: 0.6952 - val_precision: 0.5127 - val_recall: 0.7864 - 245s/epoch - 654ms/step\n",
      "Epoch 8/20\n",
      "375/375 - 246s - loss: 0.4212 - accuracy: 0.8100 - auc: 0.8914 - precision: 0.8049 - recall: 0.7112 - val_loss: 0.6291 - val_accuracy: 0.6605 - val_auc: 0.7252 - val_precision: 0.6216 - val_recall: 0.4466 - 246s/epoch - 657ms/step\n",
      "Epoch 9/20\n",
      "375/375 - 256s - loss: 0.3816 - accuracy: 0.8297 - auc: 0.9122 - precision: 0.8188 - recall: 0.7532 - val_loss: 0.6565 - val_accuracy: 0.6445 - val_auc: 0.7156 - val_precision: 0.5621 - val_recall: 0.6149 - 256s/epoch - 682ms/step\n"
     ]
    },
    {
     "data": {
      "text/html": [],
      "text/plain": [
       "<IPython.core.display.HTML object>"
      ]
     },
     "metadata": {},
     "output_type": "display_data"
    },
    {
     "data": {
      "text/html": [
       "<br>    <style><br>        .wandb-row {<br>            display: flex;<br>            flex-direction: row;<br>            flex-wrap: wrap;<br>            justify-content: flex-start;<br>            width: 100%;<br>        }<br>        .wandb-col {<br>            display: flex;<br>            flex-direction: column;<br>            flex-basis: 100%;<br>            flex: 1;<br>            padding: 10px;<br>        }<br>    </style><br><div class=\"wandb-row\"><div class=\"wandb-col\"><h3>Run history:</h3><br/><table class=\"wandb\"><tr><td>epoch/accuracy</td><td>▁▂▃▄▅▆▇▇█</td></tr><tr><td>epoch/auc</td><td>▁▃▄▅▆▆▇██</td></tr><tr><td>epoch/epoch</td><td>▁▂▃▄▅▅▆▇█</td></tr><tr><td>epoch/learning_rate</td><td>▁▁▁▁▁▁▁▁▁</td></tr><tr><td>epoch/loss</td><td>█▇▇▆▅▄▃▂▁</td></tr><tr><td>epoch/precision</td><td>▁▂▃▅▅▆▇██</td></tr><tr><td>epoch/recall</td><td>▁▃▃▅▅▆▇▇█</td></tr><tr><td>epoch/val_accuracy</td><td>▂▁▆▅▃▆▁█▆</td></tr><tr><td>epoch/val_auc</td><td>▁▃▄▅▄▆▆█▇</td></tr><tr><td>epoch/val_loss</td><td>▃▃▂▁▂▂█▂▃</td></tr><tr><td>epoch/val_precision</td><td>▅▄▄▆▃█▁▇▄</td></tr><tr><td>epoch/val_recall</td><td>▂▁▅▃▅▃█▄▆</td></tr></table><br/></div><div class=\"wandb-col\"><h3>Run summary:</h3><br/><table class=\"wandb\"><tr><td>epoch/accuracy</td><td>0.82967</td></tr><tr><td>epoch/auc</td><td>0.91221</td></tr><tr><td>epoch/epoch</td><td>8</td></tr><tr><td>epoch/learning_rate</td><td>0.00025</td></tr><tr><td>epoch/loss</td><td>0.3816</td></tr><tr><td>epoch/precision</td><td>0.81882</td></tr><tr><td>epoch/recall</td><td>0.75324</td></tr><tr><td>epoch/val_accuracy</td><td>0.64447</td></tr><tr><td>epoch/val_auc</td><td>0.71558</td></tr><tr><td>epoch/val_loss</td><td>0.65648</td></tr><tr><td>epoch/val_precision</td><td>0.56213</td></tr><tr><td>epoch/val_recall</td><td>0.61489</td></tr></table><br/></div></div>"
      ],
      "text/plain": [
       "<IPython.core.display.HTML object>"
      ]
     },
     "metadata": {},
     "output_type": "display_data"
    },
    {
     "data": {
      "text/html": [
       " View run <strong style=\"color:#cdcd00\">jumping-sweep-4</strong> at: <a href='https://wandb.ai/tkshfj-bsc-computer-science-university-of-london/baseline_part_2_cnn_2_conv_layers_dropout/runs/192z3fdw' target=\"_blank\">https://wandb.ai/tkshfj-bsc-computer-science-university-of-london/baseline_part_2_cnn_2_conv_layers_dropout/runs/192z3fdw</a><br> View project at: <a href='https://wandb.ai/tkshfj-bsc-computer-science-university-of-london/baseline_part_2_cnn_2_conv_layers_dropout' target=\"_blank\">https://wandb.ai/tkshfj-bsc-computer-science-university-of-london/baseline_part_2_cnn_2_conv_layers_dropout</a><br>Synced 5 W&B file(s), 0 media file(s), 0 artifact file(s) and 0 other file(s)"
      ],
      "text/plain": [
       "<IPython.core.display.HTML object>"
      ]
     },
     "metadata": {},
     "output_type": "display_data"
    },
    {
     "data": {
      "text/html": [
       "Find logs at: <code>./wandb/run-20250601_112547-192z3fdw/logs</code>"
      ],
      "text/plain": [
       "<IPython.core.display.HTML object>"
      ]
     },
     "metadata": {},
     "output_type": "display_data"
    },
    {
     "name": "stderr",
     "output_type": "stream",
     "text": [
      "\u001b[34m\u001b[1mwandb\u001b[0m: Agent Starting Run: qabranf3 with config:\n",
      "\u001b[34m\u001b[1mwandb\u001b[0m: \tbatch_size: 16\n",
      "\u001b[34m\u001b[1mwandb\u001b[0m: \tdropout: 0.23497395513919983\n",
      "\u001b[34m\u001b[1mwandb\u001b[0m: \tepochs: 20\n",
      "\u001b[34m\u001b[1mwandb\u001b[0m: \tfilters: 32\n",
      "\u001b[34m\u001b[1mwandb\u001b[0m: \tkernel_size: 5\n",
      "\u001b[34m\u001b[1mwandb\u001b[0m: \tlearning_rate: 0.0002448698413761789\n"
     ]
    },
    {
     "data": {
      "text/html": [
       "Ignoring project 'baseline_part_2_cnn_2_conv_layers_dropout' when running a sweep."
      ],
      "text/plain": [
       "<IPython.core.display.HTML object>"
      ]
     },
     "metadata": {},
     "output_type": "display_data"
    },
    {
     "data": {
      "text/html": [
       "Tracking run with wandb version 0.19.11"
      ],
      "text/plain": [
       "<IPython.core.display.HTML object>"
      ]
     },
     "metadata": {},
     "output_type": "display_data"
    },
    {
     "data": {
      "text/html": [
       "Run data is saved locally in <code>/home/tkshfj/repository/MMG/notebooks/wandb/run-20250601_120315-qabranf3</code>"
      ],
      "text/plain": [
       "<IPython.core.display.HTML object>"
      ]
     },
     "metadata": {},
     "output_type": "display_data"
    },
    {
     "data": {
      "text/html": [
       "Syncing run <strong><a href='https://wandb.ai/tkshfj-bsc-computer-science-university-of-london/baseline_part_2_cnn_2_conv_layers_dropout/runs/qabranf3' target=\"_blank\">autumn-sweep-5</a></strong> to <a href='https://wandb.ai/tkshfj-bsc-computer-science-university-of-london/baseline_part_2_cnn_2_conv_layers_dropout' target=\"_blank\">Weights & Biases</a> (<a href='https://wandb.me/developer-guide' target=\"_blank\">docs</a>)<br>Sweep page: <a href='https://wandb.ai/tkshfj-bsc-computer-science-university-of-london/baseline_part_2_cnn_2_conv_layers_dropout/sweeps/n900onl4' target=\"_blank\">https://wandb.ai/tkshfj-bsc-computer-science-university-of-london/baseline_part_2_cnn_2_conv_layers_dropout/sweeps/n900onl4</a>"
      ],
      "text/plain": [
       "<IPython.core.display.HTML object>"
      ]
     },
     "metadata": {},
     "output_type": "display_data"
    },
    {
     "data": {
      "text/html": [
       " View project at <a href='https://wandb.ai/tkshfj-bsc-computer-science-university-of-london/baseline_part_2_cnn_2_conv_layers_dropout' target=\"_blank\">https://wandb.ai/tkshfj-bsc-computer-science-university-of-london/baseline_part_2_cnn_2_conv_layers_dropout</a>"
      ],
      "text/plain": [
       "<IPython.core.display.HTML object>"
      ]
     },
     "metadata": {},
     "output_type": "display_data"
    },
    {
     "data": {
      "text/html": [
       " View sweep at <a href='https://wandb.ai/tkshfj-bsc-computer-science-university-of-london/baseline_part_2_cnn_2_conv_layers_dropout/sweeps/n900onl4' target=\"_blank\">https://wandb.ai/tkshfj-bsc-computer-science-university-of-london/baseline_part_2_cnn_2_conv_layers_dropout/sweeps/n900onl4</a>"
      ],
      "text/plain": [
       "<IPython.core.display.HTML object>"
      ]
     },
     "metadata": {},
     "output_type": "display_data"
    },
    {
     "data": {
      "text/html": [
       " View run at <a href='https://wandb.ai/tkshfj-bsc-computer-science-university-of-london/baseline_part_2_cnn_2_conv_layers_dropout/runs/qabranf3' target=\"_blank\">https://wandb.ai/tkshfj-bsc-computer-science-university-of-london/baseline_part_2_cnn_2_conv_layers_dropout/runs/qabranf3</a>"
      ],
      "text/plain": [
       "<IPython.core.display.HTML object>"
      ]
     },
     "metadata": {},
     "output_type": "display_data"
    },
    {
     "name": "stdout",
     "output_type": "stream",
     "text": [
      "Epoch 1/20\n",
      "375/375 - 254s - loss: 0.6635 - accuracy: 0.6060 - auc: 0.6047 - precision: 0.5415 - recall: 0.2848 - val_loss: 0.6310 - val_accuracy: 0.6312 - val_auc: 0.6836 - val_precision: 0.5684 - val_recall: 0.4304 - 254s/epoch - 676ms/step\n",
      "Epoch 2/20\n",
      "375/375 - 252s - loss: 0.6144 - accuracy: 0.6507 - auc: 0.6995 - precision: 0.6130 - recall: 0.4126 - val_loss: 0.6196 - val_accuracy: 0.6445 - val_auc: 0.6883 - val_precision: 0.6329 - val_recall: 0.3236 - 252s/epoch - 673ms/step\n",
      "Epoch 3/20\n",
      "375/375 - 253s - loss: 0.5833 - accuracy: 0.6883 - auc: 0.7431 - precision: 0.6631 - recall: 0.4951 - val_loss: 0.6109 - val_accuracy: 0.6498 - val_auc: 0.7026 - val_precision: 0.6322 - val_recall: 0.3560 - 253s/epoch - 674ms/step\n",
      "Epoch 4/20\n",
      "375/375 - 254s - loss: 0.5476 - accuracy: 0.7103 - auc: 0.7848 - precision: 0.6942 - recall: 0.5307 - val_loss: 0.6223 - val_accuracy: 0.6671 - val_auc: 0.7107 - val_precision: 0.5980 - val_recall: 0.5825 - 254s/epoch - 679ms/step\n",
      "Epoch 5/20\n",
      "375/375 - 254s - loss: 0.5075 - accuracy: 0.7573 - auc: 0.8246 - precision: 0.7374 - recall: 0.6383 - val_loss: 0.6200 - val_accuracy: 0.6538 - val_auc: 0.7133 - val_precision: 0.5884 - val_recall: 0.5275 - 254s/epoch - 677ms/step\n",
      "Epoch 6/20\n",
      "375/375 - 252s - loss: 0.4640 - accuracy: 0.7733 - auc: 0.8568 - precision: 0.7546 - recall: 0.6667 - val_loss: 0.6268 - val_accuracy: 0.6738 - val_auc: 0.7312 - val_precision: 0.6060 - val_recall: 0.5922 - 252s/epoch - 673ms/step\n",
      "Epoch 7/20\n",
      "375/375 - 248s - loss: 0.4168 - accuracy: 0.8027 - auc: 0.8888 - precision: 0.7917 - recall: 0.7071 - val_loss: 0.6369 - val_accuracy: 0.6751 - val_auc: 0.7336 - val_precision: 0.6148 - val_recall: 0.5631 - 248s/epoch - 660ms/step\n",
      "Epoch 8/20\n",
      "375/375 - 243s - loss: 0.3640 - accuracy: 0.8407 - auc: 0.9196 - precision: 0.8336 - recall: 0.7662 - val_loss: 0.6455 - val_accuracy: 0.6911 - val_auc: 0.7422 - val_precision: 0.6305 - val_recall: 0.6019 - 243s/epoch - 649ms/step\n"
     ]
    },
    {
     "data": {
      "text/html": [],
      "text/plain": [
       "<IPython.core.display.HTML object>"
      ]
     },
     "metadata": {},
     "output_type": "display_data"
    },
    {
     "data": {
      "text/html": [
       "<br>    <style><br>        .wandb-row {<br>            display: flex;<br>            flex-direction: row;<br>            flex-wrap: wrap;<br>            justify-content: flex-start;<br>            width: 100%;<br>        }<br>        .wandb-col {<br>            display: flex;<br>            flex-direction: column;<br>            flex-basis: 100%;<br>            flex: 1;<br>            padding: 10px;<br>        }<br>    </style><br><div class=\"wandb-row\"><div class=\"wandb-col\"><h3>Run history:</h3><br/><table class=\"wandb\"><tr><td>epoch/accuracy</td><td>▁▂▃▄▆▆▇█</td></tr><tr><td>epoch/auc</td><td>▁▃▄▅▆▇▇█</td></tr><tr><td>epoch/epoch</td><td>▁▂▃▄▅▆▇█</td></tr><tr><td>epoch/learning_rate</td><td>▁▁▁▁▁▁▁▁</td></tr><tr><td>epoch/loss</td><td>█▇▆▅▄▃▂▁</td></tr><tr><td>epoch/precision</td><td>▁▃▄▅▆▆▇█</td></tr><tr><td>epoch/recall</td><td>▁▃▄▅▆▇▇█</td></tr><tr><td>epoch/val_accuracy</td><td>▁▃▃▅▄▆▆█</td></tr><tr><td>epoch/val_auc</td><td>▁▂▃▄▅▇▇█</td></tr><tr><td>epoch/val_loss</td><td>▅▃▁▃▃▄▆█</td></tr><tr><td>epoch/val_precision</td><td>▁██▄▃▅▆█</td></tr><tr><td>epoch/val_recall</td><td>▄▁▂█▆█▇█</td></tr></table><br/></div><div class=\"wandb-col\"><h3>Run summary:</h3><br/><table class=\"wandb\"><tr><td>epoch/accuracy</td><td>0.84067</td></tr><tr><td>epoch/auc</td><td>0.91962</td></tr><tr><td>epoch/epoch</td><td>7</td></tr><tr><td>epoch/learning_rate</td><td>0.00024</td></tr><tr><td>epoch/loss</td><td>0.36402</td></tr><tr><td>epoch/precision</td><td>0.83363</td></tr><tr><td>epoch/recall</td><td>0.76618</td></tr><tr><td>epoch/val_accuracy</td><td>0.69108</td></tr><tr><td>epoch/val_auc</td><td>0.74216</td></tr><tr><td>epoch/val_loss</td><td>0.64552</td></tr><tr><td>epoch/val_precision</td><td>0.63051</td></tr><tr><td>epoch/val_recall</td><td>0.60194</td></tr></table><br/></div></div>"
      ],
      "text/plain": [
       "<IPython.core.display.HTML object>"
      ]
     },
     "metadata": {},
     "output_type": "display_data"
    },
    {
     "data": {
      "text/html": [
       " View run <strong style=\"color:#cdcd00\">autumn-sweep-5</strong> at: <a href='https://wandb.ai/tkshfj-bsc-computer-science-university-of-london/baseline_part_2_cnn_2_conv_layers_dropout/runs/qabranf3' target=\"_blank\">https://wandb.ai/tkshfj-bsc-computer-science-university-of-london/baseline_part_2_cnn_2_conv_layers_dropout/runs/qabranf3</a><br> View project at: <a href='https://wandb.ai/tkshfj-bsc-computer-science-university-of-london/baseline_part_2_cnn_2_conv_layers_dropout' target=\"_blank\">https://wandb.ai/tkshfj-bsc-computer-science-university-of-london/baseline_part_2_cnn_2_conv_layers_dropout</a><br>Synced 5 W&B file(s), 0 media file(s), 0 artifact file(s) and 0 other file(s)"
      ],
      "text/plain": [
       "<IPython.core.display.HTML object>"
      ]
     },
     "metadata": {},
     "output_type": "display_data"
    },
    {
     "data": {
      "text/html": [
       "Find logs at: <code>./wandb/run-20250601_120315-qabranf3/logs</code>"
      ],
      "text/plain": [
       "<IPython.core.display.HTML object>"
      ]
     },
     "metadata": {},
     "output_type": "display_data"
    },
    {
     "name": "stderr",
     "output_type": "stream",
     "text": [
      "\u001b[34m\u001b[1mwandb\u001b[0m: Agent Starting Run: 2mhxsu3a with config:\n",
      "\u001b[34m\u001b[1mwandb\u001b[0m: \tbatch_size: 32\n",
      "\u001b[34m\u001b[1mwandb\u001b[0m: \tdropout: 0.16299186625695403\n",
      "\u001b[34m\u001b[1mwandb\u001b[0m: \tepochs: 20\n",
      "\u001b[34m\u001b[1mwandb\u001b[0m: \tfilters: 32\n",
      "\u001b[34m\u001b[1mwandb\u001b[0m: \tkernel_size: 3\n",
      "\u001b[34m\u001b[1mwandb\u001b[0m: \tlearning_rate: 0.0002689189836383074\n"
     ]
    },
    {
     "data": {
      "text/html": [
       "Ignoring project 'baseline_part_2_cnn_2_conv_layers_dropout' when running a sweep."
      ],
      "text/plain": [
       "<IPython.core.display.HTML object>"
      ]
     },
     "metadata": {},
     "output_type": "display_data"
    },
    {
     "data": {
      "text/html": [
       "Tracking run with wandb version 0.19.11"
      ],
      "text/plain": [
       "<IPython.core.display.HTML object>"
      ]
     },
     "metadata": {},
     "output_type": "display_data"
    },
    {
     "data": {
      "text/html": [
       "Run data is saved locally in <code>/home/tkshfj/repository/MMG/notebooks/wandb/run-20250601_123653-2mhxsu3a</code>"
      ],
      "text/plain": [
       "<IPython.core.display.HTML object>"
      ]
     },
     "metadata": {},
     "output_type": "display_data"
    },
    {
     "data": {
      "text/html": [
       "Syncing run <strong><a href='https://wandb.ai/tkshfj-bsc-computer-science-university-of-london/baseline_part_2_cnn_2_conv_layers_dropout/runs/2mhxsu3a' target=\"_blank\">cool-sweep-6</a></strong> to <a href='https://wandb.ai/tkshfj-bsc-computer-science-university-of-london/baseline_part_2_cnn_2_conv_layers_dropout' target=\"_blank\">Weights & Biases</a> (<a href='https://wandb.me/developer-guide' target=\"_blank\">docs</a>)<br>Sweep page: <a href='https://wandb.ai/tkshfj-bsc-computer-science-university-of-london/baseline_part_2_cnn_2_conv_layers_dropout/sweeps/n900onl4' target=\"_blank\">https://wandb.ai/tkshfj-bsc-computer-science-university-of-london/baseline_part_2_cnn_2_conv_layers_dropout/sweeps/n900onl4</a>"
      ],
      "text/plain": [
       "<IPython.core.display.HTML object>"
      ]
     },
     "metadata": {},
     "output_type": "display_data"
    },
    {
     "data": {
      "text/html": [
       " View project at <a href='https://wandb.ai/tkshfj-bsc-computer-science-university-of-london/baseline_part_2_cnn_2_conv_layers_dropout' target=\"_blank\">https://wandb.ai/tkshfj-bsc-computer-science-university-of-london/baseline_part_2_cnn_2_conv_layers_dropout</a>"
      ],
      "text/plain": [
       "<IPython.core.display.HTML object>"
      ]
     },
     "metadata": {},
     "output_type": "display_data"
    },
    {
     "data": {
      "text/html": [
       " View sweep at <a href='https://wandb.ai/tkshfj-bsc-computer-science-university-of-london/baseline_part_2_cnn_2_conv_layers_dropout/sweeps/n900onl4' target=\"_blank\">https://wandb.ai/tkshfj-bsc-computer-science-university-of-london/baseline_part_2_cnn_2_conv_layers_dropout/sweeps/n900onl4</a>"
      ],
      "text/plain": [
       "<IPython.core.display.HTML object>"
      ]
     },
     "metadata": {},
     "output_type": "display_data"
    },
    {
     "data": {
      "text/html": [
       " View run at <a href='https://wandb.ai/tkshfj-bsc-computer-science-university-of-london/baseline_part_2_cnn_2_conv_layers_dropout/runs/2mhxsu3a' target=\"_blank\">https://wandb.ai/tkshfj-bsc-computer-science-university-of-london/baseline_part_2_cnn_2_conv_layers_dropout/runs/2mhxsu3a</a>"
      ],
      "text/plain": [
       "<IPython.core.display.HTML object>"
      ]
     },
     "metadata": {},
     "output_type": "display_data"
    },
    {
     "name": "stdout",
     "output_type": "stream",
     "text": [
      "Epoch 1/20\n",
      "375/375 - 243s - loss: 0.6664 - accuracy: 0.6030 - auc: 0.5860 - precision: 0.5376 - recall: 0.2605 - val_loss: 0.6384 - val_accuracy: 0.6125 - val_auc: 0.6537 - val_precision: 0.5833 - val_recall: 0.2039 - 243s/epoch - 648ms/step\n",
      "Epoch 2/20\n",
      "375/375 - 241s - loss: 0.6249 - accuracy: 0.6457 - auc: 0.6800 - precision: 0.6080 - recall: 0.3940 - val_loss: 0.6338 - val_accuracy: 0.6218 - val_auc: 0.6651 - val_precision: 0.5571 - val_recall: 0.3948 - 241s/epoch - 644ms/step\n",
      "Epoch 3/20\n",
      "375/375 - 245s - loss: 0.5865 - accuracy: 0.6877 - auc: 0.7417 - precision: 0.6812 - recall: 0.4547 - val_loss: 0.6230 - val_accuracy: 0.6418 - val_auc: 0.6837 - val_precision: 0.5893 - val_recall: 0.4272 - 245s/epoch - 653ms/step\n",
      "Epoch 4/20\n",
      "375/375 - 243s - loss: 0.5479 - accuracy: 0.7180 - auc: 0.7865 - precision: 0.7023 - recall: 0.5477 - val_loss: 0.6215 - val_accuracy: 0.6538 - val_auc: 0.6956 - val_precision: 0.5911 - val_recall: 0.5146 - 243s/epoch - 648ms/step\n",
      "Epoch 5/20\n",
      "375/375 - 243s - loss: 0.4986 - accuracy: 0.7557 - auc: 0.8338 - precision: 0.7548 - recall: 0.6028 - val_loss: 0.6133 - val_accuracy: 0.6551 - val_auc: 0.7081 - val_precision: 0.5984 - val_recall: 0.4919 - 243s/epoch - 649ms/step\n",
      "Epoch 6/20\n",
      "375/375 - 244s - loss: 0.4568 - accuracy: 0.7820 - auc: 0.8652 - precision: 0.7740 - recall: 0.6650 - val_loss: 0.6353 - val_accuracy: 0.6684 - val_auc: 0.7136 - val_precision: 0.5993 - val_recall: 0.5858 - 244s/epoch - 651ms/step\n",
      "Epoch 7/20\n",
      "375/375 - 242s - loss: 0.4041 - accuracy: 0.8147 - auc: 0.8999 - precision: 0.8047 - recall: 0.7265 - val_loss: 0.6207 - val_accuracy: 0.6578 - val_auc: 0.7263 - val_precision: 0.5884 - val_recall: 0.5599 - 242s/epoch - 645ms/step\n",
      "Epoch 8/20\n",
      "375/375 - 245s - loss: 0.3599 - accuracy: 0.8450 - auc: 0.9236 - precision: 0.8379 - recall: 0.7735 - val_loss: 0.6461 - val_accuracy: 0.6631 - val_auc: 0.7308 - val_precision: 0.5838 - val_recall: 0.6311 - 245s/epoch - 652ms/step\n",
      "Epoch 9/20\n",
      "375/375 - 244s - loss: 0.3135 - accuracy: 0.8743 - auc: 0.9465 - precision: 0.8699 - recall: 0.8172 - val_loss: 0.6624 - val_accuracy: 0.6578 - val_auc: 0.7258 - val_precision: 0.5922 - val_recall: 0.5405 - 244s/epoch - 650ms/step\n",
      "Epoch 10/20\n",
      "375/375 - 247s - loss: 0.2709 - accuracy: 0.8843 - auc: 0.9617 - precision: 0.8707 - recall: 0.8447 - val_loss: 0.7058 - val_accuracy: 0.6671 - val_auc: 0.7354 - val_precision: 0.6175 - val_recall: 0.5016 - 247s/epoch - 658ms/step\n"
     ]
    },
    {
     "data": {
      "text/html": [],
      "text/plain": [
       "<IPython.core.display.HTML object>"
      ]
     },
     "metadata": {},
     "output_type": "display_data"
    },
    {
     "data": {
      "text/html": [
       "<br>    <style><br>        .wandb-row {<br>            display: flex;<br>            flex-direction: row;<br>            flex-wrap: wrap;<br>            justify-content: flex-start;<br>            width: 100%;<br>        }<br>        .wandb-col {<br>            display: flex;<br>            flex-direction: column;<br>            flex-basis: 100%;<br>            flex: 1;<br>            padding: 10px;<br>        }<br>    </style><br><div class=\"wandb-row\"><div class=\"wandb-col\"><h3>Run history:</h3><br/><table class=\"wandb\"><tr><td>epoch/accuracy</td><td>▁▂▃▄▅▅▆▇██</td></tr><tr><td>epoch/auc</td><td>▁▃▄▅▆▆▇▇██</td></tr><tr><td>epoch/epoch</td><td>▁▂▃▃▄▅▆▆▇█</td></tr><tr><td>epoch/learning_rate</td><td>▁▁▁▁▁▁▁▁▁▁</td></tr><tr><td>epoch/loss</td><td>█▇▇▆▅▄▃▃▂▁</td></tr><tr><td>epoch/precision</td><td>▁▂▄▄▆▆▇▇██</td></tr><tr><td>epoch/recall</td><td>▁▃▃▄▅▆▇▇██</td></tr><tr><td>epoch/val_accuracy</td><td>▁▂▅▆▆█▇▇▇█</td></tr><tr><td>epoch/val_auc</td><td>▁▂▄▅▆▆▇█▇█</td></tr><tr><td>epoch/val_loss</td><td>▃▃▂▂▁▃▂▃▅█</td></tr><tr><td>epoch/val_precision</td><td>▄▁▅▅▆▆▅▄▅█</td></tr><tr><td>epoch/val_recall</td><td>▁▄▅▆▆▇▇█▇▆</td></tr></table><br/></div><div class=\"wandb-col\"><h3>Run summary:</h3><br/><table class=\"wandb\"><tr><td>epoch/accuracy</td><td>0.88433</td></tr><tr><td>epoch/auc</td><td>0.96167</td></tr><tr><td>epoch/epoch</td><td>9</td></tr><tr><td>epoch/learning_rate</td><td>0.00027</td></tr><tr><td>epoch/loss</td><td>0.27091</td></tr><tr><td>epoch/precision</td><td>0.87073</td></tr><tr><td>epoch/recall</td><td>0.84466</td></tr><tr><td>epoch/val_accuracy</td><td>0.66711</td></tr><tr><td>epoch/val_auc</td><td>0.73543</td></tr><tr><td>epoch/val_loss</td><td>0.70582</td></tr><tr><td>epoch/val_precision</td><td>0.61753</td></tr><tr><td>epoch/val_recall</td><td>0.50162</td></tr></table><br/></div></div>"
      ],
      "text/plain": [
       "<IPython.core.display.HTML object>"
      ]
     },
     "metadata": {},
     "output_type": "display_data"
    },
    {
     "data": {
      "text/html": [
       " View run <strong style=\"color:#cdcd00\">cool-sweep-6</strong> at: <a href='https://wandb.ai/tkshfj-bsc-computer-science-university-of-london/baseline_part_2_cnn_2_conv_layers_dropout/runs/2mhxsu3a' target=\"_blank\">https://wandb.ai/tkshfj-bsc-computer-science-university-of-london/baseline_part_2_cnn_2_conv_layers_dropout/runs/2mhxsu3a</a><br> View project at: <a href='https://wandb.ai/tkshfj-bsc-computer-science-university-of-london/baseline_part_2_cnn_2_conv_layers_dropout' target=\"_blank\">https://wandb.ai/tkshfj-bsc-computer-science-university-of-london/baseline_part_2_cnn_2_conv_layers_dropout</a><br>Synced 5 W&B file(s), 0 media file(s), 0 artifact file(s) and 0 other file(s)"
      ],
      "text/plain": [
       "<IPython.core.display.HTML object>"
      ]
     },
     "metadata": {},
     "output_type": "display_data"
    },
    {
     "data": {
      "text/html": [
       "Find logs at: <code>./wandb/run-20250601_123653-2mhxsu3a/logs</code>"
      ],
      "text/plain": [
       "<IPython.core.display.HTML object>"
      ]
     },
     "metadata": {},
     "output_type": "display_data"
    },
    {
     "name": "stderr",
     "output_type": "stream",
     "text": [
      "\u001b[34m\u001b[1mwandb\u001b[0m: Agent Starting Run: 445nyfpk with config:\n",
      "\u001b[34m\u001b[1mwandb\u001b[0m: \tbatch_size: 16\n",
      "\u001b[34m\u001b[1mwandb\u001b[0m: \tdropout: 0.44342976103892273\n",
      "\u001b[34m\u001b[1mwandb\u001b[0m: \tepochs: 20\n",
      "\u001b[34m\u001b[1mwandb\u001b[0m: \tfilters: 64\n",
      "\u001b[34m\u001b[1mwandb\u001b[0m: \tkernel_size: 5\n",
      "\u001b[34m\u001b[1mwandb\u001b[0m: \tlearning_rate: 0.0004662502160145549\n"
     ]
    },
    {
     "data": {
      "text/html": [
       "Ignoring project 'baseline_part_2_cnn_2_conv_layers_dropout' when running a sweep."
      ],
      "text/plain": [
       "<IPython.core.display.HTML object>"
      ]
     },
     "metadata": {},
     "output_type": "display_data"
    },
    {
     "data": {
      "text/html": [
       "Tracking run with wandb version 0.19.11"
      ],
      "text/plain": [
       "<IPython.core.display.HTML object>"
      ]
     },
     "metadata": {},
     "output_type": "display_data"
    },
    {
     "data": {
      "text/html": [
       "Run data is saved locally in <code>/home/tkshfj/repository/MMG/notebooks/wandb/run-20250601_131735-445nyfpk</code>"
      ],
      "text/plain": [
       "<IPython.core.display.HTML object>"
      ]
     },
     "metadata": {},
     "output_type": "display_data"
    },
    {
     "data": {
      "text/html": [
       "Syncing run <strong><a href='https://wandb.ai/tkshfj-bsc-computer-science-university-of-london/baseline_part_2_cnn_2_conv_layers_dropout/runs/445nyfpk' target=\"_blank\">amber-sweep-7</a></strong> to <a href='https://wandb.ai/tkshfj-bsc-computer-science-university-of-london/baseline_part_2_cnn_2_conv_layers_dropout' target=\"_blank\">Weights & Biases</a> (<a href='https://wandb.me/developer-guide' target=\"_blank\">docs</a>)<br>Sweep page: <a href='https://wandb.ai/tkshfj-bsc-computer-science-university-of-london/baseline_part_2_cnn_2_conv_layers_dropout/sweeps/n900onl4' target=\"_blank\">https://wandb.ai/tkshfj-bsc-computer-science-university-of-london/baseline_part_2_cnn_2_conv_layers_dropout/sweeps/n900onl4</a>"
      ],
      "text/plain": [
       "<IPython.core.display.HTML object>"
      ]
     },
     "metadata": {},
     "output_type": "display_data"
    },
    {
     "data": {
      "text/html": [
       " View project at <a href='https://wandb.ai/tkshfj-bsc-computer-science-university-of-london/baseline_part_2_cnn_2_conv_layers_dropout' target=\"_blank\">https://wandb.ai/tkshfj-bsc-computer-science-university-of-london/baseline_part_2_cnn_2_conv_layers_dropout</a>"
      ],
      "text/plain": [
       "<IPython.core.display.HTML object>"
      ]
     },
     "metadata": {},
     "output_type": "display_data"
    },
    {
     "data": {
      "text/html": [
       " View sweep at <a href='https://wandb.ai/tkshfj-bsc-computer-science-university-of-london/baseline_part_2_cnn_2_conv_layers_dropout/sweeps/n900onl4' target=\"_blank\">https://wandb.ai/tkshfj-bsc-computer-science-university-of-london/baseline_part_2_cnn_2_conv_layers_dropout/sweeps/n900onl4</a>"
      ],
      "text/plain": [
       "<IPython.core.display.HTML object>"
      ]
     },
     "metadata": {},
     "output_type": "display_data"
    },
    {
     "data": {
      "text/html": [
       " View run at <a href='https://wandb.ai/tkshfj-bsc-computer-science-university-of-london/baseline_part_2_cnn_2_conv_layers_dropout/runs/445nyfpk' target=\"_blank\">https://wandb.ai/tkshfj-bsc-computer-science-university-of-london/baseline_part_2_cnn_2_conv_layers_dropout/runs/445nyfpk</a>"
      ],
      "text/plain": [
       "<IPython.core.display.HTML object>"
      ]
     },
     "metadata": {},
     "output_type": "display_data"
    },
    {
     "name": "stdout",
     "output_type": "stream",
     "text": [
      "Epoch 1/20\n",
      "375/375 - 249s - loss: 0.6654 - accuracy: 0.6090 - auc: 0.6034 - precision: 0.5511 - recall: 0.2751 - val_loss: 0.6248 - val_accuracy: 0.6458 - val_auc: 0.6987 - val_precision: 0.6319 - val_recall: 0.3333 - 249s/epoch - 664ms/step\n",
      "Epoch 2/20\n",
      "375/375 - 244s - loss: 0.6194 - accuracy: 0.6527 - auc: 0.6898 - precision: 0.6128 - recall: 0.4264 - val_loss: 0.6044 - val_accuracy: 0.6698 - val_auc: 0.7182 - val_precision: 0.6085 - val_recall: 0.5534 - 244s/epoch - 652ms/step\n",
      "Epoch 3/20\n",
      "375/375 - 240s - loss: 0.5616 - accuracy: 0.7013 - auc: 0.7655 - precision: 0.6714 - recall: 0.5388 - val_loss: 0.5866 - val_accuracy: 0.6897 - val_auc: 0.7351 - val_precision: 0.6520 - val_recall: 0.5275 - 240s/epoch - 641ms/step\n",
      "Epoch 4/20\n",
      "375/375 - 243s - loss: 0.4939 - accuracy: 0.7540 - auc: 0.8304 - precision: 0.7371 - recall: 0.6262 - val_loss: 0.6358 - val_accuracy: 0.6844 - val_auc: 0.7355 - val_precision: 0.6682 - val_recall: 0.4628 - 243s/epoch - 647ms/step\n",
      "Epoch 5/20\n",
      "375/375 - 241s - loss: 0.4163 - accuracy: 0.8063 - auc: 0.8867 - precision: 0.7942 - recall: 0.7152 - val_loss: 0.6425 - val_accuracy: 0.6818 - val_auc: 0.7403 - val_precision: 0.6182 - val_recall: 0.5922 - 241s/epoch - 642ms/step\n",
      "Epoch 6/20\n",
      "375/375 - 241s - loss: 0.3449 - accuracy: 0.8463 - auc: 0.9263 - precision: 0.8276 - recall: 0.7921 - val_loss: 0.6600 - val_accuracy: 0.6804 - val_auc: 0.7319 - val_precision: 0.6186 - val_recall: 0.5825 - 241s/epoch - 644ms/step\n",
      "Epoch 7/20\n",
      "375/375 - 241s - loss: 0.2920 - accuracy: 0.8817 - auc: 0.9486 - precision: 0.8743 - recall: 0.8325 - val_loss: 0.7337 - val_accuracy: 0.6684 - val_auc: 0.7401 - val_precision: 0.6230 - val_recall: 0.4919 - 241s/epoch - 644ms/step\n",
      "Epoch 8/20\n",
      "375/375 - 242s - loss: 0.2411 - accuracy: 0.9043 - auc: 0.9662 - precision: 0.8957 - recall: 0.8689 - val_loss: 0.7639 - val_accuracy: 0.6844 - val_auc: 0.7464 - val_precision: 0.6268 - val_recall: 0.5761 - 242s/epoch - 646ms/step\n"
     ]
    },
    {
     "data": {
      "text/html": [],
      "text/plain": [
       "<IPython.core.display.HTML object>"
      ]
     },
     "metadata": {},
     "output_type": "display_data"
    },
    {
     "data": {
      "text/html": [
       "<br>    <style><br>        .wandb-row {<br>            display: flex;<br>            flex-direction: row;<br>            flex-wrap: wrap;<br>            justify-content: flex-start;<br>            width: 100%;<br>        }<br>        .wandb-col {<br>            display: flex;<br>            flex-direction: column;<br>            flex-basis: 100%;<br>            flex: 1;<br>            padding: 10px;<br>        }<br>    </style><br><div class=\"wandb-row\"><div class=\"wandb-col\"><h3>Run history:</h3><br/><table class=\"wandb\"><tr><td>epoch/accuracy</td><td>▁▂▃▄▆▇▇█</td></tr><tr><td>epoch/auc</td><td>▁▃▄▅▆▇██</td></tr><tr><td>epoch/epoch</td><td>▁▂▃▄▅▆▇█</td></tr><tr><td>epoch/learning_rate</td><td>▁▁▁▁▁▁▁▁</td></tr><tr><td>epoch/loss</td><td>█▇▆▅▄▃▂▁</td></tr><tr><td>epoch/precision</td><td>▁▂▃▅▆▇██</td></tr><tr><td>epoch/recall</td><td>▁▃▄▅▆▇██</td></tr><tr><td>epoch/val_accuracy</td><td>▁▅█▇▇▇▅▇</td></tr><tr><td>epoch/val_auc</td><td>▁▄▆▆▇▆▇█</td></tr><tr><td>epoch/val_loss</td><td>▃▂▁▃▃▄▇█</td></tr><tr><td>epoch/val_precision</td><td>▄▁▆█▂▂▃▃</td></tr><tr><td>epoch/val_recall</td><td>▁▇▆▄██▅█</td></tr></table><br/></div><div class=\"wandb-col\"><h3>Run summary:</h3><br/><table class=\"wandb\"><tr><td>epoch/accuracy</td><td>0.90433</td></tr><tr><td>epoch/auc</td><td>0.96616</td></tr><tr><td>epoch/epoch</td><td>7</td></tr><tr><td>epoch/learning_rate</td><td>0.00047</td></tr><tr><td>epoch/loss</td><td>0.24107</td></tr><tr><td>epoch/precision</td><td>0.89575</td></tr><tr><td>epoch/recall</td><td>0.86893</td></tr><tr><td>epoch/val_accuracy</td><td>0.68442</td></tr><tr><td>epoch/val_auc</td><td>0.74635</td></tr><tr><td>epoch/val_loss</td><td>0.76393</td></tr><tr><td>epoch/val_precision</td><td>0.62676</td></tr><tr><td>epoch/val_recall</td><td>0.57605</td></tr></table><br/></div></div>"
      ],
      "text/plain": [
       "<IPython.core.display.HTML object>"
      ]
     },
     "metadata": {},
     "output_type": "display_data"
    },
    {
     "data": {
      "text/html": [
       " View run <strong style=\"color:#cdcd00\">amber-sweep-7</strong> at: <a href='https://wandb.ai/tkshfj-bsc-computer-science-university-of-london/baseline_part_2_cnn_2_conv_layers_dropout/runs/445nyfpk' target=\"_blank\">https://wandb.ai/tkshfj-bsc-computer-science-university-of-london/baseline_part_2_cnn_2_conv_layers_dropout/runs/445nyfpk</a><br> View project at: <a href='https://wandb.ai/tkshfj-bsc-computer-science-university-of-london/baseline_part_2_cnn_2_conv_layers_dropout' target=\"_blank\">https://wandb.ai/tkshfj-bsc-computer-science-university-of-london/baseline_part_2_cnn_2_conv_layers_dropout</a><br>Synced 5 W&B file(s), 0 media file(s), 0 artifact file(s) and 0 other file(s)"
      ],
      "text/plain": [
       "<IPython.core.display.HTML object>"
      ]
     },
     "metadata": {},
     "output_type": "display_data"
    },
    {
     "data": {
      "text/html": [
       "Find logs at: <code>./wandb/run-20250601_131735-445nyfpk/logs</code>"
      ],
      "text/plain": [
       "<IPython.core.display.HTML object>"
      ]
     },
     "metadata": {},
     "output_type": "display_data"
    },
    {
     "name": "stderr",
     "output_type": "stream",
     "text": [
      "\u001b[34m\u001b[1mwandb\u001b[0m: Agent Starting Run: g2qrmf46 with config:\n",
      "\u001b[34m\u001b[1mwandb\u001b[0m: \tbatch_size: 32\n",
      "\u001b[34m\u001b[1mwandb\u001b[0m: \tdropout: 0.4930642463538375\n",
      "\u001b[34m\u001b[1mwandb\u001b[0m: \tepochs: 20\n",
      "\u001b[34m\u001b[1mwandb\u001b[0m: \tfilters: 32\n",
      "\u001b[34m\u001b[1mwandb\u001b[0m: \tkernel_size: 5\n",
      "\u001b[34m\u001b[1mwandb\u001b[0m: \tlearning_rate: 0.00029753557415611857\n"
     ]
    },
    {
     "data": {
      "text/html": [
       "Ignoring project 'baseline_part_2_cnn_2_conv_layers_dropout' when running a sweep."
      ],
      "text/plain": [
       "<IPython.core.display.HTML object>"
      ]
     },
     "metadata": {},
     "output_type": "display_data"
    },
    {
     "data": {
      "text/html": [
       "Tracking run with wandb version 0.19.11"
      ],
      "text/plain": [
       "<IPython.core.display.HTML object>"
      ]
     },
     "metadata": {},
     "output_type": "display_data"
    },
    {
     "data": {
      "text/html": [
       "Run data is saved locally in <code>/home/tkshfj/repository/MMG/notebooks/wandb/run-20250601_135005-g2qrmf46</code>"
      ],
      "text/plain": [
       "<IPython.core.display.HTML object>"
      ]
     },
     "metadata": {},
     "output_type": "display_data"
    },
    {
     "data": {
      "text/html": [
       "Syncing run <strong><a href='https://wandb.ai/tkshfj-bsc-computer-science-university-of-london/baseline_part_2_cnn_2_conv_layers_dropout/runs/g2qrmf46' target=\"_blank\">peach-sweep-8</a></strong> to <a href='https://wandb.ai/tkshfj-bsc-computer-science-university-of-london/baseline_part_2_cnn_2_conv_layers_dropout' target=\"_blank\">Weights & Biases</a> (<a href='https://wandb.me/developer-guide' target=\"_blank\">docs</a>)<br>Sweep page: <a href='https://wandb.ai/tkshfj-bsc-computer-science-university-of-london/baseline_part_2_cnn_2_conv_layers_dropout/sweeps/n900onl4' target=\"_blank\">https://wandb.ai/tkshfj-bsc-computer-science-university-of-london/baseline_part_2_cnn_2_conv_layers_dropout/sweeps/n900onl4</a>"
      ],
      "text/plain": [
       "<IPython.core.display.HTML object>"
      ]
     },
     "metadata": {},
     "output_type": "display_data"
    },
    {
     "data": {
      "text/html": [
       " View project at <a href='https://wandb.ai/tkshfj-bsc-computer-science-university-of-london/baseline_part_2_cnn_2_conv_layers_dropout' target=\"_blank\">https://wandb.ai/tkshfj-bsc-computer-science-university-of-london/baseline_part_2_cnn_2_conv_layers_dropout</a>"
      ],
      "text/plain": [
       "<IPython.core.display.HTML object>"
      ]
     },
     "metadata": {},
     "output_type": "display_data"
    },
    {
     "data": {
      "text/html": [
       " View sweep at <a href='https://wandb.ai/tkshfj-bsc-computer-science-university-of-london/baseline_part_2_cnn_2_conv_layers_dropout/sweeps/n900onl4' target=\"_blank\">https://wandb.ai/tkshfj-bsc-computer-science-university-of-london/baseline_part_2_cnn_2_conv_layers_dropout/sweeps/n900onl4</a>"
      ],
      "text/plain": [
       "<IPython.core.display.HTML object>"
      ]
     },
     "metadata": {},
     "output_type": "display_data"
    },
    {
     "data": {
      "text/html": [
       " View run at <a href='https://wandb.ai/tkshfj-bsc-computer-science-university-of-london/baseline_part_2_cnn_2_conv_layers_dropout/runs/g2qrmf46' target=\"_blank\">https://wandb.ai/tkshfj-bsc-computer-science-university-of-london/baseline_part_2_cnn_2_conv_layers_dropout/runs/g2qrmf46</a>"
      ],
      "text/plain": [
       "<IPython.core.display.HTML object>"
      ]
     },
     "metadata": {},
     "output_type": "display_data"
    },
    {
     "name": "stdout",
     "output_type": "stream",
     "text": [
      "Epoch 1/20\n",
      "375/375 - 241s - loss: 0.6606 - accuracy: 0.6060 - auc: 0.6095 - precision: 0.5388 - recall: 0.3034 - val_loss: 0.6443 - val_accuracy: 0.6138 - val_auc: 0.6548 - val_precision: 0.5397 - val_recall: 0.4175 - 241s/epoch - 643ms/step\n",
      "Epoch 2/20\n",
      "375/375 - 240s - loss: 0.6214 - accuracy: 0.6500 - auc: 0.6894 - precision: 0.6074 - recall: 0.4256 - val_loss: 0.6157 - val_accuracy: 0.6445 - val_auc: 0.6984 - val_precision: 0.6094 - val_recall: 0.3786 - 240s/epoch - 641ms/step\n",
      "Epoch 3/20\n",
      "375/375 - 242s - loss: 0.5892 - accuracy: 0.6853 - auc: 0.7338 - precision: 0.6567 - recall: 0.4951 - val_loss: 0.6213 - val_accuracy: 0.6525 - val_auc: 0.6999 - val_precision: 0.6165 - val_recall: 0.4110 - 242s/epoch - 644ms/step\n",
      "Epoch 4/20\n",
      "375/375 - 239s - loss: 0.5492 - accuracy: 0.7140 - auc: 0.7803 - precision: 0.6913 - recall: 0.5526 - val_loss: 0.6147 - val_accuracy: 0.6831 - val_auc: 0.7201 - val_precision: 0.6164 - val_recall: 0.6084 - 239s/epoch - 638ms/step\n",
      "Epoch 5/20\n",
      "375/375 - 239s - loss: 0.5091 - accuracy: 0.7483 - auc: 0.8219 - precision: 0.7342 - recall: 0.6100 - val_loss: 0.6180 - val_accuracy: 0.6844 - val_auc: 0.7168 - val_precision: 0.6406 - val_recall: 0.5307 - 239s/epoch - 637ms/step\n",
      "Epoch 6/20\n",
      "375/375 - 239s - loss: 0.4640 - accuracy: 0.7757 - auc: 0.8555 - precision: 0.7561 - recall: 0.6723 - val_loss: 0.6171 - val_accuracy: 0.6884 - val_auc: 0.7440 - val_precision: 0.6518 - val_recall: 0.5210 - 239s/epoch - 637ms/step\n",
      "Epoch 7/20\n",
      "375/375 - 240s - loss: 0.4155 - accuracy: 0.8083 - auc: 0.8888 - precision: 0.7933 - recall: 0.7233 - val_loss: 0.6534 - val_accuracy: 0.6631 - val_auc: 0.7247 - val_precision: 0.6373 - val_recall: 0.4207 - 240s/epoch - 641ms/step\n",
      "Epoch 8/20\n"
     ]
    },
    {
     "name": "stderr",
     "output_type": "stream",
     "text": [
      "\u001b[34m\u001b[1mwandb\u001b[0m: Network error (ReadTimeout), entering retry loop.\n"
     ]
    },
    {
     "name": "stdout",
     "output_type": "stream",
     "text": [
      "375/375 - 241s - loss: 0.3688 - accuracy: 0.8317 - auc: 0.9149 - precision: 0.8170 - recall: 0.7621 - val_loss: 0.7062 - val_accuracy: 0.6644 - val_auc: 0.7234 - val_precision: 0.6313 - val_recall: 0.4434 - 241s/epoch - 642ms/step\n",
      "Epoch 9/20\n",
      "375/375 - 241s - loss: 0.3289 - accuracy: 0.8620 - auc: 0.9346 - precision: 0.8489 - recall: 0.8091 - val_loss: 0.7177 - val_accuracy: 0.6791 - val_auc: 0.7391 - val_precision: 0.5983 - val_recall: 0.6699 - 241s/epoch - 643ms/step\n"
     ]
    },
    {
     "data": {
      "text/html": [],
      "text/plain": [
       "<IPython.core.display.HTML object>"
      ]
     },
     "metadata": {},
     "output_type": "display_data"
    },
    {
     "data": {
      "text/html": [
       "<br>    <style><br>        .wandb-row {<br>            display: flex;<br>            flex-direction: row;<br>            flex-wrap: wrap;<br>            justify-content: flex-start;<br>            width: 100%;<br>        }<br>        .wandb-col {<br>            display: flex;<br>            flex-direction: column;<br>            flex-basis: 100%;<br>            flex: 1;<br>            padding: 10px;<br>        }<br>    </style><br><div class=\"wandb-row\"><div class=\"wandb-col\"><h3>Run history:</h3><br/><table class=\"wandb\"><tr><td>epoch/accuracy</td><td>▁▂▃▄▅▆▇▇█</td></tr><tr><td>epoch/auc</td><td>▁▃▄▅▆▆▇██</td></tr><tr><td>epoch/epoch</td><td>▁▂▃▄▅▅▆▇█</td></tr><tr><td>epoch/learning_rate</td><td>▁▁▁▁▁▁▁▁▁</td></tr><tr><td>epoch/loss</td><td>█▇▆▆▅▄▃▂▁</td></tr><tr><td>epoch/precision</td><td>▁▃▄▄▅▆▇▇█</td></tr><tr><td>epoch/recall</td><td>▁▃▄▄▅▆▇▇█</td></tr><tr><td>epoch/val_accuracy</td><td>▁▄▅▇██▆▆▇</td></tr><tr><td>epoch/val_auc</td><td>▁▄▅▆▆█▆▆█</td></tr><tr><td>epoch/val_loss</td><td>▃▁▁▁▁▁▄▇█</td></tr><tr><td>epoch/val_precision</td><td>▁▅▆▆▇█▇▇▅</td></tr><tr><td>epoch/val_recall</td><td>▂▁▂▇▅▄▂▃█</td></tr></table><br/></div><div class=\"wandb-col\"><h3>Run summary:</h3><br/><table class=\"wandb\"><tr><td>epoch/accuracy</td><td>0.862</td></tr><tr><td>epoch/auc</td><td>0.93458</td></tr><tr><td>epoch/epoch</td><td>8</td></tr><tr><td>epoch/learning_rate</td><td>0.0003</td></tr><tr><td>epoch/loss</td><td>0.32893</td></tr><tr><td>epoch/precision</td><td>0.8489</td></tr><tr><td>epoch/recall</td><td>0.80906</td></tr><tr><td>epoch/val_accuracy</td><td>0.67909</td></tr><tr><td>epoch/val_auc</td><td>0.7391</td></tr><tr><td>epoch/val_loss</td><td>0.71766</td></tr><tr><td>epoch/val_precision</td><td>0.59827</td></tr><tr><td>epoch/val_recall</td><td>0.6699</td></tr></table><br/></div></div>"
      ],
      "text/plain": [
       "<IPython.core.display.HTML object>"
      ]
     },
     "metadata": {},
     "output_type": "display_data"
    },
    {
     "data": {
      "text/html": [
       " View run <strong style=\"color:#cdcd00\">peach-sweep-8</strong> at: <a href='https://wandb.ai/tkshfj-bsc-computer-science-university-of-london/baseline_part_2_cnn_2_conv_layers_dropout/runs/g2qrmf46' target=\"_blank\">https://wandb.ai/tkshfj-bsc-computer-science-university-of-london/baseline_part_2_cnn_2_conv_layers_dropout/runs/g2qrmf46</a><br> View project at: <a href='https://wandb.ai/tkshfj-bsc-computer-science-university-of-london/baseline_part_2_cnn_2_conv_layers_dropout' target=\"_blank\">https://wandb.ai/tkshfj-bsc-computer-science-university-of-london/baseline_part_2_cnn_2_conv_layers_dropout</a><br>Synced 3 W&B file(s), 0 media file(s), 0 artifact file(s) and 0 other file(s)"
      ],
      "text/plain": [
       "<IPython.core.display.HTML object>"
      ]
     },
     "metadata": {},
     "output_type": "display_data"
    },
    {
     "data": {
      "text/html": [
       "Find logs at: <code>./wandb/run-20250601_135005-g2qrmf46/logs</code>"
      ],
      "text/plain": [
       "<IPython.core.display.HTML object>"
      ]
     },
     "metadata": {},
     "output_type": "display_data"
    },
    {
     "name": "stderr",
     "output_type": "stream",
     "text": [
      "\u001b[34m\u001b[1mwandb\u001b[0m: Agent Starting Run: w8e7m71s with config:\n",
      "\u001b[34m\u001b[1mwandb\u001b[0m: \tbatch_size: 16\n",
      "\u001b[34m\u001b[1mwandb\u001b[0m: \tdropout: 0.20054403345573107\n",
      "\u001b[34m\u001b[1mwandb\u001b[0m: \tepochs: 20\n",
      "\u001b[34m\u001b[1mwandb\u001b[0m: \tfilters: 16\n",
      "\u001b[34m\u001b[1mwandb\u001b[0m: \tkernel_size: 5\n",
      "\u001b[34m\u001b[1mwandb\u001b[0m: \tlearning_rate: 0.0007892618037507497\n",
      "\u001b[34m\u001b[1mwandb\u001b[0m: W&B API key is configured. Use \u001b[1m`wandb login --relogin`\u001b[0m to force relogin\n"
     ]
    },
    {
     "data": {
      "text/html": [
       "Ignoring project 'baseline_part_2_cnn_2_conv_layers_dropout' when running a sweep."
      ],
      "text/plain": [
       "<IPython.core.display.HTML object>"
      ]
     },
     "metadata": {},
     "output_type": "display_data"
    },
    {
     "data": {
      "text/html": [
       "creating run (1.5s)"
      ],
      "text/plain": [
       "<IPython.core.display.HTML object>"
      ]
     },
     "metadata": {},
     "output_type": "display_data"
    },
    {
     "data": {
      "text/html": [
       "Tracking run with wandb version 0.19.11"
      ],
      "text/plain": [
       "<IPython.core.display.HTML object>"
      ]
     },
     "metadata": {},
     "output_type": "display_data"
    },
    {
     "data": {
      "text/html": [
       "Run data is saved locally in <code>/home/tkshfj/repository/MMG/notebooks/wandb/run-20250601_143516-w8e7m71s</code>"
      ],
      "text/plain": [
       "<IPython.core.display.HTML object>"
      ]
     },
     "metadata": {},
     "output_type": "display_data"
    },
    {
     "data": {
      "text/html": [
       "Syncing run <strong><a href='https://wandb.ai/tkshfj-bsc-computer-science-university-of-london/baseline_part_2_cnn_2_conv_layers_dropout/runs/w8e7m71s' target=\"_blank\">stellar-sweep-9</a></strong> to <a href='https://wandb.ai/tkshfj-bsc-computer-science-university-of-london/baseline_part_2_cnn_2_conv_layers_dropout' target=\"_blank\">Weights & Biases</a> (<a href='https://wandb.me/developer-guide' target=\"_blank\">docs</a>)<br>Sweep page: <a href='https://wandb.ai/tkshfj-bsc-computer-science-university-of-london/baseline_part_2_cnn_2_conv_layers_dropout/sweeps/n900onl4' target=\"_blank\">https://wandb.ai/tkshfj-bsc-computer-science-university-of-london/baseline_part_2_cnn_2_conv_layers_dropout/sweeps/n900onl4</a>"
      ],
      "text/plain": [
       "<IPython.core.display.HTML object>"
      ]
     },
     "metadata": {},
     "output_type": "display_data"
    },
    {
     "data": {
      "text/html": [
       " View project at <a href='https://wandb.ai/tkshfj-bsc-computer-science-university-of-london/baseline_part_2_cnn_2_conv_layers_dropout' target=\"_blank\">https://wandb.ai/tkshfj-bsc-computer-science-university-of-london/baseline_part_2_cnn_2_conv_layers_dropout</a>"
      ],
      "text/plain": [
       "<IPython.core.display.HTML object>"
      ]
     },
     "metadata": {},
     "output_type": "display_data"
    },
    {
     "data": {
      "text/html": [
       " View sweep at <a href='https://wandb.ai/tkshfj-bsc-computer-science-university-of-london/baseline_part_2_cnn_2_conv_layers_dropout/sweeps/n900onl4' target=\"_blank\">https://wandb.ai/tkshfj-bsc-computer-science-university-of-london/baseline_part_2_cnn_2_conv_layers_dropout/sweeps/n900onl4</a>"
      ],
      "text/plain": [
       "<IPython.core.display.HTML object>"
      ]
     },
     "metadata": {},
     "output_type": "display_data"
    },
    {
     "data": {
      "text/html": [
       " View run at <a href='https://wandb.ai/tkshfj-bsc-computer-science-university-of-london/baseline_part_2_cnn_2_conv_layers_dropout/runs/w8e7m71s' target=\"_blank\">https://wandb.ai/tkshfj-bsc-computer-science-university-of-london/baseline_part_2_cnn_2_conv_layers_dropout/runs/w8e7m71s</a>"
      ],
      "text/plain": [
       "<IPython.core.display.HTML object>"
      ]
     },
     "metadata": {},
     "output_type": "display_data"
    },
    {
     "name": "stdout",
     "output_type": "stream",
     "text": [
      "Epoch 1/20\n",
      "375/375 - 241s - loss: 0.6663 - accuracy: 0.6047 - auc: 0.5961 - precision: 0.5418 - recall: 0.2621 - val_loss: 0.6454 - val_accuracy: 0.5992 - val_auc: 0.6597 - val_precision: 0.5392 - val_recall: 0.1780 - 241s/epoch - 643ms/step\n",
      "Epoch 2/20\n",
      "375/375 - 241s - loss: 0.6249 - accuracy: 0.6493 - auc: 0.6874 - precision: 0.6082 - recall: 0.4183 - val_loss: 0.6302 - val_accuracy: 0.6498 - val_auc: 0.6823 - val_precision: 0.5913 - val_recall: 0.4822 - 241s/epoch - 641ms/step\n",
      "Epoch 3/20\n",
      "375/375 - 242s - loss: 0.5668 - accuracy: 0.7027 - auc: 0.7624 - precision: 0.6748 - recall: 0.5372 - val_loss: 0.6156 - val_accuracy: 0.6511 - val_auc: 0.7028 - val_precision: 0.5751 - val_recall: 0.5825 - 242s/epoch - 645ms/step\n",
      "Epoch 4/20\n",
      "375/375 - 240s - loss: 0.5061 - accuracy: 0.7510 - auc: 0.8201 - precision: 0.7296 - recall: 0.6286 - val_loss: 0.6108 - val_accuracy: 0.6751 - val_auc: 0.7336 - val_precision: 0.6265 - val_recall: 0.5210 - 240s/epoch - 641ms/step\n",
      "Epoch 5/20\n",
      "375/375 - 241s - loss: 0.4294 - accuracy: 0.8010 - auc: 0.8792 - precision: 0.7855 - recall: 0.7112 - val_loss: 0.6737 - val_accuracy: 0.6804 - val_auc: 0.7333 - val_precision: 0.6042 - val_recall: 0.6472 - 241s/epoch - 643ms/step\n",
      "Epoch 6/20\n",
      "375/375 - 239s - loss: 0.3707 - accuracy: 0.8347 - auc: 0.9118 - precision: 0.8157 - recall: 0.7735 - val_loss: 0.6802 - val_accuracy: 0.6711 - val_auc: 0.7285 - val_precision: 0.6047 - val_recall: 0.5793 - 239s/epoch - 637ms/step\n",
      "Epoch 7/20\n",
      "375/375 - 241s - loss: 0.3166 - accuracy: 0.8640 - auc: 0.9379 - precision: 0.8456 - recall: 0.8196 - val_loss: 0.7701 - val_accuracy: 0.6698 - val_auc: 0.7311 - val_precision: 0.5927 - val_recall: 0.6311 - 241s/epoch - 644ms/step\n",
      "Epoch 8/20\n",
      "375/375 - 241s - loss: 0.2568 - accuracy: 0.8917 - auc: 0.9608 - precision: 0.8780 - recall: 0.8560 - val_loss: 0.8217 - val_accuracy: 0.6724 - val_auc: 0.7312 - val_precision: 0.6105 - val_recall: 0.5631 - 241s/epoch - 642ms/step\n",
      "Epoch 9/20\n",
      "375/375 - 239s - loss: 0.2171 - accuracy: 0.9143 - auc: 0.9720 - precision: 0.9042 - recall: 0.8859 - val_loss: 0.9200 - val_accuracy: 0.6804 - val_auc: 0.7256 - val_precision: 0.6075 - val_recall: 0.6311 - 239s/epoch - 638ms/step\n"
     ]
    },
    {
     "data": {
      "text/html": [
       "uploading history steps 5-8, summary, console lines 11-17 (2.9m)"
      ],
      "text/plain": [
       "<IPython.core.display.HTML object>"
      ]
     },
     "metadata": {},
     "output_type": "display_data"
    },
    {
     "name": "stderr",
     "output_type": "stream",
     "text": [
      "\u001b[34m\u001b[1mwandb\u001b[0m: Ctrl + C detected. Stopping sweep.\n"
     ]
    },
    {
     "name": "stderr",
     "output_type": "stream",
     "text": [
      "\u001b[34m\u001b[1mwandb\u001b[0m: \u001b[32m\u001b[41mERROR\u001b[0m Problem finishing run\n"
     ]
    }
   ],
   "source": [
    "import wandb\n",
    "import tensorflow as tf\n",
    "from tensorflow.keras import layers, models\n",
    "from tensorflow.keras.callbacks import EarlyStopping\n",
    "from tensorflow.data import AUTOTUNE\n",
    "import os\n",
    "\n",
    "# Build a CNN model with 2 convolutional layers and dropout\n",
    "def build_model(input_shape, filters=32, kernel_size=3, dropout=0.3):\n",
    "    model = models.Sequential([\n",
    "        layers.Conv2D(filters, kernel_size, activation='relu', input_shape=input_shape),\n",
    "        layers.MaxPooling2D(2),\n",
    "        layers.Conv2D(filters*2, kernel_size, activation='relu'),\n",
    "        layers.MaxPooling2D(2),\n",
    "        layers.Flatten(),\n",
    "        layers.Dropout(dropout),\n",
    "        layers.Dense(1, activation='sigmoid')\n",
    "    ])\n",
    "    return model\n",
    "\n",
    "# Main training function\n",
    "def train():\n",
    "    # Initialize wandb\n",
    "    wandb.init(project=\"baseline_part_2_cnn_2_conv_layers_dropout\")\n",
    "    config = wandb.config\n",
    "\n",
    "    # Data loading\n",
    "    metadata = pd.read_csv(\"../data/processed/cbis_ddsm_metadata_full.csv\")\n",
    "    # Split\n",
    "    train_meta, val_meta = train_test_split(metadata, test_size=0.2, stratify=metadata['label'], random_state=42)\n",
    "    train_meta.to_csv(\"../temporary/train_split.csv\", index=False)\n",
    "    val_meta.to_csv(\"../temporary/val_split.csv\", index=False)\n",
    "    # Build datasets\n",
    "    train_ds = build_tf_dataset(metadata_csv=\"../temporary/train_split.csv\", batch_size=8)\n",
    "    val_ds = build_tf_dataset(metadata_csv=\"../temporary/val_split.csv\", batch_size=8)\n",
    "    train_ds = train_ds.map(lambda x, y: (x, y[\"classification\"])).prefetch(AUTOTUNE)\n",
    "    val_ds = val_ds.map(lambda x, y: (x, y[\"classification\"])).prefetch(AUTOTUNE)\n",
    "\n",
    "    # Build the model with sweep config values\n",
    "    model = build_model(\n",
    "        input_shape=(224, 224, 1),           # <-- replace with your true input shape\n",
    "        filters=config.filters,\n",
    "        kernel_size=config.kernel_size,\n",
    "        dropout=config.dropout\n",
    "    )\n",
    "\n",
    "    # Compile the model\n",
    "    model.compile(\n",
    "        optimizer=tf.keras.optimizers.Adam(learning_rate=config.learning_rate),\n",
    "        loss=\"binary_crossentropy\",\n",
    "        metrics=[\"accuracy\", tf.keras.metrics.AUC(name=\"auc\"),\n",
    "                 tf.keras.metrics.Precision(name=\"precision\"),\n",
    "                 tf.keras.metrics.Recall(name=\"recall\")]\n",
    "    )\n",
    "\n",
    "    # Train\n",
    "    model.fit(\n",
    "        train_ds,\n",
    "        validation_data=val_ds,\n",
    "        epochs=config.epochs,\n",
    "        batch_size=config.batch_size,\n",
    "        callbacks=[\n",
    "            wandb.keras.WandbMetricsLogger(),\n",
    "            EarlyStopping(patience=5, monitor=\"val_loss\", restore_best_weights=True)\n",
    "        ],\n",
    "        verbose=2\n",
    "    )\n",
    "\n",
    "# Sweep configuration (as a Python dict, or save as sweep.yaml)\n",
    "sweep_config = {\n",
    "    \"method\": \"bayes\",  # or \"random\", \"grid\"\n",
    "    \"metric\": {\"name\": \"val_auc\", \"goal\": \"maximize\"},\n",
    "    \"parameters\": {\n",
    "        \"learning_rate\": {\"min\": 1e-5, \"max\": 1e-3},\n",
    "        \"batch_size\": {\"values\": [8, 16, 32]},\n",
    "        \"filters\": {\"values\": [16, 32, 64]},\n",
    "        \"kernel_size\": {\"values\": [3, 5]},\n",
    "        \"dropout\": {\"min\": 0.0, \"max\": 0.5},\n",
    "        \"epochs\": {\"value\": 20}\n",
    "    }\n",
    "}\n",
    "\n",
    "# Launch the sweep\n",
    "import wandb\n",
    "\n",
    "sweep_id = wandb.sweep(sweep_config, project=\"baseline_part_2_cnn_2_conv_layers_dropout\")\n",
    "wandb.agent(sweep_id, function=train)\n"
   ]
  },
  {
   "cell_type": "markdown",
   "id": "b00b6be8",
   "metadata": {},
   "source": []
  },
  {
   "cell_type": "code",
   "execution_count": null,
   "id": "ebf95eb0",
   "metadata": {},
   "outputs": [],
   "source": [
    "# def build_shallow_cnn_dropout(input_shape=INPUT_SHAPE, num_classes=2):\n",
    "#     model = models.Sequential([\n",
    "#         layers.Conv2D(32, (3, 3), activation='relu', input_shape=input_shape),\n",
    "#         layers.MaxPooling2D((2, 2)),\n",
    "#         layers.Conv2D(64, (3, 3), activation='relu'),\n",
    "#         layers.MaxPooling2D((2, 2)),\n",
    "#         layers.Flatten(),\n",
    "#         layers.Dense(64, activation='relu'),\n",
    "#         layers.Dropout(0.5),  # Dropout layer added\n",
    "#         layers.Dense(num_classes, activation='softmax')\n",
    "#     ])\n",
    "#     return model"
   ]
  },
  {
   "cell_type": "markdown",
   "id": "575de12e",
   "metadata": {},
   "source": [
    "### Part 3: CNN with 2 Conv Layers + Data Augmentation\n",
    "  Building on Part 2, data augmentation techniques are introduced during the training phase. Methods such as random rotations, translations, zooms, and horizontal flips are applied to the input images, artificially increasing the diversity of the training set and further reducing the risk of overfitting."
   ]
  },
  {
   "cell_type": "markdown",
   "id": "3c01b265",
   "metadata": {},
   "source": [
    "We apply data augmentation to your data pipeline to enhance the model's robustness and generalization capabilities. This involves applying transformations such as random rotations, shifts, zooms, and flips to the training images, which helps the model learn invariant features and improves its performance on unseen data."
   ]
  },
  {
   "cell_type": "code",
   "execution_count": null,
   "id": "af035419",
   "metadata": {},
   "outputs": [],
   "source": [
    "# from tensorflow.keras.preprocessing.image import ImageDataGenerator\n",
    "\n",
    "# # Example of setting up data augmentation for training data\n",
    "# train_datagen = ImageDataGenerator(\n",
    "#     rescale=1./255,\n",
    "#     rotation_range=15,\n",
    "#     width_shift_range=0.1,\n",
    "#     height_shift_range=0.1,\n",
    "#     shear_range=0.1,\n",
    "#     zoom_range=0.1,\n",
    "#     horizontal_flip=True,\n",
    "#     fill_mode='nearest'\n",
    "# )\n",
    "\n",
    "# # For validation/test, only rescale\n",
    "# val_datagen = ImageDataGenerator(rescale=1./255)\n",
    "\n",
    "# # Example:\n",
    "# # train_generator = train_datagen.flow_from_directory(\n",
    "# #     'data/train',\n",
    "# #     target_size=(224, 224),\n",
    "# #     batch_size=32,\n",
    "# #     class_mode='categorical',  # or 'binary'\n",
    "# #     color_mode='grayscale',    # if images are grayscale\n",
    "# # )\n",
    "\n",
    "# # Use the same model as Part 2 (with dropout)\n",
    "# model = build_shallow_cnn_dropout(input_shape=INPUT_SHAPE, num_classes=2)\n"
   ]
  }
 ],
 "metadata": {
  "kernelspec": {
   "display_name": ".venv",
   "language": "python",
   "name": "python3"
  },
  "language_info": {
   "codemirror_mode": {
    "name": "ipython",
    "version": 3
   },
   "file_extension": ".py",
   "mimetype": "text/x-python",
   "name": "python",
   "nbconvert_exporter": "python",
   "pygments_lexer": "ipython3",
   "version": "3.10.12"
  }
 },
 "nbformat": 4,
 "nbformat_minor": 5
}
