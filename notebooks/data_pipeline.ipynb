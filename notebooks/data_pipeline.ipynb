{
 "cells": [
  {
   "cell_type": "markdown",
   "id": "9f37b9ea",
   "metadata": {},
   "source": [
    "## Preprocessing Pipeline"
   ]
  },
  {
   "cell_type": "markdown",
   "id": "6e220975",
   "metadata": {},
   "source": [
    "### Consolidate metadata CSV files"
   ]
  },
  {
   "cell_type": "markdown",
   "id": "fb88faec",
   "metadata": {},
   "source": [
    "The four separately provided CBIS-DDSM metadata files contain critical clinical information—such as BI-RADS category, pathology, assessment, and lesion subtlety—that are not embedded in the DICOM files or their folder names.\n",
    "\n",
    "- data/metadata/calc_case_description_test_set.csv\n",
    "- data/metadata/calc_case_description_train_set.csv\n",
    "- data/metadata/mass_case_description_test_set.csv\n",
    "- data/metadata/mass_case_description_train_set.csv\n",
    "\n",
    "Each rows contains the following columns:\n",
    "\n",
    "- Patient ID: `P_00038` — Unique patient identifier.\n",
    "- Breast Side: `LEFT` — Left breast.\n",
    "- Image View: `CC` or `MLO` — Standard cranio-caudal or mediolateral oblique view used in mammography.\n",
    "- Breast Density: `2`\n",
    "- Abnormality ID: `1`\n",
    "- Abnormality Type: `calcification` — Specifically dealing with microcalcifications.\n",
    "- Calcification Type: `PUNCTATE-PLEOMORPHIC` — Mixed types, suggesting variable morphology.\n",
    "- Calcification Distribution: `CLUSTERED` — Clustered microcalcifications, often suspicious.\n",
    "- Assessment: `4` — BI-RADS 4, suspicious abnormality; biopsy usually recommended.\n",
    "- Pathology: `BENIGN` — Biopsy/pathology confirmed the finding as benign.\n",
    "- Subtlety: `2` — Fairly subtle (1 = very subtle, 5 = very obvious).\n",
    "- Image Files:\n",
    "  - Original Image Path: Full mammogram DICOM.\n",
    "    Calc-Test_P_00038_LEFT_CC/1.3.6.1.4.1.9590.100.1.2.85935434310203356712688695661986996009/1.3.6.1.4.1.9590.100.1.2.374115997511889073021386151921807063992/000000.dcm\n",
    "  - Cropped Image Path: Focused region where calcifications are.\n",
    "    Calc-Test_P_00038_LEFT_CC_1/1.3.6.1.4.1.9590.100.1.2.161465562211359959230647609981488894942/1.3.6.1.4.1.9590.100.1.2.419081637812053404913157930753972718515/000001.dcm\n",
    "  - ROI Mask Path: Binary mask of the calcifications (region of interest).\n",
    "    Calc-Test_P_00038_LEFT_CC_1/1.3.6.1.4.1.9590.100.1.2.161465562211359959230647609981488894942/1.3.6.1.4.1.9590.100.1.2.419081637812053404913157930753972718515/000000.dcm"
   ]
  },
  {
   "cell_type": "markdown",
   "id": "3b46957c",
   "metadata": {},
   "source": [
    "The following script reads and merges the metadata CSV files, cleans weird paths, adds missing fields where needed and exports everything into a properly formatted metadata_master.csv."
   ]
  },
  {
   "cell_type": "code",
   "execution_count": null,
   "id": "b992d78a",
   "metadata": {},
   "outputs": [
    {
     "name": "stdout",
     "output_type": "stream",
     "text": [
      "Master metadata CSV created: metadata_master.csv\n"
     ]
    }
   ],
   "source": [
    "import pandas as pd\n",
    "import csv\n",
    "from pathlib import Path\n",
    "\n",
    "# Input CSV files\n",
    "input_files = [\n",
    "    '../data/metadata/calc_case_description_test_set.csv',\n",
    "    '../data/metadata/calc_case_description_train_set.csv',\n",
    "    '../data/metadata/mass_case_description_test_set.csv',\n",
    "    '../data/metadata/mass_case_description_train_set.csv'\n",
    "]\n",
    "\n",
    "# Read CSVs by properly handling malformed newlines and all the data cleanly kept.\n",
    "dfs = []\n",
    "for file in input_files:\n",
    "    df = pd.read_csv(\n",
    "        file,\n",
    "        engine=\"python\",        # Use Python engine to properly handle malformed newlines\n",
    "        quoting=csv.QUOTE_MINIMAL, # Respect quotes\n",
    "        skip_blank_lines=True   # Optional: Skip totally blank lines\n",
    "    )\n",
    "    dfs.append(df)\n",
    "\n",
    "# Concatenate all together\n",
    "metadata = pd.concat(dfs, ignore_index=True)\n",
    "\n",
    "# Mapping\n",
    "metadata = metadata.rename(columns={\n",
    "    'patient_id': 'patient_id',\n",
    "    'left or right breast': 'side',\n",
    "    'image view': 'view',\n",
    "    'abnormality id': 'abnormality_id',\n",
    "    'abnormality type': 'abnormality_type',\n",
    "    'calc type': 'calc_type',\n",
    "    'calc distribution': 'distribution',\n",
    "    'mass shape': 'mass_shape',\n",
    "    'mass margins': 'mass_margins',\n",
    "    'breast density': 'breast_density',\n",
    "    'assessment': 'assessment',\n",
    "    'pathology': 'pathology',\n",
    "    'subtlety': 'subtlety',\n",
    "    'image file path': 'full_mammo_path',\n",
    "    'cropped image file path': 'cropped_roi_path',\n",
    "    'ROI mask file path': 'roi_mask_path'\n",
    "})\n",
    "\n",
    "\n",
    "# Add missing columns (some rows are calcification, others are mass)\n",
    "for col in ['calc_type', 'distribution', 'mass_shape', 'mass_margins']:\n",
    "    if col not in metadata.columns:\n",
    "        metadata[col] = pd.NA\n",
    "\n",
    "# Normalize paths\n",
    "def fix_path(path):\n",
    "    if pd.isna(path):\n",
    "        return None\n",
    "    # Remove a newline character embedded inside the \"cropped image file path\" field.\n",
    "    path = path.strip().replace('\\\\', '/').replace('\\\"', '')\n",
    "    parts = Path(path).parts\n",
    "    if len(parts) < 4:\n",
    "        return path\n",
    "    parent_folder = parts[0]\n",
    "    subfolder = parts[1]\n",
    "    file_name = parts[-1]\n",
    "    return f'raw/{parent_folder}/{subfolder}/{file_name}'\n",
    "\n",
    "# Apply path fixer\n",
    "metadata['full_mammo_path'] = metadata['full_mammo_path'].apply(fix_path)\n",
    "metadata['cropped_roi_path'] = metadata['cropped_roi_path'].apply(fix_path)\n",
    "metadata['roi_mask_path'] = metadata['roi_mask_path'].apply(fix_path)\n",
    "\n",
    "# Select only needed columns\n",
    "final_cols = [\n",
    "    'patient_id', 'breast_density', 'side', 'view', 'abnormality_id',\n",
    "    'abnormality_type', 'calc_type', 'distribution', 'mass_shape', 'mass_margins',\n",
    "    'assessment', 'pathology', 'subtlety',\n",
    "    'full_mammo_path', 'cropped_roi_path', 'roi_mask_path'\n",
    "]\n",
    "metadata = metadata[final_cols]\n",
    "\n",
    "# Save to CSV\n",
    "metadata.to_csv('../data/metadata/metadata_master.csv', index=False)\n",
    "print('Master metadata CSV created: metadata_master.csv')"
   ]
  }
 ],
 "metadata": {
  "kernelspec": {
   "display_name": ".venv",
   "language": "python",
   "name": "python3"
  },
  "language_info": {
   "codemirror_mode": {
    "name": "ipython",
    "version": 3
   },
   "file_extension": ".py",
   "mimetype": "text/x-python",
   "name": "python",
   "nbconvert_exporter": "python",
   "pygments_lexer": "ipython3",
   "version": "3.10.12"
  }
 },
 "nbformat": 4,
 "nbformat_minor": 5
}
