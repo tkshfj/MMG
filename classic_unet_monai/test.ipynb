{
 "cells": [
  {
   "cell_type": "code",
   "execution_count": 2,
   "id": "49a19ae5",
   "metadata": {},
   "outputs": [
    {
     "name": "stdout",
     "output_type": "stream",
     "text": [
      "(286, 176) uint16\n"
     ]
    }
   ],
   "source": [
    "import pydicom\n",
    "try:\n",
    "    dcm = pydicom.dcmread(\"../data/raw/Calc-Training_P_00993_RIGHT_CC_1/09-06-2017-DDSM-NA-29665/1.000000-ROI mask images-58436/1-1.dcm\")\n",
    "    img = dcm.pixel_array\n",
    "    print(img.shape, img.dtype)\n",
    "except Exception as e:\n",
    "    print(\"DICOM load error:\", e)"
   ]
  },
  {
   "cell_type": "code",
   "execution_count": 2,
   "id": "99ed2ada",
   "metadata": {},
   "outputs": [
    {
     "name": "stdout",
     "output_type": "stream",
     "text": [
      "['AveragePrecisionMetric', 'ConfusionMatrixMetric', 'Cumulative', 'CumulativeAverage', 'CumulativeIterationMetric', 'DiceHelper', 'DiceMetric', 'FBetaScore', 'FIDMetric', 'GeneralizedDiceScore', 'HausdorffDistanceMetric', 'IterationMetric', 'LabelQualityScore', 'LossMetric', 'MAEMetric', 'MMDMetric', 'MSEMetric', 'MeanIoU', 'Metric', 'MetricsReloadedBinary', 'MetricsReloadedCategorical', 'MultiScaleSSIMMetric', 'PSNRMetric', 'PanopticQualityMetric', 'RMSEMetric', 'ROCAUCMetric', 'SSIMMetric', 'SurfaceDiceMetric', 'SurfaceDistanceMetric', 'VarianceMetric', '__builtins__', '__cached__', '__doc__', '__file__', '__loader__', '__name__', '__package__', '__path__', '__spec__', 'active_learning_metrics', 'annotations', 'average_precision', 'compute_average_precision', 'compute_average_surface_distance', 'compute_confusion_matrix_metric', 'compute_dice', 'compute_fp_tp_probs', 'compute_fp_tp_probs_nd', 'compute_frechet_distance', 'compute_froc_curve_data', 'compute_froc_score', 'compute_generalized_dice', 'compute_hausdorff_distance', 'compute_iou', 'compute_mmd', 'compute_ms_ssim', 'compute_panoptic_quality', 'compute_roc_auc', 'compute_ssim_and_cs', 'compute_surface_dice', 'compute_variance', 'confusion_matrix', 'cumulative_average', 'do_metric_reduction', 'f_beta_score', 'fid', 'froc', 'generalized_dice', 'get_confusion_matrix', 'get_mask_edges', 'get_surface_distance', 'hausdorff_distance', 'ignore_background', 'is_binary_tensor', 'label_quality_score', 'loss_metric', 'meandice', 'meaniou', 'metric', 'mmd', 'panoptic_quality', 'regression', 'rocauc', 'surface_dice', 'surface_distance', 'utils', 'wrapper']\n"
     ]
    }
   ],
   "source": [
    "import monai.metrics\n",
    "print(dir(monai.metrics))\n"
   ]
  }
 ],
 "metadata": {
  "kernelspec": {
   "display_name": ".venv",
   "language": "python",
   "name": "python3"
  },
  "language_info": {
   "codemirror_mode": {
    "name": "ipython",
    "version": 3
   },
   "file_extension": ".py",
   "mimetype": "text/x-python",
   "name": "python",
   "nbconvert_exporter": "python",
   "pygments_lexer": "ipython3",
   "version": "3.10.12"
  }
 },
 "nbformat": 4,
 "nbformat_minor": 5
}
