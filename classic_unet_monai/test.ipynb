{
 "cells": [
  {
   "cell_type": "code",
   "execution_count": 2,
   "id": "49a19ae5",
   "metadata": {},
   "outputs": [
    {
     "name": "stdout",
     "output_type": "stream",
     "text": [
      "(286, 176) uint16\n"
     ]
    }
   ],
   "source": [
    "import pydicom\n",
    "try:\n",
    "    dcm = pydicom.dcmread(\"../data/raw/Calc-Training_P_00993_RIGHT_CC_1/09-06-2017-DDSM-NA-29665/1.000000-ROI mask images-58436/1-1.dcm\")\n",
    "    img = dcm.pixel_array\n",
    "    print(img.shape, img.dtype)\n",
    "except Exception as e:\n",
    "    print(\"DICOM load error:\", e)"
   ]
  }
 ],
 "metadata": {
  "kernelspec": {
   "display_name": ".venv",
   "language": "python",
   "name": "python3"
  },
  "language_info": {
   "codemirror_mode": {
    "name": "ipython",
    "version": 3
   },
   "file_extension": ".py",
   "mimetype": "text/x-python",
   "name": "python",
   "nbconvert_exporter": "python",
   "pygments_lexer": "ipython3",
   "version": "3.10.12"
  }
 },
 "nbformat": 4,
 "nbformat_minor": 5
}
